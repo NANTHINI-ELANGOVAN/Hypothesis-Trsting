{
 "cells": [
  {
   "cell_type": "code",
   "execution_count": 653,
   "id": "d5667045",
   "metadata": {},
   "outputs": [],
   "source": [
    "import numpy as np\n",
    "import pandas as pd\n",
    "import matplotlib.pyplot as plt\n",
    "import seaborn as sns\n",
    "import scipy.stats as stats  #for the statistical tests\n",
    "from scipy import stats as stats\n",
    "from sklearn.preprocessing import LabelEncoder\n",
    "\n",
    "import ydata_profiling as pdl\n",
    "\n",
    "# set the graphs to show in the jupyter notebook\n",
    "%matplotlib inline\n",
    "\n",
    "# set seabor graphs to a better style\n",
    "sns.set(style=\"ticks\")\n",
    "\n",
    "sns.set_context('talk')\n",
    "\n",
    "\n",
    "# for better visualization\n",
    "plt.style.use('ggplot')\n",
    "\n",
    "\n",
    "#Remove warnings\n",
    "import warnings\n",
    "warnings.filterwarnings('ignore')"
   ]
  },
  {
   "cell_type": "markdown",
   "id": "0398fecd",
   "metadata": {},
   "source": [
    "## Background:\n",
    "The Lending Club is a peer-to-peer lending site where members make loans to\n",
    "each other. The site makes anonymized data on loans and borrowers publicly available."
   ]
  },
  {
   "cell_type": "markdown",
   "id": "18a439c8",
   "metadata": {},
   "source": [
    "### BUSINESS PROBLEM 1:\n",
    "Using lending club loans data, the team would like to test below hypothesis on how different\n",
    "factors effecing each other (Hint: You may leverage hypothesis testing using statistical tests)\n",
    "\n",
    "a. Intrest rate is varied for different loan amounts (Less intrest charged for high loan\n",
    "amounts)\n",
    "\n",
    "b. Loan length is directly effecting intrest rate.\n",
    "\n",
    "c. Inrest rate varies for different purpose of loans.\n",
    "\n",
    "d. There is relationship between FICO scores and Home Ownership. It means that, People\n",
    "with owning home will have high FICO scores."
   ]
  },
  {
   "cell_type": "markdown",
   "id": "87e3970a",
   "metadata": {},
   "source": [
    "#### Dataset"
   ]
  },
  {
   "cell_type": "code",
   "execution_count": 438,
   "id": "cf7356a0",
   "metadata": {},
   "outputs": [],
   "source": [
    "input_file_path = \"C:\\\\Projects\\\\EDA\\\\data\\\\input_files//\"\n",
    "input_file_name = \"LoansData.csv\"  \n",
    "input_file_path + input_file_name \n",
    "Loans_data = pd.read_csv(input_file_path + input_file_name )"
   ]
  },
  {
   "cell_type": "code",
   "execution_count": 439,
   "id": "37fe20d2",
   "metadata": {},
   "outputs": [
    {
     "data": {
      "text/plain": [
       "(2500, 14)"
      ]
     },
     "execution_count": 439,
     "metadata": {},
     "output_type": "execute_result"
    }
   ],
   "source": [
    "Loans_data.shape"
   ]
  },
  {
   "cell_type": "code",
   "execution_count": 441,
   "id": "eae8d27c",
   "metadata": {},
   "outputs": [
    {
     "data": {
      "text/html": [
       "<div>\n",
       "<style scoped>\n",
       "    .dataframe tbody tr th:only-of-type {\n",
       "        vertical-align: middle;\n",
       "    }\n",
       "\n",
       "    .dataframe tbody tr th {\n",
       "        vertical-align: top;\n",
       "    }\n",
       "\n",
       "    .dataframe thead th {\n",
       "        text-align: right;\n",
       "    }\n",
       "</style>\n",
       "<table border=\"1\" class=\"dataframe\">\n",
       "  <thead>\n",
       "    <tr style=\"text-align: right;\">\n",
       "      <th></th>\n",
       "      <th>Amount.Requested</th>\n",
       "      <th>Amount.Funded.By.Investors</th>\n",
       "      <th>Interest.Rate</th>\n",
       "      <th>Loan.Length</th>\n",
       "      <th>Loan.Purpose</th>\n",
       "      <th>Debt.To.Income.Ratio</th>\n",
       "      <th>State</th>\n",
       "      <th>Home.Ownership</th>\n",
       "      <th>Monthly.Income</th>\n",
       "      <th>FICO.Range</th>\n",
       "      <th>Open.CREDIT.Lines</th>\n",
       "      <th>Revolving.CREDIT.Balance</th>\n",
       "      <th>Inquiries.in.the.Last.6.Months</th>\n",
       "      <th>Employment.Length</th>\n",
       "    </tr>\n",
       "  </thead>\n",
       "  <tbody>\n",
       "    <tr>\n",
       "      <th>0</th>\n",
       "      <td>20000.0</td>\n",
       "      <td>20000.0</td>\n",
       "      <td>8.90%</td>\n",
       "      <td>36 months</td>\n",
       "      <td>debt_consolidation</td>\n",
       "      <td>14.90%</td>\n",
       "      <td>SC</td>\n",
       "      <td>MORTGAGE</td>\n",
       "      <td>6541.67</td>\n",
       "      <td>735-739</td>\n",
       "      <td>14.0</td>\n",
       "      <td>14272.0</td>\n",
       "      <td>2.0</td>\n",
       "      <td>&lt; 1 year</td>\n",
       "    </tr>\n",
       "    <tr>\n",
       "      <th>1</th>\n",
       "      <td>19200.0</td>\n",
       "      <td>19200.0</td>\n",
       "      <td>12.12%</td>\n",
       "      <td>36 months</td>\n",
       "      <td>debt_consolidation</td>\n",
       "      <td>28.36%</td>\n",
       "      <td>TX</td>\n",
       "      <td>MORTGAGE</td>\n",
       "      <td>4583.33</td>\n",
       "      <td>715-719</td>\n",
       "      <td>12.0</td>\n",
       "      <td>11140.0</td>\n",
       "      <td>1.0</td>\n",
       "      <td>2 years</td>\n",
       "    </tr>\n",
       "    <tr>\n",
       "      <th>2</th>\n",
       "      <td>35000.0</td>\n",
       "      <td>35000.0</td>\n",
       "      <td>21.98%</td>\n",
       "      <td>60 months</td>\n",
       "      <td>debt_consolidation</td>\n",
       "      <td>23.81%</td>\n",
       "      <td>CA</td>\n",
       "      <td>MORTGAGE</td>\n",
       "      <td>11500.00</td>\n",
       "      <td>690-694</td>\n",
       "      <td>14.0</td>\n",
       "      <td>21977.0</td>\n",
       "      <td>1.0</td>\n",
       "      <td>2 years</td>\n",
       "    </tr>\n",
       "    <tr>\n",
       "      <th>3</th>\n",
       "      <td>10000.0</td>\n",
       "      <td>9975.0</td>\n",
       "      <td>9.99%</td>\n",
       "      <td>36 months</td>\n",
       "      <td>debt_consolidation</td>\n",
       "      <td>14.30%</td>\n",
       "      <td>KS</td>\n",
       "      <td>MORTGAGE</td>\n",
       "      <td>3833.33</td>\n",
       "      <td>695-699</td>\n",
       "      <td>10.0</td>\n",
       "      <td>9346.0</td>\n",
       "      <td>0.0</td>\n",
       "      <td>5 years</td>\n",
       "    </tr>\n",
       "    <tr>\n",
       "      <th>4</th>\n",
       "      <td>12000.0</td>\n",
       "      <td>12000.0</td>\n",
       "      <td>11.71%</td>\n",
       "      <td>36 months</td>\n",
       "      <td>credit_card</td>\n",
       "      <td>18.78%</td>\n",
       "      <td>NJ</td>\n",
       "      <td>RENT</td>\n",
       "      <td>3195.00</td>\n",
       "      <td>695-699</td>\n",
       "      <td>11.0</td>\n",
       "      <td>14469.0</td>\n",
       "      <td>0.0</td>\n",
       "      <td>9 years</td>\n",
       "    </tr>\n",
       "    <tr>\n",
       "      <th>5</th>\n",
       "      <td>6000.0</td>\n",
       "      <td>6000.0</td>\n",
       "      <td>15.31%</td>\n",
       "      <td>36 months</td>\n",
       "      <td>other</td>\n",
       "      <td>20.05%</td>\n",
       "      <td>CT</td>\n",
       "      <td>OWN</td>\n",
       "      <td>4891.67</td>\n",
       "      <td>670-674</td>\n",
       "      <td>17.0</td>\n",
       "      <td>10391.0</td>\n",
       "      <td>2.0</td>\n",
       "      <td>3 years</td>\n",
       "    </tr>\n",
       "    <tr>\n",
       "      <th>6</th>\n",
       "      <td>10000.0</td>\n",
       "      <td>10000.0</td>\n",
       "      <td>7.90%</td>\n",
       "      <td>36 months</td>\n",
       "      <td>debt_consolidation</td>\n",
       "      <td>26.09%</td>\n",
       "      <td>MA</td>\n",
       "      <td>RENT</td>\n",
       "      <td>2916.67</td>\n",
       "      <td>720-724</td>\n",
       "      <td>10.0</td>\n",
       "      <td>15957.0</td>\n",
       "      <td>0.0</td>\n",
       "      <td>10+ years</td>\n",
       "    </tr>\n",
       "    <tr>\n",
       "      <th>7</th>\n",
       "      <td>33500.0</td>\n",
       "      <td>33450.0</td>\n",
       "      <td>17.14%</td>\n",
       "      <td>60 months</td>\n",
       "      <td>credit_card</td>\n",
       "      <td>14.70%</td>\n",
       "      <td>LA</td>\n",
       "      <td>MORTGAGE</td>\n",
       "      <td>13863.42</td>\n",
       "      <td>705-709</td>\n",
       "      <td>12.0</td>\n",
       "      <td>27874.0</td>\n",
       "      <td>0.0</td>\n",
       "      <td>10+ years</td>\n",
       "    </tr>\n",
       "    <tr>\n",
       "      <th>8</th>\n",
       "      <td>14675.0</td>\n",
       "      <td>14675.0</td>\n",
       "      <td>14.33%</td>\n",
       "      <td>36 months</td>\n",
       "      <td>credit_card</td>\n",
       "      <td>26.92%</td>\n",
       "      <td>CA</td>\n",
       "      <td>RENT</td>\n",
       "      <td>3150.00</td>\n",
       "      <td>685-689</td>\n",
       "      <td>9.0</td>\n",
       "      <td>7246.0</td>\n",
       "      <td>1.0</td>\n",
       "      <td>8 years</td>\n",
       "    </tr>\n",
       "    <tr>\n",
       "      <th>9</th>\n",
       "      <td>7000.0</td>\n",
       "      <td>7000.0</td>\n",
       "      <td>6.91%</td>\n",
       "      <td>36 months</td>\n",
       "      <td>credit_card</td>\n",
       "      <td>7.10%</td>\n",
       "      <td>CA</td>\n",
       "      <td>RENT</td>\n",
       "      <td>5000.00</td>\n",
       "      <td>715-719</td>\n",
       "      <td>8.0</td>\n",
       "      <td>7612.0</td>\n",
       "      <td>0.0</td>\n",
       "      <td>3 years</td>\n",
       "    </tr>\n",
       "    <tr>\n",
       "      <th>10</th>\n",
       "      <td>2000.0</td>\n",
       "      <td>2000.0</td>\n",
       "      <td>19.72%</td>\n",
       "      <td>36 months</td>\n",
       "      <td>moving</td>\n",
       "      <td>10.29%</td>\n",
       "      <td>FL</td>\n",
       "      <td>RENT</td>\n",
       "      <td>3575.00</td>\n",
       "      <td>670-674</td>\n",
       "      <td>10.0</td>\n",
       "      <td>12036.0</td>\n",
       "      <td>0.0</td>\n",
       "      <td>6 years</td>\n",
       "    </tr>\n",
       "    <tr>\n",
       "      <th>11</th>\n",
       "      <td>10625.0</td>\n",
       "      <td>10625.0</td>\n",
       "      <td>14.27%</td>\n",
       "      <td>36 months</td>\n",
       "      <td>debt_consolidation</td>\n",
       "      <td>12.54%</td>\n",
       "      <td>CA</td>\n",
       "      <td>MORTGAGE</td>\n",
       "      <td>4250.00</td>\n",
       "      <td>665-669</td>\n",
       "      <td>14.0</td>\n",
       "      <td>10767.0</td>\n",
       "      <td>0.0</td>\n",
       "      <td>&lt; 1 year</td>\n",
       "    </tr>\n",
       "    <tr>\n",
       "      <th>12</th>\n",
       "      <td>28000.0</td>\n",
       "      <td>27975.0</td>\n",
       "      <td>21.67%</td>\n",
       "      <td>60 months</td>\n",
       "      <td>debt_consolidation</td>\n",
       "      <td>13.07%</td>\n",
       "      <td>CT</td>\n",
       "      <td>MORTGAGE</td>\n",
       "      <td>14166.67</td>\n",
       "      <td>670-674</td>\n",
       "      <td>12.0</td>\n",
       "      <td>10311.0</td>\n",
       "      <td>0.0</td>\n",
       "      <td>1 year</td>\n",
       "    </tr>\n",
       "    <tr>\n",
       "      <th>13</th>\n",
       "      <td>35000.0</td>\n",
       "      <td>34950.0</td>\n",
       "      <td>8.90%</td>\n",
       "      <td>36 months</td>\n",
       "      <td>debt_consolidation</td>\n",
       "      <td>20.46%</td>\n",
       "      <td>CT</td>\n",
       "      <td>RENT</td>\n",
       "      <td>9166.67</td>\n",
       "      <td>735-739</td>\n",
       "      <td>19.0</td>\n",
       "      <td>21536.0</td>\n",
       "      <td>0.0</td>\n",
       "      <td>1 year</td>\n",
       "    </tr>\n",
       "    <tr>\n",
       "      <th>14</th>\n",
       "      <td>9600.0</td>\n",
       "      <td>9600.0</td>\n",
       "      <td>7.62%</td>\n",
       "      <td>36 months</td>\n",
       "      <td>debt_consolidation</td>\n",
       "      <td>3.45%</td>\n",
       "      <td>DC</td>\n",
       "      <td>RENT</td>\n",
       "      <td>11250.00</td>\n",
       "      <td>725-729</td>\n",
       "      <td>13.0</td>\n",
       "      <td>4606.0</td>\n",
       "      <td>0.0</td>\n",
       "      <td>&lt; 1 year</td>\n",
       "    </tr>\n",
       "  </tbody>\n",
       "</table>\n",
       "</div>"
      ],
      "text/plain": [
       "    Amount.Requested  Amount.Funded.By.Investors Interest.Rate Loan.Length  \\\n",
       "0            20000.0                     20000.0         8.90%   36 months   \n",
       "1            19200.0                     19200.0        12.12%   36 months   \n",
       "2            35000.0                     35000.0        21.98%   60 months   \n",
       "3            10000.0                      9975.0         9.99%   36 months   \n",
       "4            12000.0                     12000.0        11.71%   36 months   \n",
       "5             6000.0                      6000.0        15.31%   36 months   \n",
       "6            10000.0                     10000.0         7.90%   36 months   \n",
       "7            33500.0                     33450.0        17.14%   60 months   \n",
       "8            14675.0                     14675.0        14.33%   36 months   \n",
       "9             7000.0                      7000.0         6.91%   36 months   \n",
       "10            2000.0                      2000.0        19.72%   36 months   \n",
       "11           10625.0                     10625.0        14.27%   36 months   \n",
       "12           28000.0                     27975.0        21.67%   60 months   \n",
       "13           35000.0                     34950.0         8.90%   36 months   \n",
       "14            9600.0                      9600.0         7.62%   36 months   \n",
       "\n",
       "          Loan.Purpose Debt.To.Income.Ratio State Home.Ownership  \\\n",
       "0   debt_consolidation               14.90%    SC       MORTGAGE   \n",
       "1   debt_consolidation               28.36%    TX       MORTGAGE   \n",
       "2   debt_consolidation               23.81%    CA       MORTGAGE   \n",
       "3   debt_consolidation               14.30%    KS       MORTGAGE   \n",
       "4          credit_card               18.78%    NJ           RENT   \n",
       "5                other               20.05%    CT            OWN   \n",
       "6   debt_consolidation               26.09%    MA           RENT   \n",
       "7          credit_card               14.70%    LA       MORTGAGE   \n",
       "8          credit_card               26.92%    CA           RENT   \n",
       "9          credit_card                7.10%    CA           RENT   \n",
       "10              moving               10.29%    FL           RENT   \n",
       "11  debt_consolidation               12.54%    CA       MORTGAGE   \n",
       "12  debt_consolidation               13.07%    CT       MORTGAGE   \n",
       "13  debt_consolidation               20.46%    CT           RENT   \n",
       "14  debt_consolidation                3.45%    DC           RENT   \n",
       "\n",
       "    Monthly.Income FICO.Range  Open.CREDIT.Lines  Revolving.CREDIT.Balance  \\\n",
       "0          6541.67    735-739               14.0                   14272.0   \n",
       "1          4583.33    715-719               12.0                   11140.0   \n",
       "2         11500.00    690-694               14.0                   21977.0   \n",
       "3          3833.33    695-699               10.0                    9346.0   \n",
       "4          3195.00    695-699               11.0                   14469.0   \n",
       "5          4891.67    670-674               17.0                   10391.0   \n",
       "6          2916.67    720-724               10.0                   15957.0   \n",
       "7         13863.42    705-709               12.0                   27874.0   \n",
       "8          3150.00    685-689                9.0                    7246.0   \n",
       "9          5000.00    715-719                8.0                    7612.0   \n",
       "10         3575.00    670-674               10.0                   12036.0   \n",
       "11         4250.00    665-669               14.0                   10767.0   \n",
       "12        14166.67    670-674               12.0                   10311.0   \n",
       "13         9166.67    735-739               19.0                   21536.0   \n",
       "14        11250.00    725-729               13.0                    4606.0   \n",
       "\n",
       "    Inquiries.in.the.Last.6.Months Employment.Length  \n",
       "0                              2.0          < 1 year  \n",
       "1                              1.0           2 years  \n",
       "2                              1.0           2 years  \n",
       "3                              0.0           5 years  \n",
       "4                              0.0           9 years  \n",
       "5                              2.0           3 years  \n",
       "6                              0.0         10+ years  \n",
       "7                              0.0         10+ years  \n",
       "8                              1.0           8 years  \n",
       "9                              0.0           3 years  \n",
       "10                             0.0           6 years  \n",
       "11                             0.0          < 1 year  \n",
       "12                             0.0            1 year  \n",
       "13                             0.0            1 year  \n",
       "14                             0.0          < 1 year  "
      ]
     },
     "execution_count": 441,
     "metadata": {},
     "output_type": "execute_result"
    }
   ],
   "source": [
    "Loans_data.head(15)"
   ]
  },
  {
   "cell_type": "markdown",
   "id": "43b9b2c4",
   "metadata": {},
   "source": [
    "#### Checking Datatypes "
   ]
  },
  {
   "cell_type": "code",
   "execution_count": 442,
   "id": "0a1ac8bb",
   "metadata": {},
   "outputs": [
    {
     "data": {
      "text/plain": [
       "Amount.Requested                  float64\n",
       "Amount.Funded.By.Investors        float64\n",
       "Interest.Rate                      object\n",
       "Loan.Length                        object\n",
       "Loan.Purpose                       object\n",
       "Debt.To.Income.Ratio               object\n",
       "State                              object\n",
       "Home.Ownership                     object\n",
       "Monthly.Income                    float64\n",
       "FICO.Range                         object\n",
       "Open.CREDIT.Lines                 float64\n",
       "Revolving.CREDIT.Balance          float64\n",
       "Inquiries.in.the.Last.6.Months    float64\n",
       "Employment.Length                  object\n",
       "dtype: object"
      ]
     },
     "execution_count": 442,
     "metadata": {},
     "output_type": "execute_result"
    }
   ],
   "source": [
    "Loans_data.dtypes"
   ]
  },
  {
   "cell_type": "code",
   "execution_count": 443,
   "id": "81687d23",
   "metadata": {},
   "outputs": [],
   "source": [
    "Loans_data['Interest.Rate'] = Loans_data['Interest.Rate'].str.replace('%', '').astype('float64')"
   ]
  },
  {
   "cell_type": "code",
   "execution_count": 444,
   "id": "8f66bebe",
   "metadata": {},
   "outputs": [
    {
     "data": {
      "text/plain": [
       "Amount.Requested                  float64\n",
       "Amount.Funded.By.Investors        float64\n",
       "Interest.Rate                     float64\n",
       "Loan.Length                        object\n",
       "Loan.Purpose                       object\n",
       "Debt.To.Income.Ratio               object\n",
       "State                              object\n",
       "Home.Ownership                     object\n",
       "Monthly.Income                    float64\n",
       "FICO.Range                         object\n",
       "Open.CREDIT.Lines                 float64\n",
       "Revolving.CREDIT.Balance          float64\n",
       "Inquiries.in.the.Last.6.Months    float64\n",
       "Employment.Length                  object\n",
       "dtype: object"
      ]
     },
     "execution_count": 444,
     "metadata": {},
     "output_type": "execute_result"
    }
   ],
   "source": [
    "Loans_data.dtypes"
   ]
  },
  {
   "cell_type": "markdown",
   "id": "9970412c",
   "metadata": {},
   "source": [
    "#### Handling Null Values"
   ]
  },
  {
   "cell_type": "code",
   "execution_count": 445,
   "id": "7f70d979",
   "metadata": {},
   "outputs": [
    {
     "data": {
      "text/plain": [
       "Amount.Requested                   1\n",
       "Amount.Funded.By.Investors         1\n",
       "Interest.Rate                      2\n",
       "Loan.Length                        0\n",
       "Loan.Purpose                       0\n",
       "Debt.To.Income.Ratio               1\n",
       "State                              0\n",
       "Home.Ownership                     1\n",
       "Monthly.Income                     1\n",
       "FICO.Range                         2\n",
       "Open.CREDIT.Lines                  3\n",
       "Revolving.CREDIT.Balance           3\n",
       "Inquiries.in.the.Last.6.Months     3\n",
       "Employment.Length                 77\n",
       "dtype: int64"
      ]
     },
     "execution_count": 445,
     "metadata": {},
     "output_type": "execute_result"
    }
   ],
   "source": [
    "Loans_data.isnull().sum()"
   ]
  },
  {
   "cell_type": "code",
   "execution_count": 446,
   "id": "3643d943",
   "metadata": {},
   "outputs": [
    {
     "name": "stdout",
     "output_type": "stream",
     "text": [
      "The following columns contain 'NONE' values:\n",
      "Index(['Home.Ownership'], dtype='object')\n"
     ]
    },
    {
     "name": "stderr",
     "output_type": "stream",
     "text": [
      "C:\\Users\\dell\\AppData\\Local\\Temp\\ipykernel_14704\\678930485.py:2: FutureWarning: elementwise comparison failed; returning scalar instead, but in the future will perform elementwise comparison\n",
      "  check_none = lambda col: 'NONE' in col.unique()\n"
     ]
    }
   ],
   "source": [
    "#checking for None as missing vaues \n",
    "check_none = lambda col: 'NONE' in col.unique()\n",
    "none_cols = Loans_data.apply(check_none)\n",
    "print(\"The following columns contain 'NONE' values:\")\n",
    "print(none_cols[none_cols].index)"
   ]
  },
  {
   "cell_type": "code",
   "execution_count": 447,
   "id": "d8b8647b",
   "metadata": {},
   "outputs": [],
   "source": [
    "# replace \"NONE\" with NaN\n",
    "Loans_data['Home.Ownership'] = Loans_data['Home.Ownership'].replace('NONE', np.nan)"
   ]
  },
  {
   "cell_type": "code",
   "execution_count": 448,
   "id": "47d56f92",
   "metadata": {},
   "outputs": [
    {
     "data": {
      "text/plain": [
       "Amount.Requested                   1\n",
       "Amount.Funded.By.Investors         1\n",
       "Interest.Rate                      2\n",
       "Loan.Length                        0\n",
       "Loan.Purpose                       0\n",
       "Debt.To.Income.Ratio               1\n",
       "State                              0\n",
       "Home.Ownership                     2\n",
       "Monthly.Income                     1\n",
       "FICO.Range                         2\n",
       "Open.CREDIT.Lines                  3\n",
       "Revolving.CREDIT.Balance           3\n",
       "Inquiries.in.the.Last.6.Months     3\n",
       "Employment.Length                 77\n",
       "dtype: int64"
      ]
     },
     "execution_count": 448,
     "metadata": {},
     "output_type": "execute_result"
    }
   ],
   "source": [
    "Loans_data.isnull().sum()"
   ]
  },
  {
   "cell_type": "code",
   "execution_count": 449,
   "id": "a10db831",
   "metadata": {},
   "outputs": [],
   "source": [
    "for col in Loans_data.columns:\n",
    "    if Loans_data[col].dtype == \"float64\":\n",
    "        Loans_data[col].fillna(Loans_data[col].mean(), inplace = True)\n",
    "    elif Loans_data[col].dtype == \"object\":\n",
    "        Loans_data[col].fillna(Loans_data[col].mode()[0], inplace = True)"
   ]
  },
  {
   "cell_type": "code",
   "execution_count": 450,
   "id": "3f52c117",
   "metadata": {},
   "outputs": [
    {
     "data": {
      "text/plain": [
       "Amount.Requested                  0\n",
       "Amount.Funded.By.Investors        0\n",
       "Interest.Rate                     0\n",
       "Loan.Length                       0\n",
       "Loan.Purpose                      0\n",
       "Debt.To.Income.Ratio              0\n",
       "State                             0\n",
       "Home.Ownership                    0\n",
       "Monthly.Income                    0\n",
       "FICO.Range                        0\n",
       "Open.CREDIT.Lines                 0\n",
       "Revolving.CREDIT.Balance          0\n",
       "Inquiries.in.the.Last.6.Months    0\n",
       "Employment.Length                 0\n",
       "dtype: int64"
      ]
     },
     "execution_count": 450,
     "metadata": {},
     "output_type": "execute_result"
    }
   ],
   "source": [
    "Loans_data.isnull().sum()"
   ]
  },
  {
   "cell_type": "markdown",
   "id": "2c43b796",
   "metadata": {},
   "source": [
    "#### Encoding the data"
   ]
  },
  {
   "cell_type": "code",
   "execution_count": 451,
   "id": "2bdf4061",
   "metadata": {},
   "outputs": [],
   "source": [
    "label_encode = LabelEncoder()"
   ]
  },
  {
   "cell_type": "code",
   "execution_count": 452,
   "id": "6d3841ba",
   "metadata": {},
   "outputs": [],
   "source": [
    "Loans_data['State'] = label_encode.fit_transform(Loans_data['State'])"
   ]
  },
  {
   "cell_type": "code",
   "execution_count": 453,
   "id": "9c3b8ded",
   "metadata": {},
   "outputs": [],
   "source": [
    "Loans_data['Home.Ownership'] = label_encode.fit_transform(Loans_data['Home.Ownership'])"
   ]
  },
  {
   "cell_type": "code",
   "execution_count": 454,
   "id": "2ecaa9ee",
   "metadata": {},
   "outputs": [],
   "source": [
    "Loans_data['Loan.Length'] = label_encode.fit_transform(Loans_data['Loan.Length'])"
   ]
  },
  {
   "cell_type": "code",
   "execution_count": 455,
   "id": "a55fad7a",
   "metadata": {},
   "outputs": [],
   "source": [
    "Loans_data['Loan.Purpose'] = label_encode.fit_transform(Loans_data['Loan.Purpose'])"
   ]
  },
  {
   "cell_type": "code",
   "execution_count": 456,
   "id": "cf12a58e",
   "metadata": {},
   "outputs": [],
   "source": [
    "Loans_data['Employment.Length'] = label_encode.fit_transform(Loans_data['Employment.Length'])"
   ]
  },
  {
   "cell_type": "code",
   "execution_count": 457,
   "id": "99867008",
   "metadata": {},
   "outputs": [],
   "source": [
    "Loans_data['FICO.Range'] = label_encode.fit_transform(Loans_data['FICO.Range'])"
   ]
  },
  {
   "cell_type": "code",
   "execution_count": 458,
   "id": "e5d0285b",
   "metadata": {},
   "outputs": [
    {
     "data": {
      "text/html": [
       "<div>\n",
       "<style scoped>\n",
       "    .dataframe tbody tr th:only-of-type {\n",
       "        vertical-align: middle;\n",
       "    }\n",
       "\n",
       "    .dataframe tbody tr th {\n",
       "        vertical-align: top;\n",
       "    }\n",
       "\n",
       "    .dataframe thead th {\n",
       "        text-align: right;\n",
       "    }\n",
       "</style>\n",
       "<table border=\"1\" class=\"dataframe\">\n",
       "  <thead>\n",
       "    <tr style=\"text-align: right;\">\n",
       "      <th></th>\n",
       "      <th>Amount.Requested</th>\n",
       "      <th>Amount.Funded.By.Investors</th>\n",
       "      <th>Interest.Rate</th>\n",
       "      <th>Loan.Length</th>\n",
       "      <th>Loan.Purpose</th>\n",
       "      <th>Debt.To.Income.Ratio</th>\n",
       "      <th>State</th>\n",
       "      <th>Home.Ownership</th>\n",
       "      <th>Monthly.Income</th>\n",
       "      <th>FICO.Range</th>\n",
       "      <th>Open.CREDIT.Lines</th>\n",
       "      <th>Revolving.CREDIT.Balance</th>\n",
       "      <th>Inquiries.in.the.Last.6.Months</th>\n",
       "      <th>Employment.Length</th>\n",
       "    </tr>\n",
       "  </thead>\n",
       "  <tbody>\n",
       "    <tr>\n",
       "      <th>0</th>\n",
       "      <td>20000.0</td>\n",
       "      <td>20000.0</td>\n",
       "      <td>8.90</td>\n",
       "      <td>0</td>\n",
       "      <td>2</td>\n",
       "      <td>14.90%</td>\n",
       "      <td>36</td>\n",
       "      <td>0</td>\n",
       "      <td>6541.67</td>\n",
       "      <td>19</td>\n",
       "      <td>14.0</td>\n",
       "      <td>14272.0</td>\n",
       "      <td>2.0</td>\n",
       "      <td>10</td>\n",
       "    </tr>\n",
       "    <tr>\n",
       "      <th>1</th>\n",
       "      <td>19200.0</td>\n",
       "      <td>19200.0</td>\n",
       "      <td>12.12</td>\n",
       "      <td>0</td>\n",
       "      <td>2</td>\n",
       "      <td>28.36%</td>\n",
       "      <td>38</td>\n",
       "      <td>0</td>\n",
       "      <td>4583.33</td>\n",
       "      <td>15</td>\n",
       "      <td>12.0</td>\n",
       "      <td>11140.0</td>\n",
       "      <td>1.0</td>\n",
       "      <td>2</td>\n",
       "    </tr>\n",
       "    <tr>\n",
       "      <th>2</th>\n",
       "      <td>35000.0</td>\n",
       "      <td>35000.0</td>\n",
       "      <td>21.98</td>\n",
       "      <td>1</td>\n",
       "      <td>2</td>\n",
       "      <td>23.81%</td>\n",
       "      <td>4</td>\n",
       "      <td>0</td>\n",
       "      <td>11500.00</td>\n",
       "      <td>10</td>\n",
       "      <td>14.0</td>\n",
       "      <td>21977.0</td>\n",
       "      <td>1.0</td>\n",
       "      <td>2</td>\n",
       "    </tr>\n",
       "    <tr>\n",
       "      <th>3</th>\n",
       "      <td>10000.0</td>\n",
       "      <td>9975.0</td>\n",
       "      <td>9.99</td>\n",
       "      <td>0</td>\n",
       "      <td>2</td>\n",
       "      <td>14.30%</td>\n",
       "      <td>15</td>\n",
       "      <td>0</td>\n",
       "      <td>3833.33</td>\n",
       "      <td>11</td>\n",
       "      <td>10.0</td>\n",
       "      <td>9346.0</td>\n",
       "      <td>0.0</td>\n",
       "      <td>5</td>\n",
       "    </tr>\n",
       "    <tr>\n",
       "      <th>4</th>\n",
       "      <td>12000.0</td>\n",
       "      <td>12000.0</td>\n",
       "      <td>11.71</td>\n",
       "      <td>0</td>\n",
       "      <td>1</td>\n",
       "      <td>18.78%</td>\n",
       "      <td>27</td>\n",
       "      <td>3</td>\n",
       "      <td>3195.00</td>\n",
       "      <td>11</td>\n",
       "      <td>11.0</td>\n",
       "      <td>14469.0</td>\n",
       "      <td>0.0</td>\n",
       "      <td>9</td>\n",
       "    </tr>\n",
       "  </tbody>\n",
       "</table>\n",
       "</div>"
      ],
      "text/plain": [
       "   Amount.Requested  Amount.Funded.By.Investors  Interest.Rate  Loan.Length  \\\n",
       "0           20000.0                     20000.0           8.90            0   \n",
       "1           19200.0                     19200.0          12.12            0   \n",
       "2           35000.0                     35000.0          21.98            1   \n",
       "3           10000.0                      9975.0           9.99            0   \n",
       "4           12000.0                     12000.0          11.71            0   \n",
       "\n",
       "   Loan.Purpose Debt.To.Income.Ratio  State  Home.Ownership  Monthly.Income  \\\n",
       "0             2               14.90%     36               0         6541.67   \n",
       "1             2               28.36%     38               0         4583.33   \n",
       "2             2               23.81%      4               0        11500.00   \n",
       "3             2               14.30%     15               0         3833.33   \n",
       "4             1               18.78%     27               3         3195.00   \n",
       "\n",
       "   FICO.Range  Open.CREDIT.Lines  Revolving.CREDIT.Balance  \\\n",
       "0          19               14.0                   14272.0   \n",
       "1          15               12.0                   11140.0   \n",
       "2          10               14.0                   21977.0   \n",
       "3          11               10.0                    9346.0   \n",
       "4          11               11.0                   14469.0   \n",
       "\n",
       "   Inquiries.in.the.Last.6.Months  Employment.Length  \n",
       "0                             2.0                 10  \n",
       "1                             1.0                  2  \n",
       "2                             1.0                  2  \n",
       "3                             0.0                  5  \n",
       "4                             0.0                  9  "
      ]
     },
     "execution_count": 458,
     "metadata": {},
     "output_type": "execute_result"
    }
   ],
   "source": [
    "Loans_data.head(5)"
   ]
  },
  {
   "cell_type": "markdown",
   "id": "1f93e101",
   "metadata": {},
   "source": [
    "##### a. Intrest rate is varied for different loan amounts (Less intrest charged for high loan amounts)"
   ]
  },
  {
   "cell_type": "markdown",
   "id": "7611c02a",
   "metadata": {},
   "source": [
    "#### Correlations"
   ]
  },
  {
   "cell_type": "code",
   "execution_count": 459,
   "id": "39837f98",
   "metadata": {},
   "outputs": [],
   "source": [
    "#Filtering the data required for this analysis\n",
    "Interestrate_loanamount= Loans_data[[\"Amount.Funded.By.Investors\",\"Interest.Rate\"]]"
   ]
  },
  {
   "cell_type": "code",
   "execution_count": 460,
   "id": "4205907d",
   "metadata": {},
   "outputs": [],
   "source": [
    "#Defining the hypothesis statements \n",
    "# H0 : There is no relationship between interest rate and loan amounts\n",
    "# Ha : There is relationship between interest and loan amounts \n",
    "# CI = 99%, P_value = 0.01"
   ]
  },
  {
   "cell_type": "code",
   "execution_count": 461,
   "id": "b0470249",
   "metadata": {},
   "outputs": [
    {
     "name": "stderr",
     "output_type": "stream",
     "text": [
      "*c* argument looks like a single numeric RGB or RGBA sequence, which should be avoided as value-mapping will have precedence in case its length matches with *x* & *y*.  Please use the *color* keyword-argument or provide a 2D array with a single row if you intend to specify the same RGB or RGBA value for all points.\n"
     ]
    },
    {
     "data": {
      "image/png": "[encoded data removed]",
      "text/plain": [
       "<Figure size 640x480 with 1 Axes>"
      ]
     },
     "metadata": {},
     "output_type": "display_data"
    }
   ],
   "source": [
    "plt.style.use('dark_background')\n",
    "plt.rcParams.update({'text.color': 'white'})\n",
    "Interestrate_loanamount.plot( kind = 'scatter', x = \"Amount.Funded.By.Investors\", y = \"Interest.Rate\" )\n",
    "plt.show()"
   ]
  },
  {
   "cell_type": "code",
   "execution_count": 462,
   "id": "015c2160",
   "metadata": {},
   "outputs": [
    {
     "data": {
      "text/plain": [
       "PearsonRResult(statistic=0.33742660344157105, pvalue=1.2764840056932822e-67)"
      ]
     },
     "execution_count": 462,
     "metadata": {},
     "output_type": "execute_result"
    }
   ],
   "source": [
    "# perform the test \n",
    "stats.pearsonr( Interestrate_loanamount[\"Amount.Funded.By.Investors\"],Interestrate_loanamount[\"Interest.Rate\"])"
   ]
  },
  {
   "cell_type": "markdown",
   "id": "9c8c8c80",
   "metadata": {},
   "source": [
    "CONCLUSION:\n",
    "Since the calculate p value is lesser than the defined p value, we fail to reject the alternative hypothesis. We can claim there is a relationship between interest rate and loan amount.Because the correlation value is positive, we can say its directly proportional i...e if the loan amount is increased, the interest rate also increased and vice versa."
   ]
  },
  {
   "cell_type": "markdown",
   "id": "d6e3d965",
   "metadata": {},
   "source": [
    "##### b. Loan length is directly effecting intrest rate."
   ]
  },
  {
   "cell_type": "markdown",
   "id": "27d1e85b",
   "metadata": {},
   "source": [
    "#### Independent  sample ttest"
   ]
  },
  {
   "cell_type": "code",
   "execution_count": 463,
   "id": "ef298670",
   "metadata": {},
   "outputs": [],
   "source": [
    "#Defining the hypothesis statements \n",
    "#H0 : There is no relationship between Loan length and interest rate \n",
    "#Ha: There is relationship between loan length and interest rate \n",
    "# CI: 95 , P_value = 0.05% "
   ]
  },
  {
   "cell_type": "code",
   "execution_count": 464,
   "id": "1d4723f7",
   "metadata": {},
   "outputs": [
    {
     "data": {
      "text/plain": [
       "0    1952\n",
       "1     548\n",
       "Name: Loan.Length, dtype: int64"
      ]
     },
     "execution_count": 464,
     "metadata": {},
     "output_type": "execute_result"
    }
   ],
   "source": [
    "Loans_data['Loan.Length'].value_counts()"
   ]
  },
  {
   "cell_type": "code",
   "execution_count": 465,
   "id": "40cd4e18",
   "metadata": {},
   "outputs": [],
   "source": [
    "#declare the variable which we want to do the analysis \n",
    "var_name = 'Interest.Rate'"
   ]
  },
  {
   "cell_type": "code",
   "execution_count": 466,
   "id": "76c2f850",
   "metadata": {},
   "outputs": [],
   "source": [
    "#filter the data based on loan length\n",
    "months_36 =Loans_data.loc[Loans_data['Loan.Length'] == 0, var_name]\n",
    "months_60 =Loans_data.loc[Loans_data['Loan.Length'] == 1, var_name]"
   ]
  },
  {
   "cell_type": "code",
   "execution_count": 467,
   "id": "8f33e00a",
   "metadata": {},
   "outputs": [
    {
     "name": "stdout",
     "output_type": "stream",
     "text": [
      "Mean for 36 months loan length 12.127141791302005\n",
      "Mean for 60 months loan length 16.40746350364961\n"
     ]
    }
   ],
   "source": [
    "#mean for different loan length\n",
    "print(\"Mean for 36 months loan length\", months_36.mean())\n",
    "print(\"Mean for 60 months loan length\", months_60.mean())"
   ]
  },
  {
   "cell_type": "code",
   "execution_count": 468,
   "id": "09bf33c7",
   "metadata": {},
   "outputs": [
    {
     "data": {
      "text/plain": [
       "Ttest_indResult(statistic=-23.41049023613487, pvalue=9.549596064332559e-110)"
      ]
     },
     "execution_count": 468,
     "metadata": {},
     "output_type": "execute_result"
    }
   ],
   "source": [
    "#perform the test\n",
    "stats.ttest_ind(months_36, months_60)"
   ]
  },
  {
   "cell_type": "markdown",
   "id": "c8bc1590",
   "metadata": {},
   "source": [
    "CONCLUSION:\n",
    "Since the calculated p value is lesser then the defined p value, we fail to reject the alternative hypothesis. And so can claim there is of Loan length on the rate of interest."
   ]
  },
  {
   "cell_type": "markdown",
   "id": "cc5e7bd4",
   "metadata": {},
   "source": [
    "#### c. Inrest rate varies for different purpose of loans."
   ]
  },
  {
   "cell_type": "code",
   "execution_count": 469,
   "id": "767c4730",
   "metadata": {},
   "outputs": [],
   "source": [
    "#Defining the hypothesis statements \n",
    "#H0 : There is no variation in the interest rate and the purpose of the loan\n",
    "#Ha: There is variation in the interest rate and the purpose of the loan\n",
    "# CI: 95 , P_value = 0.05% "
   ]
  },
  {
   "cell_type": "code",
   "execution_count": 470,
   "id": "b1e03690",
   "metadata": {},
   "outputs": [
    {
     "data": {
      "text/plain": [
       "2     1307\n",
       "1      444\n",
       "9      201\n",
       "4      152\n",
       "6      101\n",
       "11      87\n",
       "0       50\n",
       "13      39\n",
       "7       30\n",
       "8       29\n",
       "12      21\n",
       "5       20\n",
       "3       15\n",
       "10       4\n",
       "Name: Loan.Purpose, dtype: int64"
      ]
     },
     "execution_count": 470,
     "metadata": {},
     "output_type": "execute_result"
    }
   ],
   "source": [
    "Loans_data['Loan.Purpose'].value_counts()"
   ]
  },
  {
   "cell_type": "code",
   "execution_count": 471,
   "id": "96b8a9a6",
   "metadata": {},
   "outputs": [],
   "source": [
    "# declare the variable for which we want to do the analysis\n",
    "var_name = 'Interest.Rate'"
   ]
  },
  {
   "cell_type": "code",
   "execution_count": 472,
   "id": "a94e8d04",
   "metadata": {},
   "outputs": [],
   "source": [
    "#filter the data based on loan purpose\n",
    "Zero =Loans_data.loc[Loans_data['Loan.Purpose'] == 0, var_name]\n",
    "One =Loans_data.loc[Loans_data['Loan.Purpose'] == 1, var_name]\n",
    "Two =Loans_data.loc[Loans_data['Loan.Purpose'] == 2, var_name]\n",
    "Three =Loans_data.loc[Loans_data['Loan.Purpose'] == 3, var_name]\n",
    "Four=Loans_data.loc[Loans_data['Loan.Purpose'] == 4, var_name]\n",
    "Five =Loans_data.loc[Loans_data['Loan.Purpose'] == 5, var_name]\n",
    "Six =Loans_data.loc[Loans_data['Loan.Purpose'] == 6, var_name]\n",
    "Seven =Loans_data.loc[Loans_data['Loan.Purpose'] == 7, var_name]\n",
    "Eight=Loans_data.loc[Loans_data['Loan.Purpose'] == 8, var_name]\n",
    "Nine =Loans_data.loc[Loans_data['Loan.Purpose'] == 9, var_name]\n",
    "Ten=Loans_data.loc[Loans_data['Loan.Purpose'] == 10, var_name]\n",
    "Eleven=Loans_data.loc[Loans_data['Loan.Purpose'] == 11, var_name]\n",
    "Twelve=Loans_data.loc[Loans_data['Loan.Purpose'] == 12, var_name]\n",
    "Thirteen =Loans_data.loc[Loans_data['Loan.Purpose'] == 13, var_name]\n"
   ]
  },
  {
   "cell_type": "code",
   "execution_count": 473,
   "id": "18c52073",
   "metadata": {},
   "outputs": [
    {
     "name": "stdout",
     "output_type": "stream",
     "text": [
      "Mean for loan purpose Zero 11.113000000000001\n",
      "Mean for loan purpose One 13.050687811510445\n",
      "Mean for loan purpose Two 13.586916602907444\n",
      "Mean for loan purpose Three 11.007333333333332\n",
      "Mean for loan purpose Four 11.594276315789479\n",
      "Mean for loan purpose Five 13.448000000000002\n",
      "Mean for loan purpose Six 10.797821782178215\n",
      "Mean for loan purpose Seven 11.649666666666668\n",
      "Mean for loan purpose Eight 13.621034482758622\n",
      "Mean for loan purpose Nine 13.159552238805967\n",
      "Mean for loan purpose Ten 9.8775\n",
      "Mean for loan purpose Eleven 12.839195402298845\n",
      "Mean for loan purpose Twelve 11.966190476190476\n",
      "Mean for loan purpose Thirteen 12.073215084888428\n"
     ]
    }
   ],
   "source": [
    "#mean for different loan purpose \n",
    "print(\"Mean for loan purpose Zero\", Zero.mean())\n",
    "print(\"Mean for loan purpose One\", One.mean())\n",
    "print(\"Mean for loan purpose Two\", Two.mean())\n",
    "print(\"Mean for loan purpose Three\", Three.mean())\n",
    "print(\"Mean for loan purpose Four\", Four.mean())\n",
    "print(\"Mean for loan purpose Five\", Five.mean())\n",
    "print(\"Mean for loan purpose Six\", Six.mean())\n",
    "print(\"Mean for loan purpose Seven\", Seven.mean())\n",
    "print(\"Mean for loan purpose Eight\", Eight.mean())\n",
    "print(\"Mean for loan purpose Nine\", Nine.mean())\n",
    "print(\"Mean for loan purpose Ten\", Ten.mean())\n",
    "print(\"Mean for loan purpose Eleven\", Eleven.mean())\n",
    "print(\"Mean for loan purpose Twelve\", Twelve.mean())\n",
    "print(\"Mean for loan purpose Thirteen\", Thirteen.mean())"
   ]
  },
  {
   "cell_type": "code",
   "execution_count": 474,
   "id": "2f6ce8ae",
   "metadata": {},
   "outputs": [
    {
     "data": {
      "text/plain": [
       "F_onewayResult(statistic=7.133918096349252, pvalue=6.176941224109585e-13)"
      ]
     },
     "execution_count": 474,
     "metadata": {},
     "output_type": "execute_result"
    }
   ],
   "source": [
    "#perform the test \n",
    "stats.f_oneway(One, Two, Three, Four, Five, Six, Seven, Eight, Nine, Ten, Eleven, Twelve, Thirteen)"
   ]
  },
  {
   "cell_type": "markdown",
   "id": "c921dc0e",
   "metadata": {},
   "source": [
    "CONCLUSION:\n",
    "Since the calculate p value is lesser than the defined p value, we fail to reject the null hypothesis and also we can claim there is a variation in the purpose of the loan and the interest rate."
   ]
  },
  {
   "cell_type": "markdown",
   "id": "430a68b3",
   "metadata": {},
   "source": [
    "#### d. There is relationship between FICO scores and Home Ownership. It means that, People with owning home will have high FICO scores."
   ]
  },
  {
   "cell_type": "code",
   "execution_count": 477,
   "id": "f485be9e",
   "metadata": {},
   "outputs": [],
   "source": [
    "#sample size - 12"
   ]
  },
  {
   "cell_type": "code",
   "execution_count": 478,
   "id": "7ac4674b",
   "metadata": {},
   "outputs": [
    {
     "data": {
      "text/html": [
       "<div>\n",
       "<style scoped>\n",
       "    .dataframe tbody tr th:only-of-type {\n",
       "        vertical-align: middle;\n",
       "    }\n",
       "\n",
       "    .dataframe tbody tr th {\n",
       "        vertical-align: top;\n",
       "    }\n",
       "\n",
       "    .dataframe thead th {\n",
       "        text-align: right;\n",
       "    }\n",
       "</style>\n",
       "<table border=\"1\" class=\"dataframe\">\n",
       "  <thead>\n",
       "    <tr style=\"text-align: right;\">\n",
       "      <th></th>\n",
       "      <th>Amount.Requested</th>\n",
       "      <th>Amount.Funded.By.Investors</th>\n",
       "      <th>Interest.Rate</th>\n",
       "      <th>Loan.Length</th>\n",
       "      <th>Loan.Purpose</th>\n",
       "      <th>Debt.To.Income.Ratio</th>\n",
       "      <th>State</th>\n",
       "      <th>Home.Ownership</th>\n",
       "      <th>Monthly.Income</th>\n",
       "      <th>FICO.Range</th>\n",
       "      <th>Open.CREDIT.Lines</th>\n",
       "      <th>Revolving.CREDIT.Balance</th>\n",
       "      <th>Inquiries.in.the.Last.6.Months</th>\n",
       "      <th>Employment.Length</th>\n",
       "    </tr>\n",
       "  </thead>\n",
       "  <tbody>\n",
       "    <tr>\n",
       "      <th>0</th>\n",
       "      <td>20000.0</td>\n",
       "      <td>20000.0</td>\n",
       "      <td>8.9</td>\n",
       "      <td>0</td>\n",
       "      <td>2</td>\n",
       "      <td>14.90%</td>\n",
       "      <td>36</td>\n",
       "      <td>0</td>\n",
       "      <td>6541.67</td>\n",
       "      <td>19</td>\n",
       "      <td>14.0</td>\n",
       "      <td>14272.0</td>\n",
       "      <td>2.0</td>\n",
       "      <td>10</td>\n",
       "    </tr>\n",
       "  </tbody>\n",
       "</table>\n",
       "</div>"
      ],
      "text/plain": [
       "   Amount.Requested  Amount.Funded.By.Investors  Interest.Rate  Loan.Length  \\\n",
       "0           20000.0                     20000.0            8.9            0   \n",
       "\n",
       "   Loan.Purpose Debt.To.Income.Ratio  State  Home.Ownership  Monthly.Income  \\\n",
       "0             2               14.90%     36               0         6541.67   \n",
       "\n",
       "   FICO.Range  Open.CREDIT.Lines  Revolving.CREDIT.Balance  \\\n",
       "0          19               14.0                   14272.0   \n",
       "\n",
       "   Inquiries.in.the.Last.6.Months  Employment.Length  \n",
       "0                             2.0                 10  "
      ]
     },
     "execution_count": 478,
     "metadata": {},
     "output_type": "execute_result"
    }
   ],
   "source": [
    "Loans_data.head(1)"
   ]
  },
  {
   "cell_type": "code",
   "execution_count": 479,
   "id": "a04bdb73",
   "metadata": {},
   "outputs": [],
   "source": [
    "Loans_data['FICO.Range'] = label_encode.inverse_transform(Loans_data['FICO.Range'])"
   ]
  },
  {
   "cell_type": "code",
   "execution_count": 480,
   "id": "cde87e90",
   "metadata": {},
   "outputs": [],
   "source": [
    "Score= Loans_data['FICO.Range'].str.split('-', expand = True)"
   ]
  },
  {
   "cell_type": "code",
   "execution_count": 481,
   "id": "ca338202",
   "metadata": {},
   "outputs": [],
   "source": [
    "Score = Score.rename (columns = {0: 'Lower_bound', 1: 'Upper_bound'})"
   ]
  },
  {
   "cell_type": "code",
   "execution_count": 482,
   "id": "e9dd033a",
   "metadata": {},
   "outputs": [
    {
     "data": {
      "text/plain": [
       "Lower_bound    object\n",
       "Upper_bound    object\n",
       "dtype: object"
      ]
     },
     "execution_count": 482,
     "metadata": {},
     "output_type": "execute_result"
    }
   ],
   "source": [
    "Score.dtypes"
   ]
  },
  {
   "cell_type": "code",
   "execution_count": 483,
   "id": "2f1e65ca",
   "metadata": {},
   "outputs": [],
   "source": [
    "Score['Lower_bound'] = Score['Lower_bound'].astype(\"float64\")\n",
    "Score['Upper_bound'] = Score['Upper_bound'].astype(\"float64\")"
   ]
  },
  {
   "cell_type": "code",
   "execution_count": 484,
   "id": "f6b1476e",
   "metadata": {},
   "outputs": [],
   "source": [
    "Score['FICO_Score'] = ( Score['Lower_bound'] +  Score['Upper_bound'] ) / 2"
   ]
  },
  {
   "cell_type": "code",
   "execution_count": 485,
   "id": "8359e71f",
   "metadata": {},
   "outputs": [
    {
     "data": {
      "text/html": [
       "<div>\n",
       "<style scoped>\n",
       "    .dataframe tbody tr th:only-of-type {\n",
       "        vertical-align: middle;\n",
       "    }\n",
       "\n",
       "    .dataframe tbody tr th {\n",
       "        vertical-align: top;\n",
       "    }\n",
       "\n",
       "    .dataframe thead th {\n",
       "        text-align: right;\n",
       "    }\n",
       "</style>\n",
       "<table border=\"1\" class=\"dataframe\">\n",
       "  <thead>\n",
       "    <tr style=\"text-align: right;\">\n",
       "      <th></th>\n",
       "      <th>Lower_bound</th>\n",
       "      <th>Upper_bound</th>\n",
       "      <th>FICO_Score</th>\n",
       "    </tr>\n",
       "  </thead>\n",
       "  <tbody>\n",
       "    <tr>\n",
       "      <th>0</th>\n",
       "      <td>735.0</td>\n",
       "      <td>739.0</td>\n",
       "      <td>737.0</td>\n",
       "    </tr>\n",
       "    <tr>\n",
       "      <th>1</th>\n",
       "      <td>715.0</td>\n",
       "      <td>719.0</td>\n",
       "      <td>717.0</td>\n",
       "    </tr>\n",
       "  </tbody>\n",
       "</table>\n",
       "</div>"
      ],
      "text/plain": [
       "   Lower_bound  Upper_bound  FICO_Score\n",
       "0        735.0        739.0       737.0\n",
       "1        715.0        719.0       717.0"
      ]
     },
     "execution_count": 485,
     "metadata": {},
     "output_type": "execute_result"
    }
   ],
   "source": [
    "Score.head(2)"
   ]
  },
  {
   "cell_type": "code",
   "execution_count": 486,
   "id": "5c39698a",
   "metadata": {},
   "outputs": [],
   "source": [
    "Loans_data1 = pd.concat([Loans_data, Score], axis = 1)"
   ]
  },
  {
   "cell_type": "code",
   "execution_count": 490,
   "id": "ebf47769",
   "metadata": {},
   "outputs": [
    {
     "data": {
      "text/html": [
       "<div>\n",
       "<style scoped>\n",
       "    .dataframe tbody tr th:only-of-type {\n",
       "        vertical-align: middle;\n",
       "    }\n",
       "\n",
       "    .dataframe tbody tr th {\n",
       "        vertical-align: top;\n",
       "    }\n",
       "\n",
       "    .dataframe thead th {\n",
       "        text-align: right;\n",
       "    }\n",
       "</style>\n",
       "<table border=\"1\" class=\"dataframe\">\n",
       "  <thead>\n",
       "    <tr style=\"text-align: right;\">\n",
       "      <th></th>\n",
       "      <th>Amount.Requested</th>\n",
       "      <th>Amount.Funded.By.Investors</th>\n",
       "      <th>Interest.Rate</th>\n",
       "      <th>Loan.Length</th>\n",
       "      <th>Loan.Purpose</th>\n",
       "      <th>Debt.To.Income.Ratio</th>\n",
       "      <th>State</th>\n",
       "      <th>Home.Ownership</th>\n",
       "      <th>Monthly.Income</th>\n",
       "      <th>FICO.Range</th>\n",
       "      <th>Open.CREDIT.Lines</th>\n",
       "      <th>Revolving.CREDIT.Balance</th>\n",
       "      <th>Inquiries.in.the.Last.6.Months</th>\n",
       "      <th>Employment.Length</th>\n",
       "      <th>Lower_bound</th>\n",
       "      <th>Upper_bound</th>\n",
       "      <th>FICO_Score</th>\n",
       "    </tr>\n",
       "  </thead>\n",
       "  <tbody>\n",
       "    <tr>\n",
       "      <th>0</th>\n",
       "      <td>20000.0</td>\n",
       "      <td>20000.0</td>\n",
       "      <td>8.90</td>\n",
       "      <td>0</td>\n",
       "      <td>2</td>\n",
       "      <td>14.90%</td>\n",
       "      <td>36</td>\n",
       "      <td>0</td>\n",
       "      <td>6541.67</td>\n",
       "      <td>735-739</td>\n",
       "      <td>14.0</td>\n",
       "      <td>14272.0</td>\n",
       "      <td>2.0</td>\n",
       "      <td>10</td>\n",
       "      <td>735.0</td>\n",
       "      <td>739.0</td>\n",
       "      <td>737.0</td>\n",
       "    </tr>\n",
       "    <tr>\n",
       "      <th>1</th>\n",
       "      <td>19200.0</td>\n",
       "      <td>19200.0</td>\n",
       "      <td>12.12</td>\n",
       "      <td>0</td>\n",
       "      <td>2</td>\n",
       "      <td>28.36%</td>\n",
       "      <td>38</td>\n",
       "      <td>0</td>\n",
       "      <td>4583.33</td>\n",
       "      <td>715-719</td>\n",
       "      <td>12.0</td>\n",
       "      <td>11140.0</td>\n",
       "      <td>1.0</td>\n",
       "      <td>2</td>\n",
       "      <td>715.0</td>\n",
       "      <td>719.0</td>\n",
       "      <td>717.0</td>\n",
       "    </tr>\n",
       "    <tr>\n",
       "      <th>2</th>\n",
       "      <td>35000.0</td>\n",
       "      <td>35000.0</td>\n",
       "      <td>21.98</td>\n",
       "      <td>1</td>\n",
       "      <td>2</td>\n",
       "      <td>23.81%</td>\n",
       "      <td>4</td>\n",
       "      <td>0</td>\n",
       "      <td>11500.00</td>\n",
       "      <td>690-694</td>\n",
       "      <td>14.0</td>\n",
       "      <td>21977.0</td>\n",
       "      <td>1.0</td>\n",
       "      <td>2</td>\n",
       "      <td>690.0</td>\n",
       "      <td>694.0</td>\n",
       "      <td>692.0</td>\n",
       "    </tr>\n",
       "    <tr>\n",
       "      <th>3</th>\n",
       "      <td>10000.0</td>\n",
       "      <td>9975.0</td>\n",
       "      <td>9.99</td>\n",
       "      <td>0</td>\n",
       "      <td>2</td>\n",
       "      <td>14.30%</td>\n",
       "      <td>15</td>\n",
       "      <td>0</td>\n",
       "      <td>3833.33</td>\n",
       "      <td>695-699</td>\n",
       "      <td>10.0</td>\n",
       "      <td>9346.0</td>\n",
       "      <td>0.0</td>\n",
       "      <td>5</td>\n",
       "      <td>695.0</td>\n",
       "      <td>699.0</td>\n",
       "      <td>697.0</td>\n",
       "    </tr>\n",
       "    <tr>\n",
       "      <th>4</th>\n",
       "      <td>12000.0</td>\n",
       "      <td>12000.0</td>\n",
       "      <td>11.71</td>\n",
       "      <td>0</td>\n",
       "      <td>1</td>\n",
       "      <td>18.78%</td>\n",
       "      <td>27</td>\n",
       "      <td>3</td>\n",
       "      <td>3195.00</td>\n",
       "      <td>695-699</td>\n",
       "      <td>11.0</td>\n",
       "      <td>14469.0</td>\n",
       "      <td>0.0</td>\n",
       "      <td>9</td>\n",
       "      <td>695.0</td>\n",
       "      <td>699.0</td>\n",
       "      <td>697.0</td>\n",
       "    </tr>\n",
       "    <tr>\n",
       "      <th>5</th>\n",
       "      <td>6000.0</td>\n",
       "      <td>6000.0</td>\n",
       "      <td>15.31</td>\n",
       "      <td>0</td>\n",
       "      <td>9</td>\n",
       "      <td>20.05%</td>\n",
       "      <td>6</td>\n",
       "      <td>2</td>\n",
       "      <td>4891.67</td>\n",
       "      <td>670-674</td>\n",
       "      <td>17.0</td>\n",
       "      <td>10391.0</td>\n",
       "      <td>2.0</td>\n",
       "      <td>3</td>\n",
       "      <td>670.0</td>\n",
       "      <td>674.0</td>\n",
       "      <td>672.0</td>\n",
       "    </tr>\n",
       "    <tr>\n",
       "      <th>6</th>\n",
       "      <td>10000.0</td>\n",
       "      <td>10000.0</td>\n",
       "      <td>7.90</td>\n",
       "      <td>0</td>\n",
       "      <td>2</td>\n",
       "      <td>26.09%</td>\n",
       "      <td>18</td>\n",
       "      <td>3</td>\n",
       "      <td>2916.67</td>\n",
       "      <td>720-724</td>\n",
       "      <td>10.0</td>\n",
       "      <td>15957.0</td>\n",
       "      <td>0.0</td>\n",
       "      <td>1</td>\n",
       "      <td>720.0</td>\n",
       "      <td>724.0</td>\n",
       "      <td>722.0</td>\n",
       "    </tr>\n",
       "    <tr>\n",
       "      <th>7</th>\n",
       "      <td>33500.0</td>\n",
       "      <td>33450.0</td>\n",
       "      <td>17.14</td>\n",
       "      <td>1</td>\n",
       "      <td>1</td>\n",
       "      <td>14.70%</td>\n",
       "      <td>17</td>\n",
       "      <td>0</td>\n",
       "      <td>13863.42</td>\n",
       "      <td>705-709</td>\n",
       "      <td>12.0</td>\n",
       "      <td>27874.0</td>\n",
       "      <td>0.0</td>\n",
       "      <td>1</td>\n",
       "      <td>705.0</td>\n",
       "      <td>709.0</td>\n",
       "      <td>707.0</td>\n",
       "    </tr>\n",
       "    <tr>\n",
       "      <th>8</th>\n",
       "      <td>14675.0</td>\n",
       "      <td>14675.0</td>\n",
       "      <td>14.33</td>\n",
       "      <td>0</td>\n",
       "      <td>1</td>\n",
       "      <td>26.92%</td>\n",
       "      <td>4</td>\n",
       "      <td>3</td>\n",
       "      <td>3150.00</td>\n",
       "      <td>685-689</td>\n",
       "      <td>9.0</td>\n",
       "      <td>7246.0</td>\n",
       "      <td>1.0</td>\n",
       "      <td>8</td>\n",
       "      <td>685.0</td>\n",
       "      <td>689.0</td>\n",
       "      <td>687.0</td>\n",
       "    </tr>\n",
       "    <tr>\n",
       "      <th>9</th>\n",
       "      <td>7000.0</td>\n",
       "      <td>7000.0</td>\n",
       "      <td>6.91</td>\n",
       "      <td>0</td>\n",
       "      <td>1</td>\n",
       "      <td>7.10%</td>\n",
       "      <td>4</td>\n",
       "      <td>3</td>\n",
       "      <td>5000.00</td>\n",
       "      <td>715-719</td>\n",
       "      <td>8.0</td>\n",
       "      <td>7612.0</td>\n",
       "      <td>0.0</td>\n",
       "      <td>3</td>\n",
       "      <td>715.0</td>\n",
       "      <td>719.0</td>\n",
       "      <td>717.0</td>\n",
       "    </tr>\n",
       "    <tr>\n",
       "      <th>10</th>\n",
       "      <td>2000.0</td>\n",
       "      <td>2000.0</td>\n",
       "      <td>19.72</td>\n",
       "      <td>0</td>\n",
       "      <td>8</td>\n",
       "      <td>10.29%</td>\n",
       "      <td>9</td>\n",
       "      <td>3</td>\n",
       "      <td>3575.00</td>\n",
       "      <td>670-674</td>\n",
       "      <td>10.0</td>\n",
       "      <td>12036.0</td>\n",
       "      <td>0.0</td>\n",
       "      <td>6</td>\n",
       "      <td>670.0</td>\n",
       "      <td>674.0</td>\n",
       "      <td>672.0</td>\n",
       "    </tr>\n",
       "    <tr>\n",
       "      <th>11</th>\n",
       "      <td>10625.0</td>\n",
       "      <td>10625.0</td>\n",
       "      <td>14.27</td>\n",
       "      <td>0</td>\n",
       "      <td>2</td>\n",
       "      <td>12.54%</td>\n",
       "      <td>4</td>\n",
       "      <td>0</td>\n",
       "      <td>4250.00</td>\n",
       "      <td>665-669</td>\n",
       "      <td>14.0</td>\n",
       "      <td>10767.0</td>\n",
       "      <td>0.0</td>\n",
       "      <td>10</td>\n",
       "      <td>665.0</td>\n",
       "      <td>669.0</td>\n",
       "      <td>667.0</td>\n",
       "    </tr>\n",
       "    <tr>\n",
       "      <th>12</th>\n",
       "      <td>28000.0</td>\n",
       "      <td>27975.0</td>\n",
       "      <td>21.67</td>\n",
       "      <td>1</td>\n",
       "      <td>2</td>\n",
       "      <td>13.07%</td>\n",
       "      <td>6</td>\n",
       "      <td>0</td>\n",
       "      <td>14166.67</td>\n",
       "      <td>670-674</td>\n",
       "      <td>12.0</td>\n",
       "      <td>10311.0</td>\n",
       "      <td>0.0</td>\n",
       "      <td>0</td>\n",
       "      <td>670.0</td>\n",
       "      <td>674.0</td>\n",
       "      <td>672.0</td>\n",
       "    </tr>\n",
       "    <tr>\n",
       "      <th>13</th>\n",
       "      <td>35000.0</td>\n",
       "      <td>34950.0</td>\n",
       "      <td>8.90</td>\n",
       "      <td>0</td>\n",
       "      <td>2</td>\n",
       "      <td>20.46%</td>\n",
       "      <td>6</td>\n",
       "      <td>3</td>\n",
       "      <td>9166.67</td>\n",
       "      <td>735-739</td>\n",
       "      <td>19.0</td>\n",
       "      <td>21536.0</td>\n",
       "      <td>0.0</td>\n",
       "      <td>0</td>\n",
       "      <td>735.0</td>\n",
       "      <td>739.0</td>\n",
       "      <td>737.0</td>\n",
       "    </tr>\n",
       "    <tr>\n",
       "      <th>14</th>\n",
       "      <td>9600.0</td>\n",
       "      <td>9600.0</td>\n",
       "      <td>7.62</td>\n",
       "      <td>0</td>\n",
       "      <td>2</td>\n",
       "      <td>3.45%</td>\n",
       "      <td>7</td>\n",
       "      <td>3</td>\n",
       "      <td>11250.00</td>\n",
       "      <td>725-729</td>\n",
       "      <td>13.0</td>\n",
       "      <td>4606.0</td>\n",
       "      <td>0.0</td>\n",
       "      <td>10</td>\n",
       "      <td>725.0</td>\n",
       "      <td>729.0</td>\n",
       "      <td>727.0</td>\n",
       "    </tr>\n",
       "  </tbody>\n",
       "</table>\n",
       "</div>"
      ],
      "text/plain": [
       "    Amount.Requested  Amount.Funded.By.Investors  Interest.Rate  Loan.Length  \\\n",
       "0            20000.0                     20000.0           8.90            0   \n",
       "1            19200.0                     19200.0          12.12            0   \n",
       "2            35000.0                     35000.0          21.98            1   \n",
       "3            10000.0                      9975.0           9.99            0   \n",
       "4            12000.0                     12000.0          11.71            0   \n",
       "5             6000.0                      6000.0          15.31            0   \n",
       "6            10000.0                     10000.0           7.90            0   \n",
       "7            33500.0                     33450.0          17.14            1   \n",
       "8            14675.0                     14675.0          14.33            0   \n",
       "9             7000.0                      7000.0           6.91            0   \n",
       "10            2000.0                      2000.0          19.72            0   \n",
       "11           10625.0                     10625.0          14.27            0   \n",
       "12           28000.0                     27975.0          21.67            1   \n",
       "13           35000.0                     34950.0           8.90            0   \n",
       "14            9600.0                      9600.0           7.62            0   \n",
       "\n",
       "    Loan.Purpose Debt.To.Income.Ratio  State  Home.Ownership  Monthly.Income  \\\n",
       "0              2               14.90%     36               0         6541.67   \n",
       "1              2               28.36%     38               0         4583.33   \n",
       "2              2               23.81%      4               0        11500.00   \n",
       "3              2               14.30%     15               0         3833.33   \n",
       "4              1               18.78%     27               3         3195.00   \n",
       "5              9               20.05%      6               2         4891.67   \n",
       "6              2               26.09%     18               3         2916.67   \n",
       "7              1               14.70%     17               0        13863.42   \n",
       "8              1               26.92%      4               3         3150.00   \n",
       "9              1                7.10%      4               3         5000.00   \n",
       "10             8               10.29%      9               3         3575.00   \n",
       "11             2               12.54%      4               0         4250.00   \n",
       "12             2               13.07%      6               0        14166.67   \n",
       "13             2               20.46%      6               3         9166.67   \n",
       "14             2                3.45%      7               3        11250.00   \n",
       "\n",
       "   FICO.Range  Open.CREDIT.Lines  Revolving.CREDIT.Balance  \\\n",
       "0     735-739               14.0                   14272.0   \n",
       "1     715-719               12.0                   11140.0   \n",
       "2     690-694               14.0                   21977.0   \n",
       "3     695-699               10.0                    9346.0   \n",
       "4     695-699               11.0                   14469.0   \n",
       "5     670-674               17.0                   10391.0   \n",
       "6     720-724               10.0                   15957.0   \n",
       "7     705-709               12.0                   27874.0   \n",
       "8     685-689                9.0                    7246.0   \n",
       "9     715-719                8.0                    7612.0   \n",
       "10    670-674               10.0                   12036.0   \n",
       "11    665-669               14.0                   10767.0   \n",
       "12    670-674               12.0                   10311.0   \n",
       "13    735-739               19.0                   21536.0   \n",
       "14    725-729               13.0                    4606.0   \n",
       "\n",
       "    Inquiries.in.the.Last.6.Months  Employment.Length  Lower_bound  \\\n",
       "0                              2.0                 10        735.0   \n",
       "1                              1.0                  2        715.0   \n",
       "2                              1.0                  2        690.0   \n",
       "3                              0.0                  5        695.0   \n",
       "4                              0.0                  9        695.0   \n",
       "5                              2.0                  3        670.0   \n",
       "6                              0.0                  1        720.0   \n",
       "7                              0.0                  1        705.0   \n",
       "8                              1.0                  8        685.0   \n",
       "9                              0.0                  3        715.0   \n",
       "10                             0.0                  6        670.0   \n",
       "11                             0.0                 10        665.0   \n",
       "12                             0.0                  0        670.0   \n",
       "13                             0.0                  0        735.0   \n",
       "14                             0.0                 10        725.0   \n",
       "\n",
       "    Upper_bound  FICO_Score  \n",
       "0         739.0       737.0  \n",
       "1         719.0       717.0  \n",
       "2         694.0       692.0  \n",
       "3         699.0       697.0  \n",
       "4         699.0       697.0  \n",
       "5         674.0       672.0  \n",
       "6         724.0       722.0  \n",
       "7         709.0       707.0  \n",
       "8         689.0       687.0  \n",
       "9         719.0       717.0  \n",
       "10        674.0       672.0  \n",
       "11        669.0       667.0  \n",
       "12        674.0       672.0  \n",
       "13        739.0       737.0  \n",
       "14        729.0       727.0  "
      ]
     },
     "execution_count": 490,
     "metadata": {},
     "output_type": "execute_result"
    }
   ],
   "source": [
    "Loans_data1.head(15)"
   ]
  },
  {
   "cell_type": "code",
   "execution_count": 488,
   "id": "4644b820",
   "metadata": {},
   "outputs": [
    {
     "data": {
      "text/plain": [
       "Amount.Requested                  0\n",
       "Amount.Funded.By.Investors        0\n",
       "Interest.Rate                     0\n",
       "Loan.Length                       0\n",
       "Loan.Purpose                      0\n",
       "Debt.To.Income.Ratio              0\n",
       "State                             0\n",
       "Home.Ownership                    0\n",
       "Monthly.Income                    0\n",
       "FICO.Range                        0\n",
       "Open.CREDIT.Lines                 0\n",
       "Revolving.CREDIT.Balance          0\n",
       "Inquiries.in.the.Last.6.Months    0\n",
       "Employment.Length                 0\n",
       "Lower_bound                       0\n",
       "Upper_bound                       0\n",
       "FICO_Score                        0\n",
       "dtype: int64"
      ]
     },
     "execution_count": 488,
     "metadata": {},
     "output_type": "execute_result"
    }
   ],
   "source": [
    "Loans_data1.isnull().sum()"
   ]
  },
  {
   "cell_type": "code",
   "execution_count": 489,
   "id": "cbb2041e",
   "metadata": {},
   "outputs": [
    {
     "data": {
      "text/plain": [
       "0    1149\n",
       "3    1146\n",
       "2     200\n",
       "1       5\n",
       "Name: Home.Ownership, dtype: int64"
      ]
     },
     "execution_count": 489,
     "metadata": {},
     "output_type": "execute_result"
    }
   ],
   "source": [
    "Loans_data1['Home.Ownership'].value_counts()"
   ]
  },
  {
   "cell_type": "markdown",
   "id": "abe978f0",
   "metadata": {},
   "source": [
    "#### F-test"
   ]
  },
  {
   "cell_type": "code",
   "execution_count": 491,
   "id": "6bb3ca7b",
   "metadata": {},
   "outputs": [],
   "source": [
    "#declaring the variable\n",
    "vars_name = 'FICO_Score'"
   ]
  },
  {
   "cell_type": "code",
   "execution_count": 492,
   "id": "ca4d42dd",
   "metadata": {},
   "outputs": [],
   "source": [
    "#filtering the data \n",
    "Own = Loans_data1.loc[Loans_data1['Home.Ownership'] == 2, vars_name ]\n",
    "Rent =Loans_data1.loc[Loans_data1['Home.Ownership'] == 3,vars_name ]\n",
    "Mortgage = Loans_data1.loc[Loans_data1['Home.Ownership'] == 0,vars_name ]\n",
    "Others = Loans_data1.loc[Loans_data1['Home.Ownership'] == 1 ,vars_name ]"
   ]
  },
  {
   "cell_type": "code",
   "execution_count": 493,
   "id": "4cfd6475",
   "metadata": {},
   "outputs": [
    {
     "name": "stdout",
     "output_type": "stream",
     "text": [
      "Average of the people who have own home 708.55\n",
      "Average of the people who have Rental home 702.0305410122164\n",
      "Average of the people who lives in Mortgage 713.7362924281985\n",
      "Average of the people who belong to other category 674.0\n"
     ]
    }
   ],
   "source": [
    "#calculating the mean \n",
    "print(\"Average of the people who have own home\", Own.mean())\n",
    "print(\"Average of the people who have Rental home\", Rent.mean())\n",
    "print(\"Average of the people who lives in Mortgage\", Mortgage.mean())\n",
    "print(\"Average of the people who belong to other category\", Others.mean())"
   ]
  },
  {
   "cell_type": "code",
   "execution_count": null,
   "id": "106ff404",
   "metadata": {},
   "outputs": [],
   "source": [
    "#Defining hypothesis testing \n",
    "#H0: There is no relationship between home ownerdhip and the FICO score of the people\n",
    "#Ha: There is relationship between home ownerdhip and the FICO score of the people\n",
    "# CI =95%, p_value = 0.05%"
   ]
  },
  {
   "cell_type": "code",
   "execution_count": 494,
   "id": "f9af44a0",
   "metadata": {},
   "outputs": [
    {
     "data": {
      "text/plain": [
       "F_onewayResult(statistic=23.542913921632028, pvalue=5.042749015931857e-15)"
      ]
     },
     "execution_count": 494,
     "metadata": {},
     "output_type": "execute_result"
    }
   ],
   "source": [
    "stats.f_oneway(Own, Rent, Mortgage, Others)"
   ]
  },
  {
   "cell_type": "markdown",
   "id": "c08d13f8",
   "metadata": {},
   "source": [
    "CONCLUSION:\n",
    "Since the calculated p value is less than the defined p_value, we fail to reject the alternative hypothesis. And also we can claim that people with different home ownership have different FICO Score."
   ]
  },
  {
   "cell_type": "markdown",
   "id": "d275118a",
   "metadata": {},
   "source": [
    "# Background\n",
    "When an order is placed by a customer of a small manufacturing company, a\n",
    "price quote must be developed for that order. Because each order is unique, quotes must be\n",
    "established on an order-by-order basis by a pricing expert. The price quote process is laborintensive,\n",
    "as prices depend on many factors such as the part number, customer, geographic\n",
    "location, market, and order volume. The sales department manager is concerned that the pricing\n",
    "process is too complex, and that there might be too much variability in the quoted prices. An\n",
    "improvement team is tasked with studying and improving the pricing process.\n",
    "After interviewing experts to develop a better understanding of the current process, the team\n",
    "designed a study to determine if there is variability between pricing experts. That is, do different\n",
    "pricing experts provide different price quotes? Two randomly selected pricing experts, Mary and\n",
    "Barry, were asked to independently provide prices for twelve randomly selected orders. Each\n",
    "expert provided one price for each of the twelve orders.\n"
   ]
  },
  {
   "cell_type": "markdown",
   "id": "576b9c64",
   "metadata": {},
   "source": [
    "### BUSINESS PROBLEM 2:\n",
    "We would like to assess if there is any difference in the average price quotes provided by Mary and Barry."
   ]
  },
  {
   "cell_type": "markdown",
   "id": "4b7afb69",
   "metadata": {},
   "source": [
    "#### Dataset"
   ]
  },
  {
   "cell_type": "code",
   "execution_count": 194,
   "id": "49b9575c",
   "metadata": {},
   "outputs": [],
   "source": [
    "input_file_path = \"C:\\\\Projects\\\\EDA\\\\data\\\\input_files//\"\n",
    "input_file_name = \"Price_Quotes.csv\"  \n",
    "input_file_path + input_file_name \n",
    "Price_Quotes= pd.read_csv(input_file_path + input_file_name )"
   ]
  },
  {
   "cell_type": "code",
   "execution_count": 195,
   "id": "77c40788",
   "metadata": {},
   "outputs": [
    {
     "data": {
      "text/plain": [
       "(12, 3)"
      ]
     },
     "execution_count": 195,
     "metadata": {},
     "output_type": "execute_result"
    }
   ],
   "source": [
    "Price_Quotes.shape"
   ]
  },
  {
   "cell_type": "code",
   "execution_count": 196,
   "id": "8e1ab0f9",
   "metadata": {},
   "outputs": [
    {
     "data": {
      "text/html": [
       "<div>\n",
       "<style scoped>\n",
       "    .dataframe tbody tr th:only-of-type {\n",
       "        vertical-align: middle;\n",
       "    }\n",
       "\n",
       "    .dataframe tbody tr th {\n",
       "        vertical-align: top;\n",
       "    }\n",
       "\n",
       "    .dataframe thead th {\n",
       "        text-align: right;\n",
       "    }\n",
       "</style>\n",
       "<table border=\"1\" class=\"dataframe\">\n",
       "  <thead>\n",
       "    <tr style=\"text-align: right;\">\n",
       "      <th></th>\n",
       "      <th>Order_Number</th>\n",
       "      <th>Barry_Price</th>\n",
       "      <th>Mary_Price</th>\n",
       "    </tr>\n",
       "  </thead>\n",
       "  <tbody>\n",
       "    <tr>\n",
       "      <th>0</th>\n",
       "      <td>1</td>\n",
       "      <td>126</td>\n",
       "      <td>114</td>\n",
       "    </tr>\n",
       "    <tr>\n",
       "      <th>1</th>\n",
       "      <td>2</td>\n",
       "      <td>110</td>\n",
       "      <td>118</td>\n",
       "    </tr>\n",
       "    <tr>\n",
       "      <th>2</th>\n",
       "      <td>3</td>\n",
       "      <td>138</td>\n",
       "      <td>114</td>\n",
       "    </tr>\n",
       "    <tr>\n",
       "      <th>3</th>\n",
       "      <td>4</td>\n",
       "      <td>142</td>\n",
       "      <td>111</td>\n",
       "    </tr>\n",
       "    <tr>\n",
       "      <th>4</th>\n",
       "      <td>5</td>\n",
       "      <td>146</td>\n",
       "      <td>129</td>\n",
       "    </tr>\n",
       "    <tr>\n",
       "      <th>5</th>\n",
       "      <td>6</td>\n",
       "      <td>136</td>\n",
       "      <td>119</td>\n",
       "    </tr>\n",
       "    <tr>\n",
       "      <th>6</th>\n",
       "      <td>7</td>\n",
       "      <td>94</td>\n",
       "      <td>97</td>\n",
       "    </tr>\n",
       "    <tr>\n",
       "      <th>7</th>\n",
       "      <td>8</td>\n",
       "      <td>103</td>\n",
       "      <td>104</td>\n",
       "    </tr>\n",
       "    <tr>\n",
       "      <th>8</th>\n",
       "      <td>9</td>\n",
       "      <td>140</td>\n",
       "      <td>127</td>\n",
       "    </tr>\n",
       "    <tr>\n",
       "      <th>9</th>\n",
       "      <td>10</td>\n",
       "      <td>152</td>\n",
       "      <td>133</td>\n",
       "    </tr>\n",
       "    <tr>\n",
       "      <th>10</th>\n",
       "      <td>11</td>\n",
       "      <td>108</td>\n",
       "      <td>103</td>\n",
       "    </tr>\n",
       "    <tr>\n",
       "      <th>11</th>\n",
       "      <td>12</td>\n",
       "      <td>97</td>\n",
       "      <td>108</td>\n",
       "    </tr>\n",
       "  </tbody>\n",
       "</table>\n",
       "</div>"
      ],
      "text/plain": [
       "    Order_Number  Barry_Price  Mary_Price\n",
       "0              1          126         114\n",
       "1              2          110         118\n",
       "2              3          138         114\n",
       "3              4          142         111\n",
       "4              5          146         129\n",
       "5              6          136         119\n",
       "6              7           94          97\n",
       "7              8          103         104\n",
       "8              9          140         127\n",
       "9             10          152         133\n",
       "10            11          108         103\n",
       "11            12           97         108"
      ]
     },
     "execution_count": 196,
     "metadata": {},
     "output_type": "execute_result"
    }
   ],
   "source": [
    "Price_Quotes.head(15)"
   ]
  },
  {
   "cell_type": "markdown",
   "id": "9d1c552e",
   "metadata": {},
   "source": [
    "##### Checking data types"
   ]
  },
  {
   "cell_type": "code",
   "execution_count": 197,
   "id": "92bd0a9f",
   "metadata": {},
   "outputs": [
    {
     "data": {
      "text/plain": [
       "Order_Number    int64\n",
       "Barry_Price     int64\n",
       "Mary_Price      int64\n",
       "dtype: object"
      ]
     },
     "execution_count": 197,
     "metadata": {},
     "output_type": "execute_result"
    }
   ],
   "source": [
    "Price_Quotes.dtypes"
   ]
  },
  {
   "cell_type": "code",
   "execution_count": 211,
   "id": "83d23ebf",
   "metadata": {},
   "outputs": [
    {
     "data": {
      "text/plain": [
       "Index(['Order_Number', 'Barry_Price', 'Mary_Price'], dtype='object')"
      ]
     },
     "execution_count": 211,
     "metadata": {},
     "output_type": "execute_result"
    }
   ],
   "source": [
    "Price_Quotes.columns"
   ]
  },
  {
   "cell_type": "markdown",
   "id": "c6b25b59",
   "metadata": {},
   "source": [
    "#### Independent sample ttest"
   ]
  },
  {
   "cell_type": "code",
   "execution_count": null,
   "id": "9b237b84",
   "metadata": {},
   "outputs": [],
   "source": [
    "# Defining the hypothesis testing \n",
    "# H0: There is no difference in the average price quotes by Mary and Barry\n",
    "# Ha: There is difference in the average price quotes by Mary and Barry\n",
    "#ci: 80% , p_value = 0.20%"
   ]
  },
  {
   "cell_type": "code",
   "execution_count": 212,
   "id": "3002ab84",
   "metadata": {},
   "outputs": [
    {
     "name": "stdout",
     "output_type": "stream",
     "text": [
      "Barry's average quoted price 124.33333333333333\n",
      "Mary's average quoted price 114.75\n"
     ]
    }
   ],
   "source": [
    "#mean for the different quoted price\n",
    "print(\"Barry's average quoted price\", Price_Quotes['Barry_Price'].mean())\n",
    "print(\"Mary's average quoted price\", Price_Quotes['Mary_Price'].mean())"
   ]
  },
  {
   "cell_type": "code",
   "execution_count": 215,
   "id": "0ced35bc",
   "metadata": {},
   "outputs": [
    {
     "data": {
      "text/plain": [
       "Ttest_indResult(statistic=1.4147436739281787, pvalue=0.17114226132118285)"
      ]
     },
     "execution_count": 215,
     "metadata": {},
     "output_type": "execute_result"
    }
   ],
   "source": [
    "stats.ttest_ind(Price_Quotes['Barry_Price'],Price_Quotes['Mary_Price'] )"
   ]
  },
  {
   "cell_type": "markdown",
   "id": "7a923cb1",
   "metadata": {},
   "source": [
    "CONCLUSION:\n",
    "Since the calculated p_value is lesser than the defined p_value, we fail to reject the null hypothesis. And we can claim there is difference in the price quoted by Mary and Barry."
   ]
  },
  {
   "cell_type": "markdown",
   "id": "a74f2d72",
   "metadata": {},
   "source": [
    "## Background\n",
    "The New Life Residential Treatment Facility is a NGO that treats teenagers who\n",
    "have shown signs of mental illness. It provides housing and supervision of teenagers who are\n",
    "making the transition from psychiatric hospitals back into the community. Because many of\n",
    "the teenagers were severely abused as children and have been involved with the juvenile\n",
    "justice system, behavioral problems are common at New Life. Employee pay is low and staff\n",
    "turnover (attrition) is high.\n",
    "\n",
    "A reengineering program was instituted at New Life with the goals of lowering behavioral\n",
    "problems of the kids and decreasing employee turnover rates. As a part of this effort, the\n",
    "following changes were made:\n",
    " Employee shifts were shortened from 10 hours to 8 hours each day.\n",
    "\n",
    " Employees were motivated to become more involved in patient treatments. This\n",
    "included encouraging staff to run various therapeutic treatment sessions and allowing\n",
    "staff to have more say in program changes.\n",
    "\n",
    " The activities budget was increased.\n",
    "\n",
    " A facility-wide performance evaluation system was put into place that rewarded staff\n",
    "participation and innovation.\n",
    "\n",
    " Management and staff instituted a program designed to raise expectations about\n",
    "appropriate behavior from the kids. This included strict compliance with reporting of\n",
    "behavioral violations, insistence on participation in therapeutic sessions, and a\n",
    "lowered tolerance for even moderate behavioral infractions.\n",
    "\n",
    "To determine the effectiveness of the reengineering effort, a data set comprised of pre- and\n",
    "post-reengineering periods was compiled. The information contains two measures of\n",
    "behavioral problems. A critical incident occurs when a resident goes AWOL (leaves the\n",
    "premises without permission), destroys property (e.g., punching a hole in a wall or throwing\n",
    "furniture through windows), is caught in possession of street drugs, or engages in assault\n",
    "against other residents or staff members. A teenager is temporarily removed from the facility\n",
    "when s/he is sent to jail or back to a psychiatric hospital"
   ]
  },
  {
   "cell_type": "markdown",
   "id": "18384cf1",
   "metadata": {},
   "source": [
    "### BUSINESS PROBLEM 3:\n",
    "Determine what effect, if any, the reengineering effort had on the incidence behavioral problems and staff turnover. i.e To determine if the reengineering effort\n",
    "changed the critical incidence rate. Is there evidence that the critical incidence rate improved?"
   ]
  },
  {
   "cell_type": "markdown",
   "id": "8cfbe76b",
   "metadata": {},
   "source": [
    "#### Dataset"
   ]
  },
  {
   "cell_type": "code",
   "execution_count": 217,
   "id": "a099b3c3",
   "metadata": {},
   "outputs": [],
   "source": [
    "input_file_path = \"C:\\\\Projects\\\\EDA\\\\data\\\\input_files//\"\n",
    "input_file_name = \"Treatment_Facility.csv\"  \n",
    "input_file_path + input_file_name \n",
    "Treatment_Facility= pd.read_csv(input_file_path + input_file_name )"
   ]
  },
  {
   "cell_type": "code",
   "execution_count": 218,
   "id": "b7b62f3f",
   "metadata": {},
   "outputs": [
    {
     "data": {
      "text/plain": [
       "(20, 5)"
      ]
     },
     "execution_count": 218,
     "metadata": {},
     "output_type": "execute_result"
    }
   ],
   "source": [
    "Treatment_Facility.shape"
   ]
  },
  {
   "cell_type": "code",
   "execution_count": 219,
   "id": "6e323c79",
   "metadata": {},
   "outputs": [
    {
     "data": {
      "text/html": [
       "<div>\n",
       "<style scoped>\n",
       "    .dataframe tbody tr th:only-of-type {\n",
       "        vertical-align: middle;\n",
       "    }\n",
       "\n",
       "    .dataframe tbody tr th {\n",
       "        vertical-align: top;\n",
       "    }\n",
       "\n",
       "    .dataframe thead th {\n",
       "        text-align: right;\n",
       "    }\n",
       "</style>\n",
       "<table border=\"1\" class=\"dataframe\">\n",
       "  <thead>\n",
       "    <tr style=\"text-align: right;\">\n",
       "      <th></th>\n",
       "      <th>Month</th>\n",
       "      <th>Reengineer</th>\n",
       "      <th>Employee_Turnover</th>\n",
       "      <th>VAR4</th>\n",
       "      <th>VAR5</th>\n",
       "    </tr>\n",
       "  </thead>\n",
       "  <tbody>\n",
       "    <tr>\n",
       "      <th>0</th>\n",
       "      <td>1</td>\n",
       "      <td>Prior</td>\n",
       "      <td>0.0000</td>\n",
       "      <td>24.390244</td>\n",
       "      <td>42.682927</td>\n",
       "    </tr>\n",
       "    <tr>\n",
       "      <th>1</th>\n",
       "      <td>2</td>\n",
       "      <td>Prior</td>\n",
       "      <td>6.0606</td>\n",
       "      <td>19.354839</td>\n",
       "      <td>25.806452</td>\n",
       "    </tr>\n",
       "    <tr>\n",
       "      <th>2</th>\n",
       "      <td>3</td>\n",
       "      <td>Prior</td>\n",
       "      <td>12.1212</td>\n",
       "      <td>35.087719</td>\n",
       "      <td>146.198830</td>\n",
       "    </tr>\n",
       "    <tr>\n",
       "      <th>3</th>\n",
       "      <td>4</td>\n",
       "      <td>Prior</td>\n",
       "      <td>3.3333</td>\n",
       "      <td>18.404908</td>\n",
       "      <td>110.429448</td>\n",
       "    </tr>\n",
       "    <tr>\n",
       "      <th>4</th>\n",
       "      <td>5</td>\n",
       "      <td>Prior</td>\n",
       "      <td>12.9032</td>\n",
       "      <td>17.964072</td>\n",
       "      <td>23.952096</td>\n",
       "    </tr>\n",
       "    <tr>\n",
       "      <th>5</th>\n",
       "      <td>6</td>\n",
       "      <td>Prior</td>\n",
       "      <td>9.6774</td>\n",
       "      <td>41.176471</td>\n",
       "      <td>47.058824</td>\n",
       "    </tr>\n",
       "    <tr>\n",
       "      <th>6</th>\n",
       "      <td>7</td>\n",
       "      <td>Prior</td>\n",
       "      <td>11.7647</td>\n",
       "      <td>13.422819</td>\n",
       "      <td>0.000000</td>\n",
       "    </tr>\n",
       "    <tr>\n",
       "      <th>7</th>\n",
       "      <td>8</td>\n",
       "      <td>Prior</td>\n",
       "      <td>11.4286</td>\n",
       "      <td>31.250000</td>\n",
       "      <td>25.000000</td>\n",
       "    </tr>\n",
       "    <tr>\n",
       "      <th>8</th>\n",
       "      <td>9</td>\n",
       "      <td>Prior</td>\n",
       "      <td>23.0769</td>\n",
       "      <td>17.241379</td>\n",
       "      <td>132.183908</td>\n",
       "    </tr>\n",
       "    <tr>\n",
       "      <th>9</th>\n",
       "      <td>10</td>\n",
       "      <td>Prior</td>\n",
       "      <td>15.0000</td>\n",
       "      <td>16.574586</td>\n",
       "      <td>16.574586</td>\n",
       "    </tr>\n",
       "    <tr>\n",
       "      <th>10</th>\n",
       "      <td>11</td>\n",
       "      <td>Prior</td>\n",
       "      <td>10.0000</td>\n",
       "      <td>5.917160</td>\n",
       "      <td>88.757396</td>\n",
       "    </tr>\n",
       "    <tr>\n",
       "      <th>11</th>\n",
       "      <td>12</td>\n",
       "      <td>Prior</td>\n",
       "      <td>26.0870</td>\n",
       "      <td>21.164021</td>\n",
       "      <td>31.746032</td>\n",
       "    </tr>\n",
       "    <tr>\n",
       "      <th>12</th>\n",
       "      <td>13</td>\n",
       "      <td>Prior</td>\n",
       "      <td>11.1111</td>\n",
       "      <td>5.076142</td>\n",
       "      <td>10.152284</td>\n",
       "    </tr>\n",
       "    <tr>\n",
       "      <th>13</th>\n",
       "      <td>14</td>\n",
       "      <td>Post</td>\n",
       "      <td>26.6667</td>\n",
       "      <td>9.708738</td>\n",
       "      <td>29.126214</td>\n",
       "    </tr>\n",
       "    <tr>\n",
       "      <th>14</th>\n",
       "      <td>15</td>\n",
       "      <td>Post</td>\n",
       "      <td>17.9487</td>\n",
       "      <td>4.201681</td>\n",
       "      <td>21.008403</td>\n",
       "    </tr>\n",
       "    <tr>\n",
       "      <th>15</th>\n",
       "      <td>16</td>\n",
       "      <td>Post</td>\n",
       "      <td>12.8205</td>\n",
       "      <td>13.043478</td>\n",
       "      <td>34.782609</td>\n",
       "    </tr>\n",
       "    <tr>\n",
       "      <th>16</th>\n",
       "      <td>17</td>\n",
       "      <td>Post</td>\n",
       "      <td>15.7895</td>\n",
       "      <td>9.950249</td>\n",
       "      <td>19.900498</td>\n",
       "    </tr>\n",
       "    <tr>\n",
       "      <th>17</th>\n",
       "      <td>18</td>\n",
       "      <td>Post</td>\n",
       "      <td>0.0000</td>\n",
       "      <td>9.950249</td>\n",
       "      <td>9.950249</td>\n",
       "    </tr>\n",
       "    <tr>\n",
       "      <th>18</th>\n",
       "      <td>19</td>\n",
       "      <td>Post</td>\n",
       "      <td>30.7692</td>\n",
       "      <td>8.510638</td>\n",
       "      <td>25.531915</td>\n",
       "    </tr>\n",
       "    <tr>\n",
       "      <th>19</th>\n",
       "      <td>20</td>\n",
       "      <td>Post</td>\n",
       "      <td>26.8293</td>\n",
       "      <td>9.259259</td>\n",
       "      <td>23.148148</td>\n",
       "    </tr>\n",
       "  </tbody>\n",
       "</table>\n",
       "</div>"
      ],
      "text/plain": [
       "    Month Reengineer  Employee_Turnover       VAR4        VAR5\n",
       "0       1      Prior             0.0000  24.390244   42.682927\n",
       "1       2      Prior             6.0606  19.354839   25.806452\n",
       "2       3      Prior            12.1212  35.087719  146.198830\n",
       "3       4      Prior             3.3333  18.404908  110.429448\n",
       "4       5      Prior            12.9032  17.964072   23.952096\n",
       "5       6      Prior             9.6774  41.176471   47.058824\n",
       "6       7      Prior            11.7647  13.422819    0.000000\n",
       "7       8      Prior            11.4286  31.250000   25.000000\n",
       "8       9      Prior            23.0769  17.241379  132.183908\n",
       "9      10      Prior            15.0000  16.574586   16.574586\n",
       "10     11      Prior            10.0000   5.917160   88.757396\n",
       "11     12      Prior            26.0870  21.164021   31.746032\n",
       "12     13      Prior            11.1111   5.076142   10.152284\n",
       "13     14       Post            26.6667   9.708738   29.126214\n",
       "14     15       Post            17.9487   4.201681   21.008403\n",
       "15     16       Post            12.8205  13.043478   34.782609\n",
       "16     17       Post            15.7895   9.950249   19.900498\n",
       "17     18       Post             0.0000   9.950249    9.950249\n",
       "18     19       Post            30.7692   8.510638   25.531915\n",
       "19     20       Post            26.8293   9.259259   23.148148"
      ]
     },
     "execution_count": 219,
     "metadata": {},
     "output_type": "execute_result"
    }
   ],
   "source": [
    "Treatment_Facility.head(3)"
   ]
  },
  {
   "cell_type": "code",
   "execution_count": 222,
   "id": "22b6720b",
   "metadata": {},
   "outputs": [],
   "source": [
    "Treatment_Facility = Treatment_Facility.rename(columns ={'VAR4': 'TRFF', 'VAR5': 'CI'})"
   ]
  },
  {
   "cell_type": "code",
   "execution_count": 223,
   "id": "90ef2aac",
   "metadata": {},
   "outputs": [
    {
     "data": {
      "text/html": [
       "<div>\n",
       "<style scoped>\n",
       "    .dataframe tbody tr th:only-of-type {\n",
       "        vertical-align: middle;\n",
       "    }\n",
       "\n",
       "    .dataframe tbody tr th {\n",
       "        vertical-align: top;\n",
       "    }\n",
       "\n",
       "    .dataframe thead th {\n",
       "        text-align: right;\n",
       "    }\n",
       "</style>\n",
       "<table border=\"1\" class=\"dataframe\">\n",
       "  <thead>\n",
       "    <tr style=\"text-align: right;\">\n",
       "      <th></th>\n",
       "      <th>Month</th>\n",
       "      <th>Reengineer</th>\n",
       "      <th>Employee_Turnover</th>\n",
       "      <th>TRFF</th>\n",
       "      <th>CI</th>\n",
       "    </tr>\n",
       "  </thead>\n",
       "  <tbody>\n",
       "    <tr>\n",
       "      <th>0</th>\n",
       "      <td>1</td>\n",
       "      <td>Prior</td>\n",
       "      <td>0.0000</td>\n",
       "      <td>24.390244</td>\n",
       "      <td>42.682927</td>\n",
       "    </tr>\n",
       "    <tr>\n",
       "      <th>1</th>\n",
       "      <td>2</td>\n",
       "      <td>Prior</td>\n",
       "      <td>6.0606</td>\n",
       "      <td>19.354839</td>\n",
       "      <td>25.806452</td>\n",
       "    </tr>\n",
       "    <tr>\n",
       "      <th>2</th>\n",
       "      <td>3</td>\n",
       "      <td>Prior</td>\n",
       "      <td>12.1212</td>\n",
       "      <td>35.087719</td>\n",
       "      <td>146.198830</td>\n",
       "    </tr>\n",
       "    <tr>\n",
       "      <th>3</th>\n",
       "      <td>4</td>\n",
       "      <td>Prior</td>\n",
       "      <td>3.3333</td>\n",
       "      <td>18.404908</td>\n",
       "      <td>110.429448</td>\n",
       "    </tr>\n",
       "    <tr>\n",
       "      <th>4</th>\n",
       "      <td>5</td>\n",
       "      <td>Prior</td>\n",
       "      <td>12.9032</td>\n",
       "      <td>17.964072</td>\n",
       "      <td>23.952096</td>\n",
       "    </tr>\n",
       "    <tr>\n",
       "      <th>5</th>\n",
       "      <td>6</td>\n",
       "      <td>Prior</td>\n",
       "      <td>9.6774</td>\n",
       "      <td>41.176471</td>\n",
       "      <td>47.058824</td>\n",
       "    </tr>\n",
       "    <tr>\n",
       "      <th>6</th>\n",
       "      <td>7</td>\n",
       "      <td>Prior</td>\n",
       "      <td>11.7647</td>\n",
       "      <td>13.422819</td>\n",
       "      <td>0.000000</td>\n",
       "    </tr>\n",
       "    <tr>\n",
       "      <th>7</th>\n",
       "      <td>8</td>\n",
       "      <td>Prior</td>\n",
       "      <td>11.4286</td>\n",
       "      <td>31.250000</td>\n",
       "      <td>25.000000</td>\n",
       "    </tr>\n",
       "    <tr>\n",
       "      <th>8</th>\n",
       "      <td>9</td>\n",
       "      <td>Prior</td>\n",
       "      <td>23.0769</td>\n",
       "      <td>17.241379</td>\n",
       "      <td>132.183908</td>\n",
       "    </tr>\n",
       "  </tbody>\n",
       "</table>\n",
       "</div>"
      ],
      "text/plain": [
       "   Month Reengineer  Employee_Turnover       TRFF          CI\n",
       "0      1      Prior             0.0000  24.390244   42.682927\n",
       "1      2      Prior             6.0606  19.354839   25.806452\n",
       "2      3      Prior            12.1212  35.087719  146.198830\n",
       "3      4      Prior             3.3333  18.404908  110.429448\n",
       "4      5      Prior            12.9032  17.964072   23.952096\n",
       "5      6      Prior             9.6774  41.176471   47.058824\n",
       "6      7      Prior            11.7647  13.422819    0.000000\n",
       "7      8      Prior            11.4286  31.250000   25.000000\n",
       "8      9      Prior            23.0769  17.241379  132.183908"
      ]
     },
     "execution_count": 223,
     "metadata": {},
     "output_type": "execute_result"
    }
   ],
   "source": [
    "Treatment_Facility.head(9)"
   ]
  },
  {
   "cell_type": "markdown",
   "id": "bdc3d720",
   "metadata": {},
   "source": [
    "#### Checking dtypes"
   ]
  },
  {
   "cell_type": "code",
   "execution_count": 220,
   "id": "e427a056",
   "metadata": {},
   "outputs": [
    {
     "data": {
      "text/plain": [
       "Month                  int64\n",
       "Reengineer            object\n",
       "Employee_Turnover    float64\n",
       "VAR4                 float64\n",
       "VAR5                 float64\n",
       "dtype: object"
      ]
     },
     "execution_count": 220,
     "metadata": {},
     "output_type": "execute_result"
    }
   ],
   "source": [
    "Treatment_Facility.dtypes"
   ]
  },
  {
   "cell_type": "markdown",
   "id": "03677a57",
   "metadata": {},
   "source": [
    "#### Handling null values "
   ]
  },
  {
   "cell_type": "code",
   "execution_count": 224,
   "id": "f0519d83",
   "metadata": {},
   "outputs": [
    {
     "data": {
      "text/plain": [
       "Month                0\n",
       "Reengineer           0\n",
       "Employee_Turnover    0\n",
       "TRFF                 0\n",
       "CI                   0\n",
       "dtype: int64"
      ]
     },
     "execution_count": 224,
     "metadata": {},
     "output_type": "execute_result"
    }
   ],
   "source": [
    "Treatment_Facility.isnull().sum()"
   ]
  },
  {
   "cell_type": "markdown",
   "id": "b551b07b",
   "metadata": {},
   "source": [
    "#### Independent sample ttest"
   ]
  },
  {
   "cell_type": "code",
   "execution_count": null,
   "id": "f2949d80",
   "metadata": {},
   "outputs": [],
   "source": [
    "#Defining the hypothesis statements \n",
    "#H0:There is no change in the critical incidence rate because of the re engineering efforts\n",
    "#Ha:There is change in the critical incidence rate because of the re engineering efforts\n",
    "#CI =95% , p_value = 0.15%"
   ]
  },
  {
   "cell_type": "code",
   "execution_count": 225,
   "id": "eb24692e",
   "metadata": {},
   "outputs": [],
   "source": [
    "#Filtering the data \n",
    "variable_name = 'CI'\n",
    "Prior = Treatment_Facility.loc[Treatment_Facility['Reengineer'] == 'Prior', variable_name ]\n",
    "Post = Treatment_Facility.loc[Treatment_Facility['Reengineer'] == 'Post', variable_name ]"
   ]
  },
  {
   "cell_type": "code",
   "execution_count": 227,
   "id": "0feedf17",
   "metadata": {},
   "outputs": [
    {
     "name": "stdout",
     "output_type": "stream",
     "text": [
      "Average of the prior critical incidence rate 53.887906321846145\n",
      "Average of the post critical incidence rate 23.34971927988571\n"
     ]
    }
   ],
   "source": [
    "#Calculating the mean\n",
    "print(\"Average of the prior critical incidence rate\", Prior.mean())\n",
    "print(\"Average of the post critical incidence rate\", Post.mean())"
   ]
  },
  {
   "cell_type": "code",
   "execution_count": 228,
   "id": "ac72b415",
   "metadata": {},
   "outputs": [
    {
     "data": {
      "text/plain": [
       "Ttest_indResult(statistic=1.627914425352865, pvalue=0.12091989189884148)"
      ]
     },
     "execution_count": 228,
     "metadata": {},
     "output_type": "execute_result"
    }
   ],
   "source": [
    "#performing the test\n",
    "stats.ttest_ind(Prior,Post)"
   ]
  },
  {
   "cell_type": "markdown",
   "id": "df9adede",
   "metadata": {},
   "source": [
    "CONCLUSION:\n",
    "Since the calculated p _value is lesser than the defined p_value, we fail to reject the alternative hypothesis. And also we can claim there is a change in the critical incidene rate because of the re engineering efforts"
   ]
  },
  {
   "cell_type": "markdown",
   "id": "addf82ce",
   "metadata": {},
   "source": [
    "## Background\n",
    "Software development projects typically follow six basic phases: Requirements,\n",
    "design, implementation (and integration), testing (validation), deployment (installation) and\n",
    "maintenance. First, general requirements are gathered, and the scope of the functionality is\n",
    "defined. Then, alternative scenarios for the required functionality are developed and\n",
    "evaluated. Implementation, usually 50% or more of the development time, is the phase in\n",
    "which the design is translated into programs and integrated with other parts of the software –\n",
    "this is when software engineers actually develop the code. During the final phases, programs\n",
    "are tested, software is put into use, and faults or performance issues are addressed.\n",
    "ApDudes, a developer of applications for tablet computers, was having difficulty meeting\n",
    "project deadlines; only 10% of their projects had been completed within budget and on time\n",
    "last year and that was starting to hurt business. The group’s project manager was tasked with\n",
    "studying problems within the implementation phase. He found that software engineers were\n",
    "having difficulty prioritizing their work, and that they often became overwhelmed by the\n",
    "magnitude of the projects.\n",
    "As a result, two changes were made. Each project was broken down into smaller, distinct\n",
    "tasks, or jobs, and each job was assigned a priority. The project manager believes that this\n",
    "classification and prioritization system would speed the completion of high priority jobs, and\n",
    "thus lower overall project completion time"
   ]
  },
  {
   "cell_type": "markdown",
   "id": "19acb320",
   "metadata": {},
   "source": [
    "### BUSINESS PROBLEM 4:\n",
    "We will focus on the prioritization system. If the system is working, then\n",
    "high priority jobs, on average, should be completed more quickly than medium priority jobs,\n",
    "and medium priority jobs should be completed more quickly than low priority jobs. Use the\n",
    "data provided to determine whether this is, in fact, occurring"
   ]
  },
  {
   "cell_type": "markdown",
   "id": "44f6481f",
   "metadata": {},
   "source": [
    "#### Dataset"
   ]
  },
  {
   "cell_type": "code",
   "execution_count": 230,
   "id": "8910ed2b",
   "metadata": {},
   "outputs": [],
   "source": [
    "input_file_path = \"C:\\\\Projects\\\\EDA\\\\data\\\\input_files//\"\n",
    "input_file_name = \"Priority_Assessment.csv\"  \n",
    "input_file_path + input_file_name \n",
    "Priority_Assessment= pd.read_csv(input_file_path + input_file_name )"
   ]
  },
  {
   "cell_type": "code",
   "execution_count": 231,
   "id": "4e32cbe5",
   "metadata": {},
   "outputs": [
    {
     "data": {
      "text/plain": [
       "(642, 2)"
      ]
     },
     "execution_count": 231,
     "metadata": {},
     "output_type": "execute_result"
    }
   ],
   "source": [
    "Priority_Assessment.shape"
   ]
  },
  {
   "cell_type": "code",
   "execution_count": 233,
   "id": "04c9a042",
   "metadata": {},
   "outputs": [
    {
     "data": {
      "text/html": [
       "<div>\n",
       "<style scoped>\n",
       "    .dataframe tbody tr th:only-of-type {\n",
       "        vertical-align: middle;\n",
       "    }\n",
       "\n",
       "    .dataframe tbody tr th {\n",
       "        vertical-align: top;\n",
       "    }\n",
       "\n",
       "    .dataframe thead th {\n",
       "        text-align: right;\n",
       "    }\n",
       "</style>\n",
       "<table border=\"1\" class=\"dataframe\">\n",
       "  <thead>\n",
       "    <tr style=\"text-align: right;\">\n",
       "      <th></th>\n",
       "      <th>Days</th>\n",
       "      <th>Priority</th>\n",
       "    </tr>\n",
       "  </thead>\n",
       "  <tbody>\n",
       "    <tr>\n",
       "      <th>0</th>\n",
       "      <td>3.3</td>\n",
       "      <td>High</td>\n",
       "    </tr>\n",
       "    <tr>\n",
       "      <th>1</th>\n",
       "      <td>7.9</td>\n",
       "      <td>Medium</td>\n",
       "    </tr>\n",
       "    <tr>\n",
       "      <th>2</th>\n",
       "      <td>0.3</td>\n",
       "      <td>High</td>\n",
       "    </tr>\n",
       "    <tr>\n",
       "      <th>3</th>\n",
       "      <td>0.7</td>\n",
       "      <td>Medium</td>\n",
       "    </tr>\n",
       "    <tr>\n",
       "      <th>4</th>\n",
       "      <td>8.6</td>\n",
       "      <td>Medium</td>\n",
       "    </tr>\n",
       "    <tr>\n",
       "      <th>5</th>\n",
       "      <td>0.3</td>\n",
       "      <td>High</td>\n",
       "    </tr>\n",
       "    <tr>\n",
       "      <th>6</th>\n",
       "      <td>0.3</td>\n",
       "      <td>High</td>\n",
       "    </tr>\n",
       "    <tr>\n",
       "      <th>7</th>\n",
       "      <td>0.3</td>\n",
       "      <td>High</td>\n",
       "    </tr>\n",
       "    <tr>\n",
       "      <th>8</th>\n",
       "      <td>72.9</td>\n",
       "      <td>High</td>\n",
       "    </tr>\n",
       "    <tr>\n",
       "      <th>9</th>\n",
       "      <td>15.9</td>\n",
       "      <td>Medium</td>\n",
       "    </tr>\n",
       "    <tr>\n",
       "      <th>10</th>\n",
       "      <td>9.3</td>\n",
       "      <td>High</td>\n",
       "    </tr>\n",
       "    <tr>\n",
       "      <th>11</th>\n",
       "      <td>0.3</td>\n",
       "      <td>Medium</td>\n",
       "    </tr>\n",
       "    <tr>\n",
       "      <th>12</th>\n",
       "      <td>0.3</td>\n",
       "      <td>Medium</td>\n",
       "    </tr>\n",
       "    <tr>\n",
       "      <th>13</th>\n",
       "      <td>1.3</td>\n",
       "      <td>Medium</td>\n",
       "    </tr>\n",
       "    <tr>\n",
       "      <th>14</th>\n",
       "      <td>23.2</td>\n",
       "      <td>Low</td>\n",
       "    </tr>\n",
       "  </tbody>\n",
       "</table>\n",
       "</div>"
      ],
      "text/plain": [
       "    Days Priority\n",
       "0    3.3     High\n",
       "1    7.9   Medium\n",
       "2    0.3     High\n",
       "3    0.7   Medium\n",
       "4    8.6   Medium\n",
       "5    0.3     High\n",
       "6    0.3     High\n",
       "7    0.3     High\n",
       "8   72.9     High\n",
       "9   15.9   Medium\n",
       "10   9.3     High\n",
       "11   0.3   Medium\n",
       "12   0.3   Medium\n",
       "13   1.3   Medium\n",
       "14  23.2      Low"
      ]
     },
     "execution_count": 233,
     "metadata": {},
     "output_type": "execute_result"
    }
   ],
   "source": [
    "Priority_Assessment.head(15)"
   ]
  },
  {
   "cell_type": "markdown",
   "id": "78bc3330",
   "metadata": {},
   "source": [
    "#### Checking data types"
   ]
  },
  {
   "cell_type": "code",
   "execution_count": 234,
   "id": "19a63d1a",
   "metadata": {},
   "outputs": [
    {
     "data": {
      "text/plain": [
       "Days        float64\n",
       "Priority     object\n",
       "dtype: object"
      ]
     },
     "execution_count": 234,
     "metadata": {},
     "output_type": "execute_result"
    }
   ],
   "source": [
    "Priority_Assessment.dtypes"
   ]
  },
  {
   "cell_type": "markdown",
   "id": "eeb76448",
   "metadata": {},
   "source": [
    "#### Handling Null Values"
   ]
  },
  {
   "cell_type": "code",
   "execution_count": 235,
   "id": "fd59cfc9",
   "metadata": {},
   "outputs": [
    {
     "data": {
      "text/plain": [
       "Days        0\n",
       "Priority    0\n",
       "dtype: int64"
      ]
     },
     "execution_count": 235,
     "metadata": {},
     "output_type": "execute_result"
    }
   ],
   "source": [
    "Priority_Assessment.isnull().sum()"
   ]
  },
  {
   "cell_type": "code",
   "execution_count": null,
   "id": "ab531ce8",
   "metadata": {},
   "outputs": [],
   "source": [
    "#Defining the hypothesis testing\n",
    "#H0: The prioritization system is not working\n",
    "#Ha: The prioritization system is working \n",
    "# CI =95%, p-value = 0.05%"
   ]
  },
  {
   "cell_type": "markdown",
   "id": "4a678c75",
   "metadata": {},
   "source": [
    "#### F-test"
   ]
  },
  {
   "cell_type": "code",
   "execution_count": 239,
   "id": "85f14a99",
   "metadata": {},
   "outputs": [],
   "source": [
    "#filtering the data \n",
    "var_name = 'Days'\n",
    "High =Priority_Assessment.loc[Priority_Assessment['Priority'] == 'High', var_name]\n",
    "Medium = Priority_Assessment.loc[Priority_Assessment['Priority'] == 'Medium', var_name]\n",
    "Low =Priority_Assessment.loc[Priority_Assessment['Priority'] == 'Low', var_name]"
   ]
  },
  {
   "cell_type": "code",
   "execution_count": 240,
   "id": "8f9d740d",
   "metadata": {},
   "outputs": [
    {
     "name": "stdout",
     "output_type": "stream",
     "text": [
      "Average days taken to do the high priority tasks 3.023619631901845\n",
      "Average days taken to do the medium priority tasks 2.5000000000000004\n",
      "Average days taken to do the low priority tasks 4.228358208955225\n"
     ]
    }
   ],
   "source": [
    "print(\"Average days taken to do the high priority tasks\", High.mean())\n",
    "print(\"Average days taken to do the medium priority tasks\", Medium.mean())\n",
    "print(\"Average days taken to do the low priority tasks\", Low.mean())"
   ]
  },
  {
   "cell_type": "code",
   "execution_count": 241,
   "id": "ed92dacc",
   "metadata": {},
   "outputs": [
    {
     "data": {
      "text/plain": [
       "F_onewayResult(statistic=1.812311010076072, pvalue=0.16411459461716182)"
      ]
     },
     "execution_count": 241,
     "metadata": {},
     "output_type": "execute_result"
    }
   ],
   "source": [
    "stats.f_oneway(High,Medium,Low)"
   ]
  },
  {
   "cell_type": "markdown",
   "id": "72b5dd82",
   "metadata": {},
   "source": [
    "CONCLUSION\n",
    "Since the calculated p_value is greater than the defined p_value, we fail to reject the null hypothesis. And also we can claim the prioritization system is not working"
   ]
  },
  {
   "cell_type": "markdown",
   "id": "b5f14809",
   "metadata": {},
   "source": [
    "## Background\n",
    "Film on the Rocks is a summer movie series held at the world-renowned Red\n",
    "Rocks Amphitheatre, which is situated on a hillside of the Rocky Mountains in Morrison,\n",
    "Colorado fifteen miles west of Denver. The film series features classic films, and pre-show\n",
    "entertainment including bands and comedians. Among the features that have made Red Rocks\n",
    "an internationally-famous concert stage are sweeping views of Denver, outstanding acoustics,\n",
    "and cool, dry Colorado summers.\n",
    "The series is jointly promoted by the Denver Film Society (DFS) and the City and County of\n",
    "Denver’s Division of Theatres and Arenas (DT&A). It is marketed through various outlets\n",
    "including newspaper, radio, and the Red Rocks and Denver Film Society websites. Film on the\n",
    "Rocks patrons also benefit from corporate sponsorship. In return for on-site posters and\n",
    "banners at Red Rocks, and recognition in pre- show marketing materials, corporations donate\n",
    "funds that keep ticket prices low.\n",
    "Although the Red Rocks Amphitheatre provides a cinematic experience unlike any other venue,\n",
    "there are tradeoffs. Red Rocks is a farther commute for most people than the local movie\n",
    "theater or movie rental store. Given the uphill walk to the amphitheatre from the parking lot,\n",
    "getting there can be challenging. And, as an outdoor venue, the viewing experience is\n",
    "dependent on the weather.\n",
    "Patron satisfaction with Red Rocks as the venue for the film series is critical to its success. But,\n",
    "the series promoters would also like to increase attendance at the film series, and are unsure\n",
    "how to do this. Promoters recognize that they need a better understanding of the customer\n",
    "base, and of the current level of satisfaction. Knowing the demographics of those who attend\n",
    "the film series will help attract and expand corporate sponsorship. In addition, knowing which\n",
    "media outlets are most effective will provideinformation about how best to target future\n",
    "marketing campaigns.\n",
    "To this end, the promoters conducted surveys during a recent Film on the Rocks season.\n",
    "Questionnaires were handed out at the entrance. Volunteers walked through the crowd to\n",
    "remind people about the free soft drink given to those who returned the survey."
   ]
  },
  {
   "cell_type": "markdown",
   "id": "959925f3",
   "metadata": {},
   "source": [
    "### BUSINESS PROBLEM 5:\n",
    "Use the survey results to address the following questions\n",
    "\n",
    " What is the overall level of customer satisfaction?\n",
    "\n",
    " What factors are linked to satisfaction?\n",
    "\n",
    " What is the demographic profile of Film on the Rocks patrons?\n",
    "\n",
    " In what media outlet(s) should the film series be advertised?"
   ]
  },
  {
   "cell_type": "markdown",
   "id": "4cb5ec0a",
   "metadata": {},
   "source": [
    "#### Dataset"
   ]
  },
  {
   "cell_type": "code",
   "execution_count": 611,
   "id": "5c5e1299",
   "metadata": {},
   "outputs": [],
   "source": [
    "input_file_path = \"C:\\\\Projects\\\\EDA\\\\data\\\\input_files//\"\n",
    "input_file_name = \"Films.csv\"  \n",
    "input_file_path + input_file_name \n",
    "Films= pd.read_csv(input_file_path + input_file_name )"
   ]
  },
  {
   "cell_type": "code",
   "execution_count": 612,
   "id": "e62b99c4",
   "metadata": {},
   "outputs": [
    {
     "data": {
      "text/plain": [
       "(330, 11)"
      ]
     },
     "execution_count": 612,
     "metadata": {},
     "output_type": "execute_result"
    }
   ],
   "source": [
    "Films.shape"
   ]
  },
  {
   "cell_type": "code",
   "execution_count": 613,
   "id": "2ddb7080",
   "metadata": {},
   "outputs": [
    {
     "data": {
      "text/plain": [
       "_rowstate_         1\n",
       "Movie              3\n",
       "Gender             4\n",
       "Marital_Status     5\n",
       "Sinage             5\n",
       "Parking            5\n",
       "Clean              5\n",
       "Overall            5\n",
       "Age                4\n",
       "Income             3\n",
       "Hear_About        11\n",
       "dtype: int64"
      ]
     },
     "execution_count": 613,
     "metadata": {},
     "output_type": "execute_result"
    }
   ],
   "source": [
    "Films.nunique()"
   ]
  },
  {
   "cell_type": "code",
   "execution_count": 614,
   "id": "31c701a5",
   "metadata": {},
   "outputs": [
    {
     "data": {
      "text/html": [
       "<div>\n",
       "<style scoped>\n",
       "    .dataframe tbody tr th:only-of-type {\n",
       "        vertical-align: middle;\n",
       "    }\n",
       "\n",
       "    .dataframe tbody tr th {\n",
       "        vertical-align: top;\n",
       "    }\n",
       "\n",
       "    .dataframe thead th {\n",
       "        text-align: right;\n",
       "    }\n",
       "</style>\n",
       "<table border=\"1\" class=\"dataframe\">\n",
       "  <thead>\n",
       "    <tr style=\"text-align: right;\">\n",
       "      <th></th>\n",
       "      <th>_rowstate_</th>\n",
       "      <th>Movie</th>\n",
       "      <th>Gender</th>\n",
       "      <th>Marital_Status</th>\n",
       "      <th>Sinage</th>\n",
       "      <th>Parking</th>\n",
       "      <th>Clean</th>\n",
       "      <th>Overall</th>\n",
       "      <th>Age</th>\n",
       "      <th>Income</th>\n",
       "      <th>Hear_About</th>\n",
       "    </tr>\n",
       "  </thead>\n",
       "  <tbody>\n",
       "    <tr>\n",
       "      <th>327</th>\n",
       "      <td>0</td>\n",
       "      <td>Old School</td>\n",
       "      <td>2</td>\n",
       "      <td>1</td>\n",
       "      <td>2.0</td>\n",
       "      <td>1.0</td>\n",
       "      <td>1.0</td>\n",
       "      <td>2.0</td>\n",
       "      <td>2.0</td>\n",
       "      <td>2.0</td>\n",
       "      <td>5</td>\n",
       "    </tr>\n",
       "    <tr>\n",
       "      <th>328</th>\n",
       "      <td>0</td>\n",
       "      <td>Old School</td>\n",
       "      <td>1</td>\n",
       "      <td>1</td>\n",
       "      <td>1.0</td>\n",
       "      <td>1.0</td>\n",
       "      <td>1.0</td>\n",
       "      <td>1.0</td>\n",
       "      <td>2.0</td>\n",
       "      <td>1.0</td>\n",
       "      <td>3</td>\n",
       "    </tr>\n",
       "    <tr>\n",
       "      <th>329</th>\n",
       "      <td>0</td>\n",
       "      <td>Old School</td>\n",
       "      <td>2</td>\n",
       "      <td>2</td>\n",
       "      <td>2.0</td>\n",
       "      <td>2.0</td>\n",
       "      <td>3.0</td>\n",
       "      <td>1.0</td>\n",
       "      <td>2.0</td>\n",
       "      <td>1.0</td>\n",
       "      <td>5</td>\n",
       "    </tr>\n",
       "  </tbody>\n",
       "</table>\n",
       "</div>"
      ],
      "text/plain": [
       "     _rowstate_       Movie Gender Marital_Status  Sinage  Parking  Clean  \\\n",
       "327           0  Old School      2              1     2.0      1.0    1.0   \n",
       "328           0  Old School      1              1     1.0      1.0    1.0   \n",
       "329           0  Old School      2              2     2.0      2.0    3.0   \n",
       "\n",
       "     Overall  Age  Income Hear_About  \n",
       "327      2.0  2.0     2.0          5  \n",
       "328      1.0  2.0     1.0          3  \n",
       "329      1.0  2.0     1.0          5  "
      ]
     },
     "execution_count": 614,
     "metadata": {},
     "output_type": "execute_result"
    }
   ],
   "source": [
    "Films.tail(3)"
   ]
  },
  {
   "cell_type": "code",
   "execution_count": 615,
   "id": "9eb80f88",
   "metadata": {},
   "outputs": [],
   "source": [
    "Films = Films.drop(columns = '_rowstate_', axis = 1)"
   ]
  },
  {
   "cell_type": "code",
   "execution_count": 616,
   "id": "0acf3497",
   "metadata": {},
   "outputs": [
    {
     "data": {
      "text/html": [
       "<div>\n",
       "<style scoped>\n",
       "    .dataframe tbody tr th:only-of-type {\n",
       "        vertical-align: middle;\n",
       "    }\n",
       "\n",
       "    .dataframe tbody tr th {\n",
       "        vertical-align: top;\n",
       "    }\n",
       "\n",
       "    .dataframe thead th {\n",
       "        text-align: right;\n",
       "    }\n",
       "</style>\n",
       "<table border=\"1\" class=\"dataframe\">\n",
       "  <thead>\n",
       "    <tr style=\"text-align: right;\">\n",
       "      <th></th>\n",
       "      <th>Movie</th>\n",
       "      <th>Gender</th>\n",
       "      <th>Marital_Status</th>\n",
       "      <th>Sinage</th>\n",
       "      <th>Parking</th>\n",
       "      <th>Clean</th>\n",
       "      <th>Overall</th>\n",
       "      <th>Age</th>\n",
       "      <th>Income</th>\n",
       "      <th>Hear_About</th>\n",
       "    </tr>\n",
       "  </thead>\n",
       "  <tbody>\n",
       "    <tr>\n",
       "      <th>0</th>\n",
       "      <td>Ferris Buellers Day Off</td>\n",
       "      <td>Female</td>\n",
       "      <td>Married</td>\n",
       "      <td>2.0</td>\n",
       "      <td>2.0</td>\n",
       "      <td>2.0</td>\n",
       "      <td>2.0</td>\n",
       "      <td>3.0</td>\n",
       "      <td>1.0</td>\n",
       "      <td>5</td>\n",
       "    </tr>\n",
       "    <tr>\n",
       "      <th>1</th>\n",
       "      <td>Ferris Buellers Day Off</td>\n",
       "      <td>Female</td>\n",
       "      <td>Single</td>\n",
       "      <td>1.0</td>\n",
       "      <td>1.0</td>\n",
       "      <td>1.0</td>\n",
       "      <td>1.0</td>\n",
       "      <td>2.0</td>\n",
       "      <td>1.0</td>\n",
       "      <td>5</td>\n",
       "    </tr>\n",
       "    <tr>\n",
       "      <th>2</th>\n",
       "      <td>Ferris Buellers Day Off</td>\n",
       "      <td>Male</td>\n",
       "      <td>Married</td>\n",
       "      <td>2.0</td>\n",
       "      <td>4.0</td>\n",
       "      <td>3.0</td>\n",
       "      <td>2.0</td>\n",
       "      <td>4.0</td>\n",
       "      <td>1.0</td>\n",
       "      <td>5</td>\n",
       "    </tr>\n",
       "    <tr>\n",
       "      <th>3</th>\n",
       "      <td>Ferris Buellers Day Off</td>\n",
       "      <td>Female</td>\n",
       "      <td>Married</td>\n",
       "      <td>1.0</td>\n",
       "      <td>3.0</td>\n",
       "      <td>2.0</td>\n",
       "      <td>2.0</td>\n",
       "      <td>4.0</td>\n",
       "      <td>1.0</td>\n",
       "      <td>5</td>\n",
       "    </tr>\n",
       "    <tr>\n",
       "      <th>4</th>\n",
       "      <td>Ferris Buellers Day Off</td>\n",
       "      <td>Female</td>\n",
       "      <td>Married</td>\n",
       "      <td>1.0</td>\n",
       "      <td>1.0</td>\n",
       "      <td>1.0</td>\n",
       "      <td>1.0</td>\n",
       "      <td>3.0</td>\n",
       "      <td>3.0</td>\n",
       "      <td>1</td>\n",
       "    </tr>\n",
       "    <tr>\n",
       "      <th>5</th>\n",
       "      <td>Ferris Buellers Day Off</td>\n",
       "      <td>Female</td>\n",
       "      <td>Married</td>\n",
       "      <td>1.0</td>\n",
       "      <td>1.0</td>\n",
       "      <td>1.0</td>\n",
       "      <td>1.0</td>\n",
       "      <td>3.0</td>\n",
       "      <td>3.0</td>\n",
       "      <td>5</td>\n",
       "    </tr>\n",
       "    <tr>\n",
       "      <th>6</th>\n",
       "      <td>Ferris Buellers Day Off</td>\n",
       "      <td>Male</td>\n",
       "      <td>Married</td>\n",
       "      <td>2.0</td>\n",
       "      <td>2.0</td>\n",
       "      <td>2.0</td>\n",
       "      <td>2.0</td>\n",
       "      <td>3.0</td>\n",
       "      <td>3.0</td>\n",
       "      <td>5</td>\n",
       "    </tr>\n",
       "    <tr>\n",
       "      <th>7</th>\n",
       "      <td>Ferris Buellers Day Off</td>\n",
       "      <td>Female</td>\n",
       "      <td>Single</td>\n",
       "      <td>1.0</td>\n",
       "      <td>1.0</td>\n",
       "      <td>3.0</td>\n",
       "      <td>1.0</td>\n",
       "      <td>3.0</td>\n",
       "      <td>NaN</td>\n",
       "      <td>4</td>\n",
       "    </tr>\n",
       "    <tr>\n",
       "      <th>8</th>\n",
       "      <td>Ferris Buellers Day Off</td>\n",
       "      <td>Female</td>\n",
       "      <td>Single</td>\n",
       "      <td>1.0</td>\n",
       "      <td>1.0</td>\n",
       "      <td>3.0</td>\n",
       "      <td>1.0</td>\n",
       "      <td>3.0</td>\n",
       "      <td>NaN</td>\n",
       "      <td>4</td>\n",
       "    </tr>\n",
       "    <tr>\n",
       "      <th>9</th>\n",
       "      <td>Ferris Buellers Day Off</td>\n",
       "      <td>Female</td>\n",
       "      <td>Single</td>\n",
       "      <td>2.0</td>\n",
       "      <td>3.0</td>\n",
       "      <td>2.0</td>\n",
       "      <td>2.0</td>\n",
       "      <td>3.0</td>\n",
       "      <td>1.0</td>\n",
       "      <td>4</td>\n",
       "    </tr>\n",
       "    <tr>\n",
       "      <th>10</th>\n",
       "      <td>Ferris Buellers Day Off</td>\n",
       "      <td>Male</td>\n",
       "      <td>Married</td>\n",
       "      <td>2.0</td>\n",
       "      <td>2.0</td>\n",
       "      <td>2.0</td>\n",
       "      <td>2.0</td>\n",
       "      <td>4.0</td>\n",
       "      <td>1.0</td>\n",
       "      <td>1</td>\n",
       "    </tr>\n",
       "    <tr>\n",
       "      <th>11</th>\n",
       "      <td>Ferris Buellers Day Off</td>\n",
       "      <td>Female</td>\n",
       "      <td>Married</td>\n",
       "      <td>2.0</td>\n",
       "      <td>2.0</td>\n",
       "      <td>2.0</td>\n",
       "      <td>2.0</td>\n",
       "      <td>4.0</td>\n",
       "      <td>NaN</td>\n",
       "      <td>5</td>\n",
       "    </tr>\n",
       "    <tr>\n",
       "      <th>12</th>\n",
       "      <td>Ferris Buellers Day Off</td>\n",
       "      <td>Female</td>\n",
       "      <td>Single</td>\n",
       "      <td>1.0</td>\n",
       "      <td>1.0</td>\n",
       "      <td>1.0</td>\n",
       "      <td>1.0</td>\n",
       "      <td>3.0</td>\n",
       "      <td>1.0</td>\n",
       "      <td>1</td>\n",
       "    </tr>\n",
       "    <tr>\n",
       "      <th>13</th>\n",
       "      <td>Ferris Buellers Day Off</td>\n",
       "      <td>Male</td>\n",
       "      <td>Single</td>\n",
       "      <td>3.0</td>\n",
       "      <td>4.0</td>\n",
       "      <td>2.0</td>\n",
       "      <td>5.0</td>\n",
       "      <td>2.0</td>\n",
       "      <td>2.0</td>\n",
       "      <td>5</td>\n",
       "    </tr>\n",
       "    <tr>\n",
       "      <th>14</th>\n",
       "      <td>Ferris Buellers Day Off</td>\n",
       "      <td>Male</td>\n",
       "      <td>Single</td>\n",
       "      <td>1.0</td>\n",
       "      <td>1.0</td>\n",
       "      <td>1.0</td>\n",
       "      <td>1.0</td>\n",
       "      <td>2.0</td>\n",
       "      <td>1.0</td>\n",
       "      <td>5</td>\n",
       "    </tr>\n",
       "    <tr>\n",
       "      <th>15</th>\n",
       "      <td>Ferris Buellers Day Off</td>\n",
       "      <td>Female</td>\n",
       "      <td>Slngle</td>\n",
       "      <td>1.0</td>\n",
       "      <td>2.0</td>\n",
       "      <td>1.0</td>\n",
       "      <td>1.0</td>\n",
       "      <td>2.0</td>\n",
       "      <td>2.0</td>\n",
       "      <td>4</td>\n",
       "    </tr>\n",
       "    <tr>\n",
       "      <th>16</th>\n",
       "      <td>Ferris Buellers Day Off</td>\n",
       "      <td>Male</td>\n",
       "      <td>Single</td>\n",
       "      <td>2.0</td>\n",
       "      <td>2.0</td>\n",
       "      <td>2.0</td>\n",
       "      <td>2.0</td>\n",
       "      <td>2.0</td>\n",
       "      <td>1.0</td>\n",
       "      <td>5</td>\n",
       "    </tr>\n",
       "    <tr>\n",
       "      <th>17</th>\n",
       "      <td>Ferris Buellers Day Off</td>\n",
       "      <td>Male</td>\n",
       "      <td>Single</td>\n",
       "      <td>2.0</td>\n",
       "      <td>1.0</td>\n",
       "      <td>1.0</td>\n",
       "      <td>3.0</td>\n",
       "      <td>2.0</td>\n",
       "      <td>3.0</td>\n",
       "      <td>5</td>\n",
       "    </tr>\n",
       "    <tr>\n",
       "      <th>18</th>\n",
       "      <td>Ferris Buellers Day Off</td>\n",
       "      <td>Female</td>\n",
       "      <td>Slngle</td>\n",
       "      <td>1.0</td>\n",
       "      <td>2.0</td>\n",
       "      <td>1.0</td>\n",
       "      <td>2.0</td>\n",
       "      <td>2.0</td>\n",
       "      <td>3.0</td>\n",
       "      <td>5</td>\n",
       "    </tr>\n",
       "    <tr>\n",
       "      <th>19</th>\n",
       "      <td>Ferris Buellers Day Off</td>\n",
       "      <td>Female</td>\n",
       "      <td>Single</td>\n",
       "      <td>3.0</td>\n",
       "      <td>2.0</td>\n",
       "      <td>3.0</td>\n",
       "      <td>1.0</td>\n",
       "      <td>1.0</td>\n",
       "      <td>3.0</td>\n",
       "      <td>5</td>\n",
       "    </tr>\n",
       "    <tr>\n",
       "      <th>20</th>\n",
       "      <td>Ferris Buellers Day Off</td>\n",
       "      <td>Male</td>\n",
       "      <td>Single</td>\n",
       "      <td>2.0</td>\n",
       "      <td>2.0</td>\n",
       "      <td>2.0</td>\n",
       "      <td>2.0</td>\n",
       "      <td>2.0</td>\n",
       "      <td>3.0</td>\n",
       "      <td>1</td>\n",
       "    </tr>\n",
       "    <tr>\n",
       "      <th>21</th>\n",
       "      <td>Ferris Buellers Day Off</td>\n",
       "      <td>Female</td>\n",
       "      <td>Single</td>\n",
       "      <td>2.0</td>\n",
       "      <td>2.0</td>\n",
       "      <td>2.0</td>\n",
       "      <td>2.0</td>\n",
       "      <td>2.0</td>\n",
       "      <td>3.0</td>\n",
       "      <td>1</td>\n",
       "    </tr>\n",
       "    <tr>\n",
       "      <th>22</th>\n",
       "      <td>Ferris Buellers Day Off</td>\n",
       "      <td>Male</td>\n",
       "      <td>Married</td>\n",
       "      <td>1.0</td>\n",
       "      <td>1.0</td>\n",
       "      <td>1.0</td>\n",
       "      <td>1.0</td>\n",
       "      <td>3.0</td>\n",
       "      <td>3.0</td>\n",
       "      <td>5</td>\n",
       "    </tr>\n",
       "    <tr>\n",
       "      <th>23</th>\n",
       "      <td>Ferris Buellers Day Off</td>\n",
       "      <td>Female</td>\n",
       "      <td>Single</td>\n",
       "      <td>1.0</td>\n",
       "      <td>1.0</td>\n",
       "      <td>1.0</td>\n",
       "      <td>1.0</td>\n",
       "      <td>2.0</td>\n",
       "      <td>1.0</td>\n",
       "      <td>2</td>\n",
       "    </tr>\n",
       "    <tr>\n",
       "      <th>24</th>\n",
       "      <td>Ferris Buellers Day Off</td>\n",
       "      <td>Female</td>\n",
       "      <td>Single</td>\n",
       "      <td>1.0</td>\n",
       "      <td>1.0</td>\n",
       "      <td>1.0</td>\n",
       "      <td>1.0</td>\n",
       "      <td>2.0</td>\n",
       "      <td>1.0</td>\n",
       "      <td>5</td>\n",
       "    </tr>\n",
       "    <tr>\n",
       "      <th>25</th>\n",
       "      <td>Ferris Buellers Day Off</td>\n",
       "      <td>Male</td>\n",
       "      <td>Single</td>\n",
       "      <td>2.0</td>\n",
       "      <td>2.0</td>\n",
       "      <td>2.0</td>\n",
       "      <td>2.0</td>\n",
       "      <td>2.0</td>\n",
       "      <td>3.0</td>\n",
       "      <td>3</td>\n",
       "    </tr>\n",
       "    <tr>\n",
       "      <th>26</th>\n",
       "      <td>Ferris Buellers Day Off</td>\n",
       "      <td>Male</td>\n",
       "      <td>Single</td>\n",
       "      <td>2.0</td>\n",
       "      <td>2.0</td>\n",
       "      <td>2.0</td>\n",
       "      <td>2.0</td>\n",
       "      <td>2.0</td>\n",
       "      <td>3.0</td>\n",
       "      <td>3</td>\n",
       "    </tr>\n",
       "    <tr>\n",
       "      <th>27</th>\n",
       "      <td>Ferris Buellers Day Off</td>\n",
       "      <td>Female</td>\n",
       "      <td>Single</td>\n",
       "      <td>1.0</td>\n",
       "      <td>1.0</td>\n",
       "      <td>1.0</td>\n",
       "      <td>1.0</td>\n",
       "      <td>4.0</td>\n",
       "      <td>1.0</td>\n",
       "      <td>4</td>\n",
       "    </tr>\n",
       "    <tr>\n",
       "      <th>28</th>\n",
       "      <td>Ferris Buellers Day Off</td>\n",
       "      <td>Female</td>\n",
       "      <td>Single</td>\n",
       "      <td>1.0</td>\n",
       "      <td>1.0</td>\n",
       "      <td>1.0</td>\n",
       "      <td>1.0</td>\n",
       "      <td>3.0</td>\n",
       "      <td>1.0</td>\n",
       "      <td>4,5</td>\n",
       "    </tr>\n",
       "    <tr>\n",
       "      <th>29</th>\n",
       "      <td>Ferris Buellers Day Off</td>\n",
       "      <td>Male</td>\n",
       "      <td>Married</td>\n",
       "      <td>2.0</td>\n",
       "      <td>3.0</td>\n",
       "      <td>2.0</td>\n",
       "      <td>2.0</td>\n",
       "      <td>3.0</td>\n",
       "      <td>3.0</td>\n",
       "      <td>2,5</td>\n",
       "    </tr>\n",
       "    <tr>\n",
       "      <th>30</th>\n",
       "      <td>Ferris Buellers Day Off</td>\n",
       "      <td>Female</td>\n",
       "      <td>Married</td>\n",
       "      <td>2.0</td>\n",
       "      <td>3.0</td>\n",
       "      <td>3.0</td>\n",
       "      <td>2.0</td>\n",
       "      <td>3.0</td>\n",
       "      <td>2.0</td>\n",
       "      <td>4</td>\n",
       "    </tr>\n",
       "    <tr>\n",
       "      <th>31</th>\n",
       "      <td>Ferris Buellers Day Off</td>\n",
       "      <td>Male</td>\n",
       "      <td>Married</td>\n",
       "      <td>1.0</td>\n",
       "      <td>2.0</td>\n",
       "      <td>2.0</td>\n",
       "      <td>1.0</td>\n",
       "      <td>3.0</td>\n",
       "      <td>2.0</td>\n",
       "      <td>1</td>\n",
       "    </tr>\n",
       "    <tr>\n",
       "      <th>32</th>\n",
       "      <td>Ferris Buellers Day Off</td>\n",
       "      <td>2</td>\n",
       "      <td>1</td>\n",
       "      <td>2.0</td>\n",
       "      <td>2.0</td>\n",
       "      <td>1.0</td>\n",
       "      <td>1.0</td>\n",
       "      <td>3.0</td>\n",
       "      <td>2.0</td>\n",
       "      <td>1</td>\n",
       "    </tr>\n",
       "    <tr>\n",
       "      <th>33</th>\n",
       "      <td>Ferris Buellers Day Off</td>\n",
       "      <td>2</td>\n",
       "      <td>2</td>\n",
       "      <td>2.0</td>\n",
       "      <td>2.0</td>\n",
       "      <td>2.0</td>\n",
       "      <td>2.0</td>\n",
       "      <td>2.0</td>\n",
       "      <td>1.0</td>\n",
       "      <td>5</td>\n",
       "    </tr>\n",
       "    <tr>\n",
       "      <th>34</th>\n",
       "      <td>Ferris Buellers Day Off</td>\n",
       "      <td>1</td>\n",
       "      <td>2</td>\n",
       "      <td>1.0</td>\n",
       "      <td>3.0</td>\n",
       "      <td>1.0</td>\n",
       "      <td>2.0</td>\n",
       "      <td>2.0</td>\n",
       "      <td>2.0</td>\n",
       "      <td>2</td>\n",
       "    </tr>\n",
       "    <tr>\n",
       "      <th>35</th>\n",
       "      <td>Ferris Buellers Day Off</td>\n",
       "      <td>2</td>\n",
       "      <td>2</td>\n",
       "      <td>2.0</td>\n",
       "      <td>2.0</td>\n",
       "      <td>1.0</td>\n",
       "      <td>1.0</td>\n",
       "      <td>1.0</td>\n",
       "      <td>3.0</td>\n",
       "      <td>5</td>\n",
       "    </tr>\n",
       "    <tr>\n",
       "      <th>36</th>\n",
       "      <td>Ferris Buellers Day Off</td>\n",
       "      <td>1</td>\n",
       "      <td>1</td>\n",
       "      <td>2.0</td>\n",
       "      <td>2.0</td>\n",
       "      <td>2.0</td>\n",
       "      <td>2.0</td>\n",
       "      <td>2.0</td>\n",
       "      <td>1.0</td>\n",
       "      <td>5</td>\n",
       "    </tr>\n",
       "    <tr>\n",
       "      <th>37</th>\n",
       "      <td>Ferris Buellers Day Off</td>\n",
       "      <td>2</td>\n",
       "      <td>2</td>\n",
       "      <td>1.0</td>\n",
       "      <td>1.0</td>\n",
       "      <td>1.0</td>\n",
       "      <td>1.0</td>\n",
       "      <td>1.0</td>\n",
       "      <td>3.0</td>\n",
       "      <td>5</td>\n",
       "    </tr>\n",
       "    <tr>\n",
       "      <th>38</th>\n",
       "      <td>Ferris Buellers Day Off</td>\n",
       "      <td>2</td>\n",
       "      <td>2</td>\n",
       "      <td>2.0</td>\n",
       "      <td>2.0</td>\n",
       "      <td>2.0</td>\n",
       "      <td>2.0</td>\n",
       "      <td>2.0</td>\n",
       "      <td>1.0</td>\n",
       "      <td>5</td>\n",
       "    </tr>\n",
       "    <tr>\n",
       "      <th>39</th>\n",
       "      <td>Ferris Buellers Day Off</td>\n",
       "      <td>1</td>\n",
       "      <td>2</td>\n",
       "      <td>2.0</td>\n",
       "      <td>2.0</td>\n",
       "      <td>2.0</td>\n",
       "      <td>2.0</td>\n",
       "      <td>2.0</td>\n",
       "      <td>1.0</td>\n",
       "      <td>5</td>\n",
       "    </tr>\n",
       "    <tr>\n",
       "      <th>40</th>\n",
       "      <td>Ferris Buellers Day Off</td>\n",
       "      <td>2</td>\n",
       "      <td>1</td>\n",
       "      <td>1.0</td>\n",
       "      <td>1.0</td>\n",
       "      <td>1.0</td>\n",
       "      <td>2.0</td>\n",
       "      <td>3.0</td>\n",
       "      <td>2.0</td>\n",
       "      <td>5</td>\n",
       "    </tr>\n",
       "    <tr>\n",
       "      <th>41</th>\n",
       "      <td>Ferris Buellers Day Off</td>\n",
       "      <td>2</td>\n",
       "      <td>2</td>\n",
       "      <td>2.0</td>\n",
       "      <td>2.0</td>\n",
       "      <td>1.0</td>\n",
       "      <td>2.0</td>\n",
       "      <td>2.0</td>\n",
       "      <td>2.0</td>\n",
       "      <td>5</td>\n",
       "    </tr>\n",
       "    <tr>\n",
       "      <th>42</th>\n",
       "      <td>Ferris Buellers Day Off</td>\n",
       "      <td>2</td>\n",
       "      <td>2</td>\n",
       "      <td>2.0</td>\n",
       "      <td>2.0</td>\n",
       "      <td>3.0</td>\n",
       "      <td>2.0</td>\n",
       "      <td>2.0</td>\n",
       "      <td>2.0</td>\n",
       "      <td>5</td>\n",
       "    </tr>\n",
       "    <tr>\n",
       "      <th>43</th>\n",
       "      <td>Ferris Buellers Day Off</td>\n",
       "      <td>2</td>\n",
       "      <td>2</td>\n",
       "      <td>3.0</td>\n",
       "      <td>2.0</td>\n",
       "      <td>2.0</td>\n",
       "      <td>2.0</td>\n",
       "      <td>2.0</td>\n",
       "      <td>1.0</td>\n",
       "      <td>5</td>\n",
       "    </tr>\n",
       "    <tr>\n",
       "      <th>44</th>\n",
       "      <td>Ferris Buellers Day Off</td>\n",
       "      <td>2</td>\n",
       "      <td>2</td>\n",
       "      <td>2.0</td>\n",
       "      <td>2.0</td>\n",
       "      <td>2.0</td>\n",
       "      <td>2.0</td>\n",
       "      <td>2.0</td>\n",
       "      <td>1.0</td>\n",
       "      <td>5</td>\n",
       "    </tr>\n",
       "  </tbody>\n",
       "</table>\n",
       "</div>"
      ],
      "text/plain": [
       "                      Movie  Gender Marital_Status  Sinage  Parking  Clean  \\\n",
       "0   Ferris Buellers Day Off  Female        Married     2.0      2.0    2.0   \n",
       "1   Ferris Buellers Day Off  Female         Single     1.0      1.0    1.0   \n",
       "2   Ferris Buellers Day Off    Male        Married     2.0      4.0    3.0   \n",
       "3   Ferris Buellers Day Off  Female        Married     1.0      3.0    2.0   \n",
       "4   Ferris Buellers Day Off  Female        Married     1.0      1.0    1.0   \n",
       "5   Ferris Buellers Day Off  Female        Married     1.0      1.0    1.0   \n",
       "6   Ferris Buellers Day Off    Male        Married     2.0      2.0    2.0   \n",
       "7   Ferris Buellers Day Off  Female         Single     1.0      1.0    3.0   \n",
       "8   Ferris Buellers Day Off  Female         Single     1.0      1.0    3.0   \n",
       "9   Ferris Buellers Day Off  Female         Single     2.0      3.0    2.0   \n",
       "10  Ferris Buellers Day Off    Male        Married     2.0      2.0    2.0   \n",
       "11  Ferris Buellers Day Off  Female        Married     2.0      2.0    2.0   \n",
       "12  Ferris Buellers Day Off  Female         Single     1.0      1.0    1.0   \n",
       "13  Ferris Buellers Day Off    Male         Single     3.0      4.0    2.0   \n",
       "14  Ferris Buellers Day Off    Male         Single     1.0      1.0    1.0   \n",
       "15  Ferris Buellers Day Off  Female         Slngle     1.0      2.0    1.0   \n",
       "16  Ferris Buellers Day Off    Male         Single     2.0      2.0    2.0   \n",
       "17  Ferris Buellers Day Off    Male         Single     2.0      1.0    1.0   \n",
       "18  Ferris Buellers Day Off  Female         Slngle     1.0      2.0    1.0   \n",
       "19  Ferris Buellers Day Off  Female         Single     3.0      2.0    3.0   \n",
       "20  Ferris Buellers Day Off    Male         Single     2.0      2.0    2.0   \n",
       "21  Ferris Buellers Day Off  Female         Single     2.0      2.0    2.0   \n",
       "22  Ferris Buellers Day Off    Male        Married     1.0      1.0    1.0   \n",
       "23  Ferris Buellers Day Off  Female         Single     1.0      1.0    1.0   \n",
       "24  Ferris Buellers Day Off  Female         Single     1.0      1.0    1.0   \n",
       "25  Ferris Buellers Day Off    Male         Single     2.0      2.0    2.0   \n",
       "26  Ferris Buellers Day Off    Male         Single     2.0      2.0    2.0   \n",
       "27  Ferris Buellers Day Off  Female         Single     1.0      1.0    1.0   \n",
       "28  Ferris Buellers Day Off  Female         Single     1.0      1.0    1.0   \n",
       "29  Ferris Buellers Day Off    Male        Married     2.0      3.0    2.0   \n",
       "30  Ferris Buellers Day Off  Female        Married     2.0      3.0    3.0   \n",
       "31  Ferris Buellers Day Off    Male        Married     1.0      2.0    2.0   \n",
       "32  Ferris Buellers Day Off       2              1     2.0      2.0    1.0   \n",
       "33  Ferris Buellers Day Off       2              2     2.0      2.0    2.0   \n",
       "34  Ferris Buellers Day Off       1              2     1.0      3.0    1.0   \n",
       "35  Ferris Buellers Day Off       2              2     2.0      2.0    1.0   \n",
       "36  Ferris Buellers Day Off       1              1     2.0      2.0    2.0   \n",
       "37  Ferris Buellers Day Off       2              2     1.0      1.0    1.0   \n",
       "38  Ferris Buellers Day Off       2              2     2.0      2.0    2.0   \n",
       "39  Ferris Buellers Day Off       1              2     2.0      2.0    2.0   \n",
       "40  Ferris Buellers Day Off       2              1     1.0      1.0    1.0   \n",
       "41  Ferris Buellers Day Off       2              2     2.0      2.0    1.0   \n",
       "42  Ferris Buellers Day Off       2              2     2.0      2.0    3.0   \n",
       "43  Ferris Buellers Day Off       2              2     3.0      2.0    2.0   \n",
       "44  Ferris Buellers Day Off       2              2     2.0      2.0    2.0   \n",
       "\n",
       "    Overall  Age  Income Hear_About  \n",
       "0       2.0  3.0     1.0          5  \n",
       "1       1.0  2.0     1.0          5  \n",
       "2       2.0  4.0     1.0          5  \n",
       "3       2.0  4.0     1.0          5  \n",
       "4       1.0  3.0     3.0          1  \n",
       "5       1.0  3.0     3.0          5  \n",
       "6       2.0  3.0     3.0          5  \n",
       "7       1.0  3.0     NaN          4  \n",
       "8       1.0  3.0     NaN          4  \n",
       "9       2.0  3.0     1.0          4  \n",
       "10      2.0  4.0     1.0          1  \n",
       "11      2.0  4.0     NaN          5  \n",
       "12      1.0  3.0     1.0          1  \n",
       "13      5.0  2.0     2.0          5  \n",
       "14      1.0  2.0     1.0          5  \n",
       "15      1.0  2.0     2.0          4  \n",
       "16      2.0  2.0     1.0          5  \n",
       "17      3.0  2.0     3.0          5  \n",
       "18      2.0  2.0     3.0          5  \n",
       "19      1.0  1.0     3.0          5  \n",
       "20      2.0  2.0     3.0          1  \n",
       "21      2.0  2.0     3.0          1  \n",
       "22      1.0  3.0     3.0          5  \n",
       "23      1.0  2.0     1.0          2  \n",
       "24      1.0  2.0     1.0          5  \n",
       "25      2.0  2.0     3.0          3  \n",
       "26      2.0  2.0     3.0          3  \n",
       "27      1.0  4.0     1.0          4  \n",
       "28      1.0  3.0     1.0        4,5  \n",
       "29      2.0  3.0     3.0        2,5  \n",
       "30      2.0  3.0     2.0          4  \n",
       "31      1.0  3.0     2.0          1  \n",
       "32      1.0  3.0     2.0          1  \n",
       "33      2.0  2.0     1.0          5  \n",
       "34      2.0  2.0     2.0          2  \n",
       "35      1.0  1.0     3.0          5  \n",
       "36      2.0  2.0     1.0          5  \n",
       "37      1.0  1.0     3.0          5  \n",
       "38      2.0  2.0     1.0          5  \n",
       "39      2.0  2.0     1.0          5  \n",
       "40      2.0  3.0     2.0          5  \n",
       "41      2.0  2.0     2.0          5  \n",
       "42      2.0  2.0     2.0          5  \n",
       "43      2.0  2.0     1.0          5  \n",
       "44      2.0  2.0     1.0          5  "
      ]
     },
     "execution_count": 616,
     "metadata": {},
     "output_type": "execute_result"
    }
   ],
   "source": [
    "Films.head(45)"
   ]
  },
  {
   "cell_type": "code",
   "execution_count": 617,
   "id": "ee103d08",
   "metadata": {},
   "outputs": [],
   "source": [
    "Films_1 = Films.loc[0:31, :]"
   ]
  },
  {
   "cell_type": "code",
   "execution_count": 618,
   "id": "f2fc6be9",
   "metadata": {},
   "outputs": [
    {
     "data": {
      "text/plain": [
       "pandas.core.frame.DataFrame"
      ]
     },
     "execution_count": 618,
     "metadata": {},
     "output_type": "execute_result"
    }
   ],
   "source": [
    "type(Films_1)"
   ]
  },
  {
   "cell_type": "code",
   "execution_count": 619,
   "id": "379c7c71",
   "metadata": {},
   "outputs": [],
   "source": [
    "Films_2 = Films.loc[32:329, :]"
   ]
  },
  {
   "cell_type": "code",
   "execution_count": 620,
   "id": "4e5211b1",
   "metadata": {},
   "outputs": [
    {
     "data": {
      "text/html": [
       "<div>\n",
       "<style scoped>\n",
       "    .dataframe tbody tr th:only-of-type {\n",
       "        vertical-align: middle;\n",
       "    }\n",
       "\n",
       "    .dataframe tbody tr th {\n",
       "        vertical-align: top;\n",
       "    }\n",
       "\n",
       "    .dataframe thead th {\n",
       "        text-align: right;\n",
       "    }\n",
       "</style>\n",
       "<table border=\"1\" class=\"dataframe\">\n",
       "  <thead>\n",
       "    <tr style=\"text-align: right;\">\n",
       "      <th></th>\n",
       "      <th>Movie</th>\n",
       "      <th>Gender</th>\n",
       "      <th>Marital_Status</th>\n",
       "      <th>Sinage</th>\n",
       "      <th>Parking</th>\n",
       "      <th>Clean</th>\n",
       "      <th>Overall</th>\n",
       "      <th>Age</th>\n",
       "      <th>Income</th>\n",
       "      <th>Hear_About</th>\n",
       "    </tr>\n",
       "  </thead>\n",
       "  <tbody>\n",
       "    <tr>\n",
       "      <th>32</th>\n",
       "      <td>Ferris Buellers Day Off</td>\n",
       "      <td>2</td>\n",
       "      <td>1</td>\n",
       "      <td>2.0</td>\n",
       "      <td>2.0</td>\n",
       "      <td>1.0</td>\n",
       "      <td>1.0</td>\n",
       "      <td>3.0</td>\n",
       "      <td>2.0</td>\n",
       "      <td>1</td>\n",
       "    </tr>\n",
       "    <tr>\n",
       "      <th>33</th>\n",
       "      <td>Ferris Buellers Day Off</td>\n",
       "      <td>2</td>\n",
       "      <td>2</td>\n",
       "      <td>2.0</td>\n",
       "      <td>2.0</td>\n",
       "      <td>2.0</td>\n",
       "      <td>2.0</td>\n",
       "      <td>2.0</td>\n",
       "      <td>1.0</td>\n",
       "      <td>5</td>\n",
       "    </tr>\n",
       "  </tbody>\n",
       "</table>\n",
       "</div>"
      ],
      "text/plain": [
       "                      Movie Gender Marital_Status  Sinage  Parking  Clean  \\\n",
       "32  Ferris Buellers Day Off      2              1     2.0      2.0    1.0   \n",
       "33  Ferris Buellers Day Off      2              2     2.0      2.0    2.0   \n",
       "\n",
       "    Overall  Age  Income Hear_About  \n",
       "32      1.0  3.0     2.0          1  \n",
       "33      2.0  2.0     1.0          5  "
      ]
     },
     "execution_count": 620,
     "metadata": {},
     "output_type": "execute_result"
    }
   ],
   "source": [
    "Films_2.head(2)"
   ]
  },
  {
   "cell_type": "code",
   "execution_count": 621,
   "id": "4e53310a",
   "metadata": {},
   "outputs": [
    {
     "data": {
      "text/plain": [
       "Movie              object\n",
       "Gender             object\n",
       "Marital_Status     object\n",
       "Sinage            float64\n",
       "Parking           float64\n",
       "Clean             float64\n",
       "Overall           float64\n",
       "Age               float64\n",
       "Income            float64\n",
       "Hear_About         object\n",
       "dtype: object"
      ]
     },
     "execution_count": 621,
     "metadata": {},
     "output_type": "execute_result"
    }
   ],
   "source": [
    "Films.dtypes"
   ]
  },
  {
   "cell_type": "code",
   "execution_count": 622,
   "id": "96d7d40e",
   "metadata": {},
   "outputs": [
    {
     "name": "stderr",
     "output_type": "stream",
     "text": [
      "C:\\Users\\dell\\AppData\\Local\\Temp\\ipykernel_14704\\2448674574.py:1: SettingWithCopyWarning: \n",
      "A value is trying to be set on a copy of a slice from a DataFrame.\n",
      "Try using .loc[row_indexer,col_indexer] = value instead\n",
      "\n",
      "See the caveats in the documentation: https://pandas.pydata.org/pandas-docs/stable/user_guide/indexing.html#returning-a-view-versus-a-copy\n",
      "  Films_1['Gender'] = Films_1['Gender'].map({'Female': 2,'Male':1})\n",
      "C:\\Users\\dell\\AppData\\Local\\Temp\\ipykernel_14704\\2448674574.py:2: SettingWithCopyWarning: \n",
      "A value is trying to be set on a copy of a slice from a DataFrame.\n",
      "Try using .loc[row_indexer,col_indexer] = value instead\n",
      "\n",
      "See the caveats in the documentation: https://pandas.pydata.org/pandas-docs/stable/user_guide/indexing.html#returning-a-view-versus-a-copy\n",
      "  Films_1['Marital_Status'] = Films_1['Marital_Status'].map({'Single':2, 'Married':1})\n",
      "C:\\Users\\dell\\AppData\\Local\\Temp\\ipykernel_14704\\2448674574.py:3: SettingWithCopyWarning: \n",
      "A value is trying to be set on a copy of a slice from a DataFrame.\n",
      "Try using .loc[row_indexer,col_indexer] = value instead\n",
      "\n",
      "See the caveats in the documentation: https://pandas.pydata.org/pandas-docs/stable/user_guide/indexing.html#returning-a-view-versus-a-copy\n",
      "  Films_2['Gender'] = Films_2['Gender'].map({'1': 1, '2' : 2})\n",
      "C:\\Users\\dell\\AppData\\Local\\Temp\\ipykernel_14704\\2448674574.py:4: SettingWithCopyWarning: \n",
      "A value is trying to be set on a copy of a slice from a DataFrame.\n",
      "Try using .loc[row_indexer,col_indexer] = value instead\n",
      "\n",
      "See the caveats in the documentation: https://pandas.pydata.org/pandas-docs/stable/user_guide/indexing.html#returning-a-view-versus-a-copy\n",
      "  Films_2['Marital_Status'] = Films_2['Marital_Status'].map({'1': 1, '2' : 2})\n"
     ]
    }
   ],
   "source": [
    "Films_1['Gender'] = Films_1['Gender'].map({'Female': 2,'Male':1})\n",
    "Films_1['Marital_Status'] = Films_1['Marital_Status'].map({'Single':2, 'Married':1})\n",
    "Films_2['Gender'] = Films_2['Gender'].map({'1': 1, '2' : 2})\n",
    "Films_2['Marital_Status'] = Films_2['Marital_Status'].map({'1': 1, '2' : 2})"
   ]
  },
  {
   "cell_type": "code",
   "execution_count": 623,
   "id": "a6763ee1",
   "metadata": {},
   "outputs": [
    {
     "data": {
      "text/html": [
       "<div>\n",
       "<style scoped>\n",
       "    .dataframe tbody tr th:only-of-type {\n",
       "        vertical-align: middle;\n",
       "    }\n",
       "\n",
       "    .dataframe tbody tr th {\n",
       "        vertical-align: top;\n",
       "    }\n",
       "\n",
       "    .dataframe thead th {\n",
       "        text-align: right;\n",
       "    }\n",
       "</style>\n",
       "<table border=\"1\" class=\"dataframe\">\n",
       "  <thead>\n",
       "    <tr style=\"text-align: right;\">\n",
       "      <th></th>\n",
       "      <th>Movie</th>\n",
       "      <th>Gender</th>\n",
       "      <th>Marital_Status</th>\n",
       "      <th>Sinage</th>\n",
       "      <th>Parking</th>\n",
       "      <th>Clean</th>\n",
       "      <th>Overall</th>\n",
       "      <th>Age</th>\n",
       "      <th>Income</th>\n",
       "      <th>Hear_About</th>\n",
       "    </tr>\n",
       "  </thead>\n",
       "  <tbody>\n",
       "    <tr>\n",
       "      <th>0</th>\n",
       "      <td>Ferris Buellers Day Off</td>\n",
       "      <td>2</td>\n",
       "      <td>1.0</td>\n",
       "      <td>2.0</td>\n",
       "      <td>2.0</td>\n",
       "      <td>2.0</td>\n",
       "      <td>2.0</td>\n",
       "      <td>3.0</td>\n",
       "      <td>1.0</td>\n",
       "      <td>5</td>\n",
       "    </tr>\n",
       "    <tr>\n",
       "      <th>1</th>\n",
       "      <td>Ferris Buellers Day Off</td>\n",
       "      <td>2</td>\n",
       "      <td>2.0</td>\n",
       "      <td>1.0</td>\n",
       "      <td>1.0</td>\n",
       "      <td>1.0</td>\n",
       "      <td>1.0</td>\n",
       "      <td>2.0</td>\n",
       "      <td>1.0</td>\n",
       "      <td>5</td>\n",
       "    </tr>\n",
       "    <tr>\n",
       "      <th>2</th>\n",
       "      <td>Ferris Buellers Day Off</td>\n",
       "      <td>1</td>\n",
       "      <td>1.0</td>\n",
       "      <td>2.0</td>\n",
       "      <td>4.0</td>\n",
       "      <td>3.0</td>\n",
       "      <td>2.0</td>\n",
       "      <td>4.0</td>\n",
       "      <td>1.0</td>\n",
       "      <td>5</td>\n",
       "    </tr>\n",
       "    <tr>\n",
       "      <th>3</th>\n",
       "      <td>Ferris Buellers Day Off</td>\n",
       "      <td>2</td>\n",
       "      <td>1.0</td>\n",
       "      <td>1.0</td>\n",
       "      <td>3.0</td>\n",
       "      <td>2.0</td>\n",
       "      <td>2.0</td>\n",
       "      <td>4.0</td>\n",
       "      <td>1.0</td>\n",
       "      <td>5</td>\n",
       "    </tr>\n",
       "    <tr>\n",
       "      <th>4</th>\n",
       "      <td>Ferris Buellers Day Off</td>\n",
       "      <td>2</td>\n",
       "      <td>1.0</td>\n",
       "      <td>1.0</td>\n",
       "      <td>1.0</td>\n",
       "      <td>1.0</td>\n",
       "      <td>1.0</td>\n",
       "      <td>3.0</td>\n",
       "      <td>3.0</td>\n",
       "      <td>1</td>\n",
       "    </tr>\n",
       "  </tbody>\n",
       "</table>\n",
       "</div>"
      ],
      "text/plain": [
       "                     Movie  Gender  Marital_Status  Sinage  Parking  Clean  \\\n",
       "0  Ferris Buellers Day Off       2             1.0     2.0      2.0    2.0   \n",
       "1  Ferris Buellers Day Off       2             2.0     1.0      1.0    1.0   \n",
       "2  Ferris Buellers Day Off       1             1.0     2.0      4.0    3.0   \n",
       "3  Ferris Buellers Day Off       2             1.0     1.0      3.0    2.0   \n",
       "4  Ferris Buellers Day Off       2             1.0     1.0      1.0    1.0   \n",
       "\n",
       "   Overall  Age  Income Hear_About  \n",
       "0      2.0  3.0     1.0          5  \n",
       "1      1.0  2.0     1.0          5  \n",
       "2      2.0  4.0     1.0          5  \n",
       "3      2.0  4.0     1.0          5  \n",
       "4      1.0  3.0     3.0          1  "
      ]
     },
     "execution_count": 623,
     "metadata": {},
     "output_type": "execute_result"
    }
   ],
   "source": [
    "Films_1.head()"
   ]
  },
  {
   "cell_type": "code",
   "execution_count": 624,
   "id": "21172f64",
   "metadata": {},
   "outputs": [],
   "source": [
    "films = pd.concat([Films_1, Films_2], axis =0)"
   ]
  },
  {
   "cell_type": "code",
   "execution_count": 625,
   "id": "ebe528ce",
   "metadata": {},
   "outputs": [
    {
     "data": {
      "text/html": [
       "<div>\n",
       "<style scoped>\n",
       "    .dataframe tbody tr th:only-of-type {\n",
       "        vertical-align: middle;\n",
       "    }\n",
       "\n",
       "    .dataframe tbody tr th {\n",
       "        vertical-align: top;\n",
       "    }\n",
       "\n",
       "    .dataframe thead th {\n",
       "        text-align: right;\n",
       "    }\n",
       "</style>\n",
       "<table border=\"1\" class=\"dataframe\">\n",
       "  <thead>\n",
       "    <tr style=\"text-align: right;\">\n",
       "      <th></th>\n",
       "      <th>Movie</th>\n",
       "      <th>Gender</th>\n",
       "      <th>Marital_Status</th>\n",
       "      <th>Sinage</th>\n",
       "      <th>Parking</th>\n",
       "      <th>Clean</th>\n",
       "      <th>Overall</th>\n",
       "      <th>Age</th>\n",
       "      <th>Income</th>\n",
       "      <th>Hear_About</th>\n",
       "    </tr>\n",
       "  </thead>\n",
       "  <tbody>\n",
       "    <tr>\n",
       "      <th>0</th>\n",
       "      <td>Ferris Buellers Day Off</td>\n",
       "      <td>2</td>\n",
       "      <td>1.0</td>\n",
       "      <td>2.0</td>\n",
       "      <td>2.0</td>\n",
       "      <td>2.0</td>\n",
       "      <td>2.0</td>\n",
       "      <td>3.0</td>\n",
       "      <td>1.0</td>\n",
       "      <td>5</td>\n",
       "    </tr>\n",
       "    <tr>\n",
       "      <th>1</th>\n",
       "      <td>Ferris Buellers Day Off</td>\n",
       "      <td>2</td>\n",
       "      <td>2.0</td>\n",
       "      <td>1.0</td>\n",
       "      <td>1.0</td>\n",
       "      <td>1.0</td>\n",
       "      <td>1.0</td>\n",
       "      <td>2.0</td>\n",
       "      <td>1.0</td>\n",
       "      <td>5</td>\n",
       "    </tr>\n",
       "    <tr>\n",
       "      <th>2</th>\n",
       "      <td>Ferris Buellers Day Off</td>\n",
       "      <td>1</td>\n",
       "      <td>1.0</td>\n",
       "      <td>2.0</td>\n",
       "      <td>4.0</td>\n",
       "      <td>3.0</td>\n",
       "      <td>2.0</td>\n",
       "      <td>4.0</td>\n",
       "      <td>1.0</td>\n",
       "      <td>5</td>\n",
       "    </tr>\n",
       "    <tr>\n",
       "      <th>3</th>\n",
       "      <td>Ferris Buellers Day Off</td>\n",
       "      <td>2</td>\n",
       "      <td>1.0</td>\n",
       "      <td>1.0</td>\n",
       "      <td>3.0</td>\n",
       "      <td>2.0</td>\n",
       "      <td>2.0</td>\n",
       "      <td>4.0</td>\n",
       "      <td>1.0</td>\n",
       "      <td>5</td>\n",
       "    </tr>\n",
       "    <tr>\n",
       "      <th>4</th>\n",
       "      <td>Ferris Buellers Day Off</td>\n",
       "      <td>2</td>\n",
       "      <td>1.0</td>\n",
       "      <td>1.0</td>\n",
       "      <td>1.0</td>\n",
       "      <td>1.0</td>\n",
       "      <td>1.0</td>\n",
       "      <td>3.0</td>\n",
       "      <td>3.0</td>\n",
       "      <td>1</td>\n",
       "    </tr>\n",
       "    <tr>\n",
       "      <th>5</th>\n",
       "      <td>Ferris Buellers Day Off</td>\n",
       "      <td>2</td>\n",
       "      <td>1.0</td>\n",
       "      <td>1.0</td>\n",
       "      <td>1.0</td>\n",
       "      <td>1.0</td>\n",
       "      <td>1.0</td>\n",
       "      <td>3.0</td>\n",
       "      <td>3.0</td>\n",
       "      <td>5</td>\n",
       "    </tr>\n",
       "    <tr>\n",
       "      <th>6</th>\n",
       "      <td>Ferris Buellers Day Off</td>\n",
       "      <td>1</td>\n",
       "      <td>1.0</td>\n",
       "      <td>2.0</td>\n",
       "      <td>2.0</td>\n",
       "      <td>2.0</td>\n",
       "      <td>2.0</td>\n",
       "      <td>3.0</td>\n",
       "      <td>3.0</td>\n",
       "      <td>5</td>\n",
       "    </tr>\n",
       "    <tr>\n",
       "      <th>7</th>\n",
       "      <td>Ferris Buellers Day Off</td>\n",
       "      <td>2</td>\n",
       "      <td>2.0</td>\n",
       "      <td>1.0</td>\n",
       "      <td>1.0</td>\n",
       "      <td>3.0</td>\n",
       "      <td>1.0</td>\n",
       "      <td>3.0</td>\n",
       "      <td>NaN</td>\n",
       "      <td>4</td>\n",
       "    </tr>\n",
       "    <tr>\n",
       "      <th>8</th>\n",
       "      <td>Ferris Buellers Day Off</td>\n",
       "      <td>2</td>\n",
       "      <td>2.0</td>\n",
       "      <td>1.0</td>\n",
       "      <td>1.0</td>\n",
       "      <td>3.0</td>\n",
       "      <td>1.0</td>\n",
       "      <td>3.0</td>\n",
       "      <td>NaN</td>\n",
       "      <td>4</td>\n",
       "    </tr>\n",
       "    <tr>\n",
       "      <th>9</th>\n",
       "      <td>Ferris Buellers Day Off</td>\n",
       "      <td>2</td>\n",
       "      <td>2.0</td>\n",
       "      <td>2.0</td>\n",
       "      <td>3.0</td>\n",
       "      <td>2.0</td>\n",
       "      <td>2.0</td>\n",
       "      <td>3.0</td>\n",
       "      <td>1.0</td>\n",
       "      <td>4</td>\n",
       "    </tr>\n",
       "    <tr>\n",
       "      <th>10</th>\n",
       "      <td>Ferris Buellers Day Off</td>\n",
       "      <td>1</td>\n",
       "      <td>1.0</td>\n",
       "      <td>2.0</td>\n",
       "      <td>2.0</td>\n",
       "      <td>2.0</td>\n",
       "      <td>2.0</td>\n",
       "      <td>4.0</td>\n",
       "      <td>1.0</td>\n",
       "      <td>1</td>\n",
       "    </tr>\n",
       "    <tr>\n",
       "      <th>11</th>\n",
       "      <td>Ferris Buellers Day Off</td>\n",
       "      <td>2</td>\n",
       "      <td>1.0</td>\n",
       "      <td>2.0</td>\n",
       "      <td>2.0</td>\n",
       "      <td>2.0</td>\n",
       "      <td>2.0</td>\n",
       "      <td>4.0</td>\n",
       "      <td>NaN</td>\n",
       "      <td>5</td>\n",
       "    </tr>\n",
       "    <tr>\n",
       "      <th>12</th>\n",
       "      <td>Ferris Buellers Day Off</td>\n",
       "      <td>2</td>\n",
       "      <td>2.0</td>\n",
       "      <td>1.0</td>\n",
       "      <td>1.0</td>\n",
       "      <td>1.0</td>\n",
       "      <td>1.0</td>\n",
       "      <td>3.0</td>\n",
       "      <td>1.0</td>\n",
       "      <td>1</td>\n",
       "    </tr>\n",
       "    <tr>\n",
       "      <th>13</th>\n",
       "      <td>Ferris Buellers Day Off</td>\n",
       "      <td>1</td>\n",
       "      <td>2.0</td>\n",
       "      <td>3.0</td>\n",
       "      <td>4.0</td>\n",
       "      <td>2.0</td>\n",
       "      <td>5.0</td>\n",
       "      <td>2.0</td>\n",
       "      <td>2.0</td>\n",
       "      <td>5</td>\n",
       "    </tr>\n",
       "    <tr>\n",
       "      <th>14</th>\n",
       "      <td>Ferris Buellers Day Off</td>\n",
       "      <td>1</td>\n",
       "      <td>2.0</td>\n",
       "      <td>1.0</td>\n",
       "      <td>1.0</td>\n",
       "      <td>1.0</td>\n",
       "      <td>1.0</td>\n",
       "      <td>2.0</td>\n",
       "      <td>1.0</td>\n",
       "      <td>5</td>\n",
       "    </tr>\n",
       "    <tr>\n",
       "      <th>15</th>\n",
       "      <td>Ferris Buellers Day Off</td>\n",
       "      <td>2</td>\n",
       "      <td>NaN</td>\n",
       "      <td>1.0</td>\n",
       "      <td>2.0</td>\n",
       "      <td>1.0</td>\n",
       "      <td>1.0</td>\n",
       "      <td>2.0</td>\n",
       "      <td>2.0</td>\n",
       "      <td>4</td>\n",
       "    </tr>\n",
       "    <tr>\n",
       "      <th>16</th>\n",
       "      <td>Ferris Buellers Day Off</td>\n",
       "      <td>1</td>\n",
       "      <td>2.0</td>\n",
       "      <td>2.0</td>\n",
       "      <td>2.0</td>\n",
       "      <td>2.0</td>\n",
       "      <td>2.0</td>\n",
       "      <td>2.0</td>\n",
       "      <td>1.0</td>\n",
       "      <td>5</td>\n",
       "    </tr>\n",
       "    <tr>\n",
       "      <th>17</th>\n",
       "      <td>Ferris Buellers Day Off</td>\n",
       "      <td>1</td>\n",
       "      <td>2.0</td>\n",
       "      <td>2.0</td>\n",
       "      <td>1.0</td>\n",
       "      <td>1.0</td>\n",
       "      <td>3.0</td>\n",
       "      <td>2.0</td>\n",
       "      <td>3.0</td>\n",
       "      <td>5</td>\n",
       "    </tr>\n",
       "    <tr>\n",
       "      <th>18</th>\n",
       "      <td>Ferris Buellers Day Off</td>\n",
       "      <td>2</td>\n",
       "      <td>NaN</td>\n",
       "      <td>1.0</td>\n",
       "      <td>2.0</td>\n",
       "      <td>1.0</td>\n",
       "      <td>2.0</td>\n",
       "      <td>2.0</td>\n",
       "      <td>3.0</td>\n",
       "      <td>5</td>\n",
       "    </tr>\n",
       "    <tr>\n",
       "      <th>19</th>\n",
       "      <td>Ferris Buellers Day Off</td>\n",
       "      <td>2</td>\n",
       "      <td>2.0</td>\n",
       "      <td>3.0</td>\n",
       "      <td>2.0</td>\n",
       "      <td>3.0</td>\n",
       "      <td>1.0</td>\n",
       "      <td>1.0</td>\n",
       "      <td>3.0</td>\n",
       "      <td>5</td>\n",
       "    </tr>\n",
       "    <tr>\n",
       "      <th>20</th>\n",
       "      <td>Ferris Buellers Day Off</td>\n",
       "      <td>1</td>\n",
       "      <td>2.0</td>\n",
       "      <td>2.0</td>\n",
       "      <td>2.0</td>\n",
       "      <td>2.0</td>\n",
       "      <td>2.0</td>\n",
       "      <td>2.0</td>\n",
       "      <td>3.0</td>\n",
       "      <td>1</td>\n",
       "    </tr>\n",
       "    <tr>\n",
       "      <th>21</th>\n",
       "      <td>Ferris Buellers Day Off</td>\n",
       "      <td>2</td>\n",
       "      <td>2.0</td>\n",
       "      <td>2.0</td>\n",
       "      <td>2.0</td>\n",
       "      <td>2.0</td>\n",
       "      <td>2.0</td>\n",
       "      <td>2.0</td>\n",
       "      <td>3.0</td>\n",
       "      <td>1</td>\n",
       "    </tr>\n",
       "    <tr>\n",
       "      <th>22</th>\n",
       "      <td>Ferris Buellers Day Off</td>\n",
       "      <td>1</td>\n",
       "      <td>1.0</td>\n",
       "      <td>1.0</td>\n",
       "      <td>1.0</td>\n",
       "      <td>1.0</td>\n",
       "      <td>1.0</td>\n",
       "      <td>3.0</td>\n",
       "      <td>3.0</td>\n",
       "      <td>5</td>\n",
       "    </tr>\n",
       "    <tr>\n",
       "      <th>23</th>\n",
       "      <td>Ferris Buellers Day Off</td>\n",
       "      <td>2</td>\n",
       "      <td>2.0</td>\n",
       "      <td>1.0</td>\n",
       "      <td>1.0</td>\n",
       "      <td>1.0</td>\n",
       "      <td>1.0</td>\n",
       "      <td>2.0</td>\n",
       "      <td>1.0</td>\n",
       "      <td>2</td>\n",
       "    </tr>\n",
       "    <tr>\n",
       "      <th>24</th>\n",
       "      <td>Ferris Buellers Day Off</td>\n",
       "      <td>2</td>\n",
       "      <td>2.0</td>\n",
       "      <td>1.0</td>\n",
       "      <td>1.0</td>\n",
       "      <td>1.0</td>\n",
       "      <td>1.0</td>\n",
       "      <td>2.0</td>\n",
       "      <td>1.0</td>\n",
       "      <td>5</td>\n",
       "    </tr>\n",
       "    <tr>\n",
       "      <th>25</th>\n",
       "      <td>Ferris Buellers Day Off</td>\n",
       "      <td>1</td>\n",
       "      <td>2.0</td>\n",
       "      <td>2.0</td>\n",
       "      <td>2.0</td>\n",
       "      <td>2.0</td>\n",
       "      <td>2.0</td>\n",
       "      <td>2.0</td>\n",
       "      <td>3.0</td>\n",
       "      <td>3</td>\n",
       "    </tr>\n",
       "    <tr>\n",
       "      <th>26</th>\n",
       "      <td>Ferris Buellers Day Off</td>\n",
       "      <td>1</td>\n",
       "      <td>2.0</td>\n",
       "      <td>2.0</td>\n",
       "      <td>2.0</td>\n",
       "      <td>2.0</td>\n",
       "      <td>2.0</td>\n",
       "      <td>2.0</td>\n",
       "      <td>3.0</td>\n",
       "      <td>3</td>\n",
       "    </tr>\n",
       "    <tr>\n",
       "      <th>27</th>\n",
       "      <td>Ferris Buellers Day Off</td>\n",
       "      <td>2</td>\n",
       "      <td>2.0</td>\n",
       "      <td>1.0</td>\n",
       "      <td>1.0</td>\n",
       "      <td>1.0</td>\n",
       "      <td>1.0</td>\n",
       "      <td>4.0</td>\n",
       "      <td>1.0</td>\n",
       "      <td>4</td>\n",
       "    </tr>\n",
       "    <tr>\n",
       "      <th>28</th>\n",
       "      <td>Ferris Buellers Day Off</td>\n",
       "      <td>2</td>\n",
       "      <td>2.0</td>\n",
       "      <td>1.0</td>\n",
       "      <td>1.0</td>\n",
       "      <td>1.0</td>\n",
       "      <td>1.0</td>\n",
       "      <td>3.0</td>\n",
       "      <td>1.0</td>\n",
       "      <td>4,5</td>\n",
       "    </tr>\n",
       "    <tr>\n",
       "      <th>29</th>\n",
       "      <td>Ferris Buellers Day Off</td>\n",
       "      <td>1</td>\n",
       "      <td>1.0</td>\n",
       "      <td>2.0</td>\n",
       "      <td>3.0</td>\n",
       "      <td>2.0</td>\n",
       "      <td>2.0</td>\n",
       "      <td>3.0</td>\n",
       "      <td>3.0</td>\n",
       "      <td>2,5</td>\n",
       "    </tr>\n",
       "    <tr>\n",
       "      <th>30</th>\n",
       "      <td>Ferris Buellers Day Off</td>\n",
       "      <td>2</td>\n",
       "      <td>1.0</td>\n",
       "      <td>2.0</td>\n",
       "      <td>3.0</td>\n",
       "      <td>3.0</td>\n",
       "      <td>2.0</td>\n",
       "      <td>3.0</td>\n",
       "      <td>2.0</td>\n",
       "      <td>4</td>\n",
       "    </tr>\n",
       "    <tr>\n",
       "      <th>31</th>\n",
       "      <td>Ferris Buellers Day Off</td>\n",
       "      <td>1</td>\n",
       "      <td>1.0</td>\n",
       "      <td>1.0</td>\n",
       "      <td>2.0</td>\n",
       "      <td>2.0</td>\n",
       "      <td>1.0</td>\n",
       "      <td>3.0</td>\n",
       "      <td>2.0</td>\n",
       "      <td>1</td>\n",
       "    </tr>\n",
       "    <tr>\n",
       "      <th>32</th>\n",
       "      <td>Ferris Buellers Day Off</td>\n",
       "      <td>2</td>\n",
       "      <td>1.0</td>\n",
       "      <td>2.0</td>\n",
       "      <td>2.0</td>\n",
       "      <td>1.0</td>\n",
       "      <td>1.0</td>\n",
       "      <td>3.0</td>\n",
       "      <td>2.0</td>\n",
       "      <td>1</td>\n",
       "    </tr>\n",
       "    <tr>\n",
       "      <th>33</th>\n",
       "      <td>Ferris Buellers Day Off</td>\n",
       "      <td>2</td>\n",
       "      <td>2.0</td>\n",
       "      <td>2.0</td>\n",
       "      <td>2.0</td>\n",
       "      <td>2.0</td>\n",
       "      <td>2.0</td>\n",
       "      <td>2.0</td>\n",
       "      <td>1.0</td>\n",
       "      <td>5</td>\n",
       "    </tr>\n",
       "    <tr>\n",
       "      <th>34</th>\n",
       "      <td>Ferris Buellers Day Off</td>\n",
       "      <td>1</td>\n",
       "      <td>2.0</td>\n",
       "      <td>1.0</td>\n",
       "      <td>3.0</td>\n",
       "      <td>1.0</td>\n",
       "      <td>2.0</td>\n",
       "      <td>2.0</td>\n",
       "      <td>2.0</td>\n",
       "      <td>2</td>\n",
       "    </tr>\n",
       "    <tr>\n",
       "      <th>35</th>\n",
       "      <td>Ferris Buellers Day Off</td>\n",
       "      <td>2</td>\n",
       "      <td>2.0</td>\n",
       "      <td>2.0</td>\n",
       "      <td>2.0</td>\n",
       "      <td>1.0</td>\n",
       "      <td>1.0</td>\n",
       "      <td>1.0</td>\n",
       "      <td>3.0</td>\n",
       "      <td>5</td>\n",
       "    </tr>\n",
       "    <tr>\n",
       "      <th>36</th>\n",
       "      <td>Ferris Buellers Day Off</td>\n",
       "      <td>1</td>\n",
       "      <td>1.0</td>\n",
       "      <td>2.0</td>\n",
       "      <td>2.0</td>\n",
       "      <td>2.0</td>\n",
       "      <td>2.0</td>\n",
       "      <td>2.0</td>\n",
       "      <td>1.0</td>\n",
       "      <td>5</td>\n",
       "    </tr>\n",
       "    <tr>\n",
       "      <th>37</th>\n",
       "      <td>Ferris Buellers Day Off</td>\n",
       "      <td>2</td>\n",
       "      <td>2.0</td>\n",
       "      <td>1.0</td>\n",
       "      <td>1.0</td>\n",
       "      <td>1.0</td>\n",
       "      <td>1.0</td>\n",
       "      <td>1.0</td>\n",
       "      <td>3.0</td>\n",
       "      <td>5</td>\n",
       "    </tr>\n",
       "    <tr>\n",
       "      <th>38</th>\n",
       "      <td>Ferris Buellers Day Off</td>\n",
       "      <td>2</td>\n",
       "      <td>2.0</td>\n",
       "      <td>2.0</td>\n",
       "      <td>2.0</td>\n",
       "      <td>2.0</td>\n",
       "      <td>2.0</td>\n",
       "      <td>2.0</td>\n",
       "      <td>1.0</td>\n",
       "      <td>5</td>\n",
       "    </tr>\n",
       "    <tr>\n",
       "      <th>39</th>\n",
       "      <td>Ferris Buellers Day Off</td>\n",
       "      <td>1</td>\n",
       "      <td>2.0</td>\n",
       "      <td>2.0</td>\n",
       "      <td>2.0</td>\n",
       "      <td>2.0</td>\n",
       "      <td>2.0</td>\n",
       "      <td>2.0</td>\n",
       "      <td>1.0</td>\n",
       "      <td>5</td>\n",
       "    </tr>\n",
       "    <tr>\n",
       "      <th>40</th>\n",
       "      <td>Ferris Buellers Day Off</td>\n",
       "      <td>2</td>\n",
       "      <td>1.0</td>\n",
       "      <td>1.0</td>\n",
       "      <td>1.0</td>\n",
       "      <td>1.0</td>\n",
       "      <td>2.0</td>\n",
       "      <td>3.0</td>\n",
       "      <td>2.0</td>\n",
       "      <td>5</td>\n",
       "    </tr>\n",
       "    <tr>\n",
       "      <th>41</th>\n",
       "      <td>Ferris Buellers Day Off</td>\n",
       "      <td>2</td>\n",
       "      <td>2.0</td>\n",
       "      <td>2.0</td>\n",
       "      <td>2.0</td>\n",
       "      <td>1.0</td>\n",
       "      <td>2.0</td>\n",
       "      <td>2.0</td>\n",
       "      <td>2.0</td>\n",
       "      <td>5</td>\n",
       "    </tr>\n",
       "    <tr>\n",
       "      <th>42</th>\n",
       "      <td>Ferris Buellers Day Off</td>\n",
       "      <td>2</td>\n",
       "      <td>2.0</td>\n",
       "      <td>2.0</td>\n",
       "      <td>2.0</td>\n",
       "      <td>3.0</td>\n",
       "      <td>2.0</td>\n",
       "      <td>2.0</td>\n",
       "      <td>2.0</td>\n",
       "      <td>5</td>\n",
       "    </tr>\n",
       "    <tr>\n",
       "      <th>43</th>\n",
       "      <td>Ferris Buellers Day Off</td>\n",
       "      <td>2</td>\n",
       "      <td>2.0</td>\n",
       "      <td>3.0</td>\n",
       "      <td>2.0</td>\n",
       "      <td>2.0</td>\n",
       "      <td>2.0</td>\n",
       "      <td>2.0</td>\n",
       "      <td>1.0</td>\n",
       "      <td>5</td>\n",
       "    </tr>\n",
       "    <tr>\n",
       "      <th>44</th>\n",
       "      <td>Ferris Buellers Day Off</td>\n",
       "      <td>2</td>\n",
       "      <td>2.0</td>\n",
       "      <td>2.0</td>\n",
       "      <td>2.0</td>\n",
       "      <td>2.0</td>\n",
       "      <td>2.0</td>\n",
       "      <td>2.0</td>\n",
       "      <td>1.0</td>\n",
       "      <td>5</td>\n",
       "    </tr>\n",
       "  </tbody>\n",
       "</table>\n",
       "</div>"
      ],
      "text/plain": [
       "                      Movie  Gender  Marital_Status  Sinage  Parking  Clean  \\\n",
       "0   Ferris Buellers Day Off       2             1.0     2.0      2.0    2.0   \n",
       "1   Ferris Buellers Day Off       2             2.0     1.0      1.0    1.0   \n",
       "2   Ferris Buellers Day Off       1             1.0     2.0      4.0    3.0   \n",
       "3   Ferris Buellers Day Off       2             1.0     1.0      3.0    2.0   \n",
       "4   Ferris Buellers Day Off       2             1.0     1.0      1.0    1.0   \n",
       "5   Ferris Buellers Day Off       2             1.0     1.0      1.0    1.0   \n",
       "6   Ferris Buellers Day Off       1             1.0     2.0      2.0    2.0   \n",
       "7   Ferris Buellers Day Off       2             2.0     1.0      1.0    3.0   \n",
       "8   Ferris Buellers Day Off       2             2.0     1.0      1.0    3.0   \n",
       "9   Ferris Buellers Day Off       2             2.0     2.0      3.0    2.0   \n",
       "10  Ferris Buellers Day Off       1             1.0     2.0      2.0    2.0   \n",
       "11  Ferris Buellers Day Off       2             1.0     2.0      2.0    2.0   \n",
       "12  Ferris Buellers Day Off       2             2.0     1.0      1.0    1.0   \n",
       "13  Ferris Buellers Day Off       1             2.0     3.0      4.0    2.0   \n",
       "14  Ferris Buellers Day Off       1             2.0     1.0      1.0    1.0   \n",
       "15  Ferris Buellers Day Off       2             NaN     1.0      2.0    1.0   \n",
       "16  Ferris Buellers Day Off       1             2.0     2.0      2.0    2.0   \n",
       "17  Ferris Buellers Day Off       1             2.0     2.0      1.0    1.0   \n",
       "18  Ferris Buellers Day Off       2             NaN     1.0      2.0    1.0   \n",
       "19  Ferris Buellers Day Off       2             2.0     3.0      2.0    3.0   \n",
       "20  Ferris Buellers Day Off       1             2.0     2.0      2.0    2.0   \n",
       "21  Ferris Buellers Day Off       2             2.0     2.0      2.0    2.0   \n",
       "22  Ferris Buellers Day Off       1             1.0     1.0      1.0    1.0   \n",
       "23  Ferris Buellers Day Off       2             2.0     1.0      1.0    1.0   \n",
       "24  Ferris Buellers Day Off       2             2.0     1.0      1.0    1.0   \n",
       "25  Ferris Buellers Day Off       1             2.0     2.0      2.0    2.0   \n",
       "26  Ferris Buellers Day Off       1             2.0     2.0      2.0    2.0   \n",
       "27  Ferris Buellers Day Off       2             2.0     1.0      1.0    1.0   \n",
       "28  Ferris Buellers Day Off       2             2.0     1.0      1.0    1.0   \n",
       "29  Ferris Buellers Day Off       1             1.0     2.0      3.0    2.0   \n",
       "30  Ferris Buellers Day Off       2             1.0     2.0      3.0    3.0   \n",
       "31  Ferris Buellers Day Off       1             1.0     1.0      2.0    2.0   \n",
       "32  Ferris Buellers Day Off       2             1.0     2.0      2.0    1.0   \n",
       "33  Ferris Buellers Day Off       2             2.0     2.0      2.0    2.0   \n",
       "34  Ferris Buellers Day Off       1             2.0     1.0      3.0    1.0   \n",
       "35  Ferris Buellers Day Off       2             2.0     2.0      2.0    1.0   \n",
       "36  Ferris Buellers Day Off       1             1.0     2.0      2.0    2.0   \n",
       "37  Ferris Buellers Day Off       2             2.0     1.0      1.0    1.0   \n",
       "38  Ferris Buellers Day Off       2             2.0     2.0      2.0    2.0   \n",
       "39  Ferris Buellers Day Off       1             2.0     2.0      2.0    2.0   \n",
       "40  Ferris Buellers Day Off       2             1.0     1.0      1.0    1.0   \n",
       "41  Ferris Buellers Day Off       2             2.0     2.0      2.0    1.0   \n",
       "42  Ferris Buellers Day Off       2             2.0     2.0      2.0    3.0   \n",
       "43  Ferris Buellers Day Off       2             2.0     3.0      2.0    2.0   \n",
       "44  Ferris Buellers Day Off       2             2.0     2.0      2.0    2.0   \n",
       "\n",
       "    Overall  Age  Income Hear_About  \n",
       "0       2.0  3.0     1.0          5  \n",
       "1       1.0  2.0     1.0          5  \n",
       "2       2.0  4.0     1.0          5  \n",
       "3       2.0  4.0     1.0          5  \n",
       "4       1.0  3.0     3.0          1  \n",
       "5       1.0  3.0     3.0          5  \n",
       "6       2.0  3.0     3.0          5  \n",
       "7       1.0  3.0     NaN          4  \n",
       "8       1.0  3.0     NaN          4  \n",
       "9       2.0  3.0     1.0          4  \n",
       "10      2.0  4.0     1.0          1  \n",
       "11      2.0  4.0     NaN          5  \n",
       "12      1.0  3.0     1.0          1  \n",
       "13      5.0  2.0     2.0          5  \n",
       "14      1.0  2.0     1.0          5  \n",
       "15      1.0  2.0     2.0          4  \n",
       "16      2.0  2.0     1.0          5  \n",
       "17      3.0  2.0     3.0          5  \n",
       "18      2.0  2.0     3.0          5  \n",
       "19      1.0  1.0     3.0          5  \n",
       "20      2.0  2.0     3.0          1  \n",
       "21      2.0  2.0     3.0          1  \n",
       "22      1.0  3.0     3.0          5  \n",
       "23      1.0  2.0     1.0          2  \n",
       "24      1.0  2.0     1.0          5  \n",
       "25      2.0  2.0     3.0          3  \n",
       "26      2.0  2.0     3.0          3  \n",
       "27      1.0  4.0     1.0          4  \n",
       "28      1.0  3.0     1.0        4,5  \n",
       "29      2.0  3.0     3.0        2,5  \n",
       "30      2.0  3.0     2.0          4  \n",
       "31      1.0  3.0     2.0          1  \n",
       "32      1.0  3.0     2.0          1  \n",
       "33      2.0  2.0     1.0          5  \n",
       "34      2.0  2.0     2.0          2  \n",
       "35      1.0  1.0     3.0          5  \n",
       "36      2.0  2.0     1.0          5  \n",
       "37      1.0  1.0     3.0          5  \n",
       "38      2.0  2.0     1.0          5  \n",
       "39      2.0  2.0     1.0          5  \n",
       "40      2.0  3.0     2.0          5  \n",
       "41      2.0  2.0     2.0          5  \n",
       "42      2.0  2.0     2.0          5  \n",
       "43      2.0  2.0     1.0          5  \n",
       "44      2.0  2.0     1.0          5  "
      ]
     },
     "execution_count": 625,
     "metadata": {},
     "output_type": "execute_result"
    }
   ],
   "source": [
    "films.head(45)"
   ]
  },
  {
   "cell_type": "code",
   "execution_count": 626,
   "id": "fd251546",
   "metadata": {},
   "outputs": [],
   "source": [
    "label_encode = LabelEncoder()"
   ]
  },
  {
   "cell_type": "code",
   "execution_count": 627,
   "id": "9b99663c",
   "metadata": {},
   "outputs": [],
   "source": [
    "films['Movie'] = label_encode.fit_transform(films['Movie'])"
   ]
  },
  {
   "cell_type": "code",
   "execution_count": 628,
   "id": "2cd73fad",
   "metadata": {},
   "outputs": [
    {
     "data": {
      "text/html": [
       "<div>\n",
       "<style scoped>\n",
       "    .dataframe tbody tr th:only-of-type {\n",
       "        vertical-align: middle;\n",
       "    }\n",
       "\n",
       "    .dataframe tbody tr th {\n",
       "        vertical-align: top;\n",
       "    }\n",
       "\n",
       "    .dataframe thead th {\n",
       "        text-align: right;\n",
       "    }\n",
       "</style>\n",
       "<table border=\"1\" class=\"dataframe\">\n",
       "  <thead>\n",
       "    <tr style=\"text-align: right;\">\n",
       "      <th></th>\n",
       "      <th>Movie</th>\n",
       "      <th>Gender</th>\n",
       "      <th>Marital_Status</th>\n",
       "      <th>Sinage</th>\n",
       "      <th>Parking</th>\n",
       "      <th>Clean</th>\n",
       "      <th>Overall</th>\n",
       "      <th>Age</th>\n",
       "      <th>Income</th>\n",
       "      <th>Hear_About</th>\n",
       "    </tr>\n",
       "  </thead>\n",
       "  <tbody>\n",
       "    <tr>\n",
       "      <th>0</th>\n",
       "      <td>0</td>\n",
       "      <td>2</td>\n",
       "      <td>1.0</td>\n",
       "      <td>2.0</td>\n",
       "      <td>2.0</td>\n",
       "      <td>2.0</td>\n",
       "      <td>2.0</td>\n",
       "      <td>3.0</td>\n",
       "      <td>1.0</td>\n",
       "      <td>5</td>\n",
       "    </tr>\n",
       "    <tr>\n",
       "      <th>1</th>\n",
       "      <td>0</td>\n",
       "      <td>2</td>\n",
       "      <td>2.0</td>\n",
       "      <td>1.0</td>\n",
       "      <td>1.0</td>\n",
       "      <td>1.0</td>\n",
       "      <td>1.0</td>\n",
       "      <td>2.0</td>\n",
       "      <td>1.0</td>\n",
       "      <td>5</td>\n",
       "    </tr>\n",
       "  </tbody>\n",
       "</table>\n",
       "</div>"
      ],
      "text/plain": [
       "   Movie  Gender  Marital_Status  Sinage  Parking  Clean  Overall  Age  \\\n",
       "0      0       2             1.0     2.0      2.0    2.0      2.0  3.0   \n",
       "1      0       2             2.0     1.0      1.0    1.0      1.0  2.0   \n",
       "\n",
       "   Income Hear_About  \n",
       "0     1.0          5  \n",
       "1     1.0          5  "
      ]
     },
     "execution_count": 628,
     "metadata": {},
     "output_type": "execute_result"
    }
   ],
   "source": [
    "films.head(2)"
   ]
  },
  {
   "cell_type": "markdown",
   "id": "19a702d8",
   "metadata": {},
   "source": [
    "#### Checking data types"
   ]
  },
  {
   "cell_type": "code",
   "execution_count": 629,
   "id": "61a32b29",
   "metadata": {},
   "outputs": [
    {
     "data": {
      "text/plain": [
       "Movie               int32\n",
       "Gender              int64\n",
       "Marital_Status    float64\n",
       "Sinage            float64\n",
       "Parking           float64\n",
       "Clean             float64\n",
       "Overall           float64\n",
       "Age               float64\n",
       "Income            float64\n",
       "Hear_About         object\n",
       "dtype: object"
      ]
     },
     "execution_count": 629,
     "metadata": {},
     "output_type": "execute_result"
    }
   ],
   "source": [
    "films.dtypes"
   ]
  },
  {
   "cell_type": "code",
   "execution_count": 630,
   "id": "fdddf90e",
   "metadata": {},
   "outputs": [],
   "source": [
    "films['Movie'] = films['Movie'].astype('object')"
   ]
  },
  {
   "cell_type": "code",
   "execution_count": 631,
   "id": "4671615a",
   "metadata": {},
   "outputs": [],
   "source": [
    "films['Age'] = films['Age'].astype('object')"
   ]
  },
  {
   "cell_type": "code",
   "execution_count": 632,
   "id": "bb96811b",
   "metadata": {},
   "outputs": [],
   "source": [
    "films['Income'] = films['Income'].astype('object')"
   ]
  },
  {
   "cell_type": "code",
   "execution_count": 633,
   "id": "291f0ee1",
   "metadata": {},
   "outputs": [
    {
     "data": {
      "text/plain": [
       "Movie              object\n",
       "Gender              int64\n",
       "Marital_Status    float64\n",
       "Sinage            float64\n",
       "Parking           float64\n",
       "Clean             float64\n",
       "Overall           float64\n",
       "Age                object\n",
       "Income             object\n",
       "Hear_About         object\n",
       "dtype: object"
      ]
     },
     "execution_count": 633,
     "metadata": {},
     "output_type": "execute_result"
    }
   ],
   "source": [
    "films.dtypes"
   ]
  },
  {
   "cell_type": "markdown",
   "id": "17e3ca24",
   "metadata": {},
   "source": [
    "#### Handling Null values"
   ]
  },
  {
   "cell_type": "code",
   "execution_count": 634,
   "id": "914168e7",
   "metadata": {},
   "outputs": [
    {
     "data": {
      "text/plain": [
       "Movie              0\n",
       "Gender             0\n",
       "Marital_Status     4\n",
       "Sinage             2\n",
       "Parking            2\n",
       "Clean              3\n",
       "Overall            2\n",
       "Age                2\n",
       "Income            16\n",
       "Hear_About         7\n",
       "dtype: int64"
      ]
     },
     "execution_count": 634,
     "metadata": {},
     "output_type": "execute_result"
    }
   ],
   "source": [
    "films.isnull().sum()"
   ]
  },
  {
   "cell_type": "code",
   "execution_count": 635,
   "id": "69ac3ff4",
   "metadata": {},
   "outputs": [],
   "source": [
    "for col in films.columns:\n",
    "    if films[col].dtype == 'object':\n",
    "        films[col].fillna(films[col].mode()[0], inplace = True)\n",
    "    elif films[col].dtype == 'float64':\n",
    "        films[col].fillna(films[col].mean(), inplace = True)    "
   ]
  },
  {
   "cell_type": "code",
   "execution_count": 636,
   "id": "85dd07bb",
   "metadata": {},
   "outputs": [
    {
     "data": {
      "text/plain": [
       "Movie             0\n",
       "Gender            0\n",
       "Marital_Status    0\n",
       "Sinage            0\n",
       "Parking           0\n",
       "Clean             0\n",
       "Overall           0\n",
       "Age               0\n",
       "Income            0\n",
       "Hear_About        0\n",
       "dtype: int64"
      ]
     },
     "execution_count": 636,
     "metadata": {},
     "output_type": "execute_result"
    }
   ],
   "source": [
    "films.isnull().sum()"
   ]
  },
  {
   "cell_type": "markdown",
   "id": "1f326245",
   "metadata": {},
   "source": [
    "####  What is the overall level of customer satisfaction?"
   ]
  },
  {
   "cell_type": "code",
   "execution_count": 637,
   "id": "023fca17",
   "metadata": {},
   "outputs": [
    {
     "name": "stdout",
     "output_type": "stream",
     "text": [
      "Mean 1.621212121212121\n",
      "Standard deviation 0.6878262202585181\n",
      "Standar error 0.037863587260422576\n"
     ]
    }
   ],
   "source": [
    "#Calculating the mean\n",
    "Overall_mean = films['Overall'].mean() \n",
    "print(\"Mean\", Overall_mean)\n",
    "\n",
    "#Calculating the standard deviation\n",
    "Overall_std = films['Overall'].std()\n",
    "print(\"Standard deviation\", Overall_std)\n",
    "\n",
    "#Calculating the Standard error \n",
    "#Count = 330 \n",
    "Overall_SE= Overall_std /  np.sqrt(330)\n",
    "print(\"Standar error\", Overall_SE)"
   ]
  },
  {
   "cell_type": "code",
   "execution_count": 638,
   "id": "be90fef7",
   "metadata": {},
   "outputs": [
    {
     "name": "stdout",
     "output_type": "stream",
     "text": [
      "At 95% CI the overall level of customer satisfaction be between 1.5469994901816928 and 1.6954247522425494 ratings\n"
     ]
    }
   ],
   "source": [
    "#(population)mean \n",
    "print(\"At 95% CI the overall level of customer satisfaction be between\", Overall_mean-1.96 *Overall_SE, \"and\",  Overall_mean+1.96 *Overall_SE, \"ratings\") \n"
   ]
  },
  {
   "cell_type": "markdown",
   "id": "30337b34",
   "metadata": {},
   "source": [
    "####  What factors are linked to satisfaction?"
   ]
  },
  {
   "cell_type": "markdown",
   "id": "c919a791",
   "metadata": {},
   "source": [
    "Some factors that are available in the data set  - gender, marital status, age, income, hear_about (Categorical)"
   ]
  },
  {
   "cell_type": "markdown",
   "id": "17f4f621",
   "metadata": {},
   "source": [
    "### Gender"
   ]
  },
  {
   "cell_type": "code",
   "execution_count": 639,
   "id": "377a9c10",
   "metadata": {},
   "outputs": [],
   "source": [
    "#defining hypothesis statements \n",
    "#H0: There is no relationship between gender and the overall satisfaction \n",
    "#Ha: There is a relationship between gender and the overall satisfaction \n",
    "#CI - 95%, p_value = 0.05%"
   ]
  },
  {
   "cell_type": "markdown",
   "id": "9f446830",
   "metadata": {},
   "source": [
    "#### Independent ttest "
   ]
  },
  {
   "cell_type": "code",
   "execution_count": 640,
   "id": "d2e22d02",
   "metadata": {},
   "outputs": [
    {
     "name": "stdout",
     "output_type": "stream",
     "text": [
      "The average value of Male contribution to the overall 1.6923076923076923\n",
      "The average value of Female contribution to the overall 1.5821596244131455\n"
     ]
    }
   ],
   "source": [
    "#filtering the data\n",
    "Var_name = 'Overall'\n",
    "\n",
    "Male = films.loc[films['Gender'] == 1, Var_name]\n",
    "Female = films.loc[films['Gender']== 2, Var_name]\n",
    "#calculating mean\n",
    "print('The average value of Male contribution to the overall', Male.mean())\n",
    "print('The average value of Female contribution to the overall', Female.mean())"
   ]
  },
  {
   "cell_type": "code",
   "execution_count": 642,
   "id": "940cc498",
   "metadata": {},
   "outputs": [
    {
     "data": {
      "text/plain": [
       "Ttest_indResult(statistic=1.393621669674226, pvalue=0.16437541932112798)"
      ]
     },
     "execution_count": 642,
     "metadata": {},
     "output_type": "execute_result"
    }
   ],
   "source": [
    "#performing the test \n",
    "stats.ttest_ind(Male, Female)"
   ]
  },
  {
   "cell_type": "markdown",
   "id": "45f482d5",
   "metadata": {},
   "source": [
    "CONCLUSION:\n",
    "Since the calculate p_value is greater than the defined p_value, we fail to reject the null hypothesis. And also we can claim that Gender is one of the factors that is not linked to overall satisfaction"
   ]
  },
  {
   "cell_type": "markdown",
   "id": "d441cd1d",
   "metadata": {},
   "source": [
    "### Marital status"
   ]
  },
  {
   "cell_type": "code",
   "execution_count": 639,
   "id": "932480a1",
   "metadata": {},
   "outputs": [],
   "source": [
    "#defining hypothesis statements \n",
    "#H0: There is no relationship between Marital status and the overall satisfaction \n",
    "#Ha: There is a relationship between Marital status and the overall satisfaction \n",
    "#CI - 95%, p_value = 0.05%"
   ]
  },
  {
   "cell_type": "markdown",
   "id": "45649ae2",
   "metadata": {},
   "source": [
    "#### Independent ttest "
   ]
  },
  {
   "cell_type": "code",
   "execution_count": 672,
   "id": "3dcaf244",
   "metadata": {},
   "outputs": [
    {
     "name": "stdout",
     "output_type": "stream",
     "text": [
      "The average value of Single people contribution to the overall 1.6391304347826088\n",
      "The average value of Married peoplecontribution to the overall 1.58\n"
     ]
    }
   ],
   "source": [
    "#filtering the data\n",
    "Var_status = 'Overall'\n",
    "\n",
    "Single = films.loc[films['Marital_Status'] == 2, Var_status ]\n",
    "Married = films.loc[films['Marital_Status']== 1, Var_status ]\n",
    "#calculating mean\n",
    "print('The average value of Single people contribution to the overall', Single.mean())\n",
    "print('The average value of Married peoplecontribution to the overall', Married.mean())"
   ]
  },
  {
   "cell_type": "code",
   "execution_count": 673,
   "id": "2b3641d2",
   "metadata": {},
   "outputs": [
    {
     "data": {
      "text/plain": [
       "Ttest_indResult(statistic=0.7171640309514444, pvalue=0.47378328196635067)"
      ]
     },
     "execution_count": 673,
     "metadata": {},
     "output_type": "execute_result"
    }
   ],
   "source": [
    "#performing the test \n",
    "stats.ttest_ind(Single, Married)"
   ]
  },
  {
   "cell_type": "markdown",
   "id": "3b788d41",
   "metadata": {},
   "source": [
    "CONCLUSION:\n",
    "Since the calculate p_value is greater than the defined p_value, we fail to reject the null hypothesis. And also we can claim that Marital_status is one of the factors that is not linked to overall satisfaction"
   ]
  },
  {
   "cell_type": "markdown",
   "id": "712ae1b7",
   "metadata": {},
   "source": [
    "### Hear_About"
   ]
  },
  {
   "cell_type": "code",
   "execution_count": 639,
   "id": "e019ca8b",
   "metadata": {},
   "outputs": [],
   "source": [
    "#defining hypothesis statements \n",
    "#H0: There is no relationship between  Hear about and the overall satisfaction \n",
    "#Ha: There is a relationship between Hear about and the overall satisfaction \n",
    "#CI - 95%, p_value = 0.05%"
   ]
  },
  {
   "cell_type": "markdown",
   "id": "5808e47e",
   "metadata": {},
   "source": [
    "#### F-TEST"
   ]
  },
  {
   "cell_type": "code",
   "execution_count": 674,
   "id": "15d6ba4e",
   "metadata": {},
   "outputs": [
    {
     "data": {
      "text/plain": [
       "array(['5', '1', '4', '2', '3', '4,5', '2,5', '1,5', '3,4', '5,4', '3,5'],\n",
       "      dtype=object)"
      ]
     },
     "execution_count": 674,
     "metadata": {},
     "output_type": "execute_result"
    }
   ],
   "source": [
    "films['Hear_About'].unique()"
   ]
  },
  {
   "cell_type": "code",
   "execution_count": 680,
   "id": "2969b7bf",
   "metadata": {},
   "outputs": [
    {
     "name": "stdout",
     "output_type": "stream",
     "text": [
      "The average value of people visited cause of telivision medium contribution to the overall 1.8636363636363635\n",
      "The average value of people visited cause of newspaper medium contribution to the overall 1.25\n",
      "The average value of people visited cause of radio medium contribution to the overall 1.2857142857142858\n",
      "The average value of people visited cause of website medium contribution to the overall 1.6585365853658536\n",
      "The average value of people visited cause of word of mouth medium contribution to the overall 1.6437768240343347\n",
      "The average value of people visited cause of Website and Word of mouth medium contribution to the overall 1.0\n",
      "The average value of people visited cause of Newspaper_Word_of_mouth medium contribution to the overall 1.5\n",
      "The average value of people visited cause of Television_Word_of_mouth medium contribution to the overall 2.0\n",
      "The average value of people visited cause of Radio_Word_of_mouth medium contribution to the overall 1.0\n",
      "The average value of people visited cause of Radio_Website medium contribution to the overall 1.0\n",
      "The average value of people visited cause of Word_of_mouth_Website medium contribution to the overall 1.0\n"
     ]
    }
   ],
   "source": [
    "#filtering the data\n",
    "Var_hear = 'Overall'\n",
    "\n",
    "Television  = films.loc[films['Hear_About'] == '1', Var_hear]\n",
    "Newspaper  = films.loc[films['Hear_About'] == \"2\", Var_hear]\n",
    "Radio = films.loc[films['Hear_About'] == \"3\", Var_hear]\n",
    "Website = films.loc[films['Hear_About'] == \"4\", Var_hear]\n",
    "Word_of_mouth = films.loc[films['Hear_About'] == \"5\", Var_hear]\n",
    "Website_Word_of_mouth =films.loc[films['Hear_About'] == \"4,5\", Var_hear]\n",
    "Newspaper_Word_of_mouth =films.loc[films['Hear_About'] == \"2,5\", Var_hear]\n",
    "Television_Word_of_mouth =films.loc[films['Hear_About'] == \"1,5\", Var_hear]\n",
    "Radio_Word_of_mouth =films.loc[films['Hear_About'] == \"3,5\", Var_hear]\n",
    "Radio_Website =films.loc[films['Hear_About'] == \"3,4\", Var_hear]\n",
    "Word_of_mouth_Website =films.loc[films['Hear_About'] == \"4,5\", Var_hear]\n",
    "\n",
    "#calculating mean\n",
    "print('The average value of people visited cause of telivision medium contribution to the overall', Television.mean())\n",
    "print('The average value of people visited cause of newspaper medium contribution to the overall', Newspaper.mean())\n",
    "print('The average value of people visited cause of radio medium contribution to the overall', Radio.mean())\n",
    "print('The average value of people visited cause of website medium contribution to the overall', Website.mean())\n",
    "print('The average value of people visited cause of word of mouth medium contribution to the overall', Word_of_mouth.mean())\n",
    "print('The average value of people visited cause of Website and Word of mouth medium contribution to the overall', Website_Word_of_mouth.mean())\n",
    "print('The average value of people visited cause of Newspaper_Word_of_mouth medium contribution to the overall', Newspaper_Word_of_mouth.mean())\n",
    "print('The average value of people visited cause of Television_Word_of_mouth medium contribution to the overall', Television_Word_of_mouth.mean())\n",
    "print('The average value of people visited cause of Radio_Word_of_mouth medium contribution to the overall', Radio_Word_of_mouth.mean())\n",
    "print('The average value of people visited cause of Radio_Website medium contribution to the overall', Radio_Website.mean())\n",
    "print('The average value of people visited cause of Word_of_mouth_Website medium contribution to the overall', Word_of_mouth_Website.mean())"
   ]
  },
  {
   "cell_type": "code",
   "execution_count": 681,
   "id": "6781efa7",
   "metadata": {},
   "outputs": [
    {
     "data": {
      "text/plain": [
       "F_onewayResult(statistic=1.4573975390851377, pvalue=0.15433478299883888)"
      ]
     },
     "execution_count": 681,
     "metadata": {},
     "output_type": "execute_result"
    }
   ],
   "source": [
    "#performing the test \n",
    "stats.f_oneway(Television, Newspaper, Radio, Website, Word_of_mouth, Website_Word_of_mouth, Newspaper_Word_of_mouth, Television_Word_of_mouth, Radio_Word_of_mouth, Radio_Website, Word_of_mouth_Website)"
   ]
  },
  {
   "cell_type": "markdown",
   "id": "a6eace66",
   "metadata": {},
   "source": [
    "CONCLUSION:\n",
    "Since the calculate p_value is greater than the defined p_value, we fail to reject the null hypothesis. And also we can claim that Hear About is one of the factors that is not linked to overall satisfaction"
   ]
  },
  {
   "cell_type": "markdown",
   "id": "65622313",
   "metadata": {},
   "source": [
    "### Age "
   ]
  },
  {
   "cell_type": "code",
   "execution_count": 639,
   "id": "798f908f",
   "metadata": {},
   "outputs": [],
   "source": [
    "#defining hypothesis statements \n",
    "#H0: There is no relationship between age group and the overall satisfaction \n",
    "#Ha: There is a relationship between age group and the overall satisfaction \n",
    "#CI - 95%, p_value = 0.05%"
   ]
  },
  {
   "cell_type": "markdown",
   "id": "50f78abe",
   "metadata": {},
   "source": [
    "#### F-TEST"
   ]
  },
  {
   "cell_type": "code",
   "execution_count": 659,
   "id": "5c9bc6ca",
   "metadata": {},
   "outputs": [
    {
     "name": "stdout",
     "output_type": "stream",
     "text": [
      "The average value of Lessthan_equalto_12 year age group contribution to the overall 1.5384615384615385\n",
      "The average value of Between_13_30 year age group contribution to the overall 1.6779661016949152\n",
      "The average value of Between_31_60 year age group contribution to the overall 1.547008547008547\n",
      "The average value of Above_60 year age group contribution to the overall 1.7\n"
     ]
    }
   ],
   "source": [
    "#filtering the data\n",
    "Var_age = 'Overall'\n",
    "\n",
    "Lessthan_equalto_12  = films.loc[films['Age'] == 1, Var_age]\n",
    "Between_13_30 = films.loc[films['Age'] == 2, Var_age]\n",
    "Between_31_60 = films.loc[films['Age'] == 3, Var_age]\n",
    "Above_60  = films.loc[films['Age'] == 4, Var_age]\n",
    "#calculating mean\n",
    "print('The average value of Lessthan_equalto_12 year age group contribution to the overall', Lessthan_equalto_12.mean())\n",
    "print('The average value of Between_13_30 year age group contribution to the overall', Between_13_30.mean())\n",
    "print('The average value of Between_31_60 year age group contribution to the overall', Between_31_60.mean())\n",
    "print('The average value of Above_60 year age group contribution to the overall', Above_60.mean())"
   ]
  },
  {
   "cell_type": "code",
   "execution_count": 660,
   "id": "38cb96bf",
   "metadata": {},
   "outputs": [
    {
     "data": {
      "text/plain": [
       "F_onewayResult(statistic=1.0249927945692117, pvalue=0.3816737451872579)"
      ]
     },
     "execution_count": 660,
     "metadata": {},
     "output_type": "execute_result"
    }
   ],
   "source": [
    "#performing the test \n",
    "stats.f_oneway(Lessthan_equalto_12 , Between_13_30, Between_31_60, Above_60  )"
   ]
  },
  {
   "cell_type": "markdown",
   "id": "5655a1ba",
   "metadata": {},
   "source": [
    "CONCLUSION:\n",
    "Since the calculate p_value is greater than the defined p_value, we fail to reject the null hypothesis. And also we can claim that Age group is one of the factors that is not linked to overall satisfaction"
   ]
  },
  {
   "cell_type": "markdown",
   "id": "0411a458",
   "metadata": {},
   "source": [
    "### Income"
   ]
  },
  {
   "cell_type": "code",
   "execution_count": 639,
   "id": "ed816916",
   "metadata": {},
   "outputs": [],
   "source": [
    "#defining hypothesis statements \n",
    "#H0: There is no relationship between income range and the overall satisfaction \n",
    "#Ha: There is a relationship between income range and the overall satisfaction \n",
    "#CI - 95%, p_value = 0.05%"
   ]
  },
  {
   "cell_type": "markdown",
   "id": "ef471334",
   "metadata": {},
   "source": [
    "##### F-TEST"
   ]
  },
  {
   "cell_type": "code",
   "execution_count": 670,
   "id": "9fdcd12e",
   "metadata": {},
   "outputs": [
    {
     "name": "stdout",
     "output_type": "stream",
     "text": [
      "The average value of lessthan_50000_dollars income range contribution to the overall 1.639240506329114\n",
      "The average value of Between_50000_100000_dollars  income range contribution to the overall 1.5853658536585367\n",
      "The average value of morethan_100000_dollars income range contribution to the overall 1.6222222222222222\n"
     ]
    }
   ],
   "source": [
    "#filtering the data\n",
    "Var_income = 'Overall'\n",
    "\n",
    "lessthan_50000_dollars = films.loc[films['Income'] == 1, Var_income]\n",
    "Between_50000_100000_dollars = films.loc[films['Income'] == 2, Var_income]\n",
    "morethan_100000_dollars  = films.loc[films['Income'] == 3, Var_income]\n",
    "\n",
    "#calculating mean\n",
    "print('The average value of lessthan_50000_dollars income range contribution to the overall', lessthan_50000_dollars.mean())\n",
    "print('The average value of Between_50000_100000_dollars  income range contribution to the overall', Between_50000_100000_dollars.mean())\n",
    "print('The average value of morethan_100000_dollars income range contribution to the overall', morethan_100000_dollars .mean())"
   ]
  },
  {
   "cell_type": "code",
   "execution_count": 671,
   "id": "aa29b77b",
   "metadata": {},
   "outputs": [
    {
     "data": {
      "text/plain": [
       "F_onewayResult(statistic=0.16488481054397225, pvalue=0.8480618362664597)"
      ]
     },
     "execution_count": 671,
     "metadata": {},
     "output_type": "execute_result"
    }
   ],
   "source": [
    "#performing the test \n",
    "stats.f_oneway(lessthan_50000_dollars  ,Between_50000_100000_dollars , morethan_100000_dollars  )"
   ]
  },
  {
   "cell_type": "markdown",
   "id": "feccffcb",
   "metadata": {},
   "source": [
    "CONCLUSION:\n",
    "Since the calculate p_value is greater than the defined p_value, we fail to reject the null hypothesis. And also we can claim that Income range is one of the factors that is not linked to overall satisfaction"
   ]
  },
  {
   "cell_type": "markdown",
   "id": "4b2499c1",
   "metadata": {},
   "source": [
    "### Signage"
   ]
  },
  {
   "cell_type": "code",
   "execution_count": null,
   "id": "3a633d29",
   "metadata": {},
   "outputs": [],
   "source": [
    "#defining hypothesis statements \n",
    "#H0: There is no relationship between Signage and the overall satisfaction \n",
    "#Ha: There is a relationship between Signage and the overall satisfaction \n",
    "#CI - 95%, p_value = 0.05%"
   ]
  },
  {
   "cell_type": "markdown",
   "id": "2c767694",
   "metadata": {},
   "source": [
    "#### Relational ttest"
   ]
  },
  {
   "cell_type": "code",
   "execution_count": 682,
   "id": "fa93a183",
   "metadata": {},
   "outputs": [
    {
     "data": {
      "text/plain": [
       "Index(['Movie', 'Gender', 'Marital_Status', 'Sinage', 'Parking', 'Clean',\n",
       "       'Overall', 'Age', 'Income', 'Hear_About'],\n",
       "      dtype='object')"
      ]
     },
     "execution_count": 682,
     "metadata": {},
     "output_type": "execute_result"
    }
   ],
   "source": [
    "films.columns"
   ]
  },
  {
   "cell_type": "code",
   "execution_count": 684,
   "id": "1fce0322",
   "metadata": {},
   "outputs": [
    {
     "name": "stdout",
     "output_type": "stream",
     "text": [
      "Signage mean: 1.8848484848484848\n",
      "Overall mean: 1.621212121212121\n"
     ]
    }
   ],
   "source": [
    "# print the means\n",
    "print('Signage mean:', films.Sinage.mean())\n",
    "print( 'Overall mean:',films.Overall.mean() )"
   ]
  },
  {
   "cell_type": "code",
   "execution_count": 686,
   "id": "238f0725",
   "metadata": {},
   "outputs": [
    {
     "data": {
      "text/plain": [
       "Ttest_relResult(statistic=5.630068775654934, pvalue=3.863876710367943e-08)"
      ]
     },
     "execution_count": 686,
     "metadata": {},
     "output_type": "execute_result"
    }
   ],
   "source": [
    "# perform the test\n",
    "stats.ttest_rel( films.Sinage, films.Overall )"
   ]
  },
  {
   "cell_type": "markdown",
   "id": "64d1c08b",
   "metadata": {},
   "source": [
    "CONCLUSION:\n",
    "Since the calculate p_value is lesser than the defined p_value, we fail to reject the alternate hypothesis. And also we can claim that Signage is one of the factors that is linked to overall satisfaction i..e Signage voting is related to the overall voting "
   ]
  },
  {
   "cell_type": "markdown",
   "id": "237327af",
   "metadata": {},
   "source": [
    "### Parking"
   ]
  },
  {
   "cell_type": "code",
   "execution_count": null,
   "id": "1cc5cf68",
   "metadata": {},
   "outputs": [],
   "source": [
    "#defining hypothesis statements \n",
    "#H0: There is no relationship between Parking and the overall satisfaction \n",
    "#Ha: There is a relationship between Parking and the overall satisfaction \n",
    "#CI - 95%, p_value = 0.05%"
   ]
  },
  {
   "cell_type": "markdown",
   "id": "d099266c",
   "metadata": {},
   "source": [
    "#### Relational ttest"
   ]
  },
  {
   "cell_type": "code",
   "execution_count": 682,
   "id": "f726076f",
   "metadata": {},
   "outputs": [
    {
     "data": {
      "text/plain": [
       "Index(['Movie', 'Gender', 'Marital_Status', 'Sinage', 'Parking', 'Clean',\n",
       "       'Overall', 'Age', 'Income', 'Hear_About'],\n",
       "      dtype='object')"
      ]
     },
     "execution_count": 682,
     "metadata": {},
     "output_type": "execute_result"
    }
   ],
   "source": [
    "films.columns"
   ]
  },
  {
   "cell_type": "code",
   "execution_count": 687,
   "id": "6664dc1f",
   "metadata": {},
   "outputs": [
    {
     "name": "stdout",
     "output_type": "stream",
     "text": [
      "Parking mean: 1.7575757575757576\n",
      "Overall mean: 1.621212121212121\n"
     ]
    }
   ],
   "source": [
    "# print the means\n",
    "print('Parking mean:', films.Parking.mean())\n",
    "print( 'Overall mean:',films.Overall.mean() )"
   ]
  },
  {
   "cell_type": "code",
   "execution_count": 688,
   "id": "22ac3b3b",
   "metadata": {},
   "outputs": [
    {
     "data": {
      "text/plain": [
       "Ttest_relResult(statistic=3.359637845794096, pvalue=0.0008721389083915314)"
      ]
     },
     "execution_count": 688,
     "metadata": {},
     "output_type": "execute_result"
    }
   ],
   "source": [
    "# perform the test\n",
    "stats.ttest_rel( films.Parking, films.Overall )"
   ]
  },
  {
   "cell_type": "markdown",
   "id": "e9c0b0c4",
   "metadata": {},
   "source": [
    "CONCLUSION:\n",
    "Since the calculate p_value is lesser than the defined p_value, we fail to reject the alternate hypothesis. And also we can claim that Parking is one of the factors that is linked to overall satisfaction i..e Parking voting is related to the overall voting "
   ]
  },
  {
   "cell_type": "markdown",
   "id": "6fcdaa04",
   "metadata": {},
   "source": [
    "### Clean"
   ]
  },
  {
   "cell_type": "code",
   "execution_count": null,
   "id": "3f51a877",
   "metadata": {},
   "outputs": [],
   "source": [
    "#defining hypothesis statements \n",
    "#H0: There is no relationship between Cleaning and the overall satisfaction \n",
    "#Ha: There is a relationship between Cleaning and the overall satisfaction \n",
    "#CI - 95%, p_value = 0.05%"
   ]
  },
  {
   "cell_type": "markdown",
   "id": "c7614303",
   "metadata": {},
   "source": [
    "#### Relational ttest"
   ]
  },
  {
   "cell_type": "code",
   "execution_count": 682,
   "id": "82814e97",
   "metadata": {},
   "outputs": [
    {
     "data": {
      "text/plain": [
       "Index(['Movie', 'Gender', 'Marital_Status', 'Sinage', 'Parking', 'Clean',\n",
       "       'Overall', 'Age', 'Income', 'Hear_About'],\n",
       "      dtype='object')"
      ]
     },
     "execution_count": 682,
     "metadata": {},
     "output_type": "execute_result"
    }
   ],
   "source": [
    "films.columns"
   ]
  },
  {
   "cell_type": "code",
   "execution_count": 689,
   "id": "74f95713",
   "metadata": {},
   "outputs": [
    {
     "name": "stdout",
     "output_type": "stream",
     "text": [
      "Cleaning mean: 1.6848484848484848\n",
      "Overall mean: 1.621212121212121\n"
     ]
    }
   ],
   "source": [
    "# print the means\n",
    "print('Cleaning mean:', films.Clean.mean())\n",
    "print('Overall mean:',films.Overall.mean())"
   ]
  },
  {
   "cell_type": "code",
   "execution_count": 690,
   "id": "9f471eeb",
   "metadata": {},
   "outputs": [
    {
     "data": {
      "text/plain": [
       "Ttest_relResult(statistic=1.4344815475044008, pvalue=0.15238471870526968)"
      ]
     },
     "execution_count": 690,
     "metadata": {},
     "output_type": "execute_result"
    }
   ],
   "source": [
    "# perform the test\n",
    "stats.ttest_rel( films.Clean, films.Overall )"
   ]
  },
  {
   "cell_type": "markdown",
   "id": "dad2f378",
   "metadata": {},
   "source": [
    "CONCLUSION:\n",
    "Since the calculate p_value is greater than the defined p_value, we fail to reject the null hypothesis. And also we can claim that Cleaning is one of the factors that is not linked to overall satisfaction i..e Cleaning voting is not related to the overall voting "
   ]
  },
  {
   "cell_type": "markdown",
   "id": "9cbe6aae",
   "metadata": {},
   "source": [
    "###  CONCLUSION\n",
    "\n",
    "Only the factors or voting of the Parking and the Signage affecting the overall voting. No other factors is linked with overall."
   ]
  },
  {
   "cell_type": "markdown",
   "id": "346ffdbf",
   "metadata": {},
   "source": [
    "####  What is the demographic profile of Film on the Rocks patrons?"
   ]
  },
  {
   "cell_type": "markdown",
   "id": "2d4d3248",
   "metadata": {},
   "source": [
    "#### Percentage of male and female patron for the Flim on the Rocks "
   ]
  },
  {
   "cell_type": "code",
   "execution_count": 644,
   "id": "c96e6d5a",
   "metadata": {},
   "outputs": [],
   "source": [
    "gender_counts = films['Gender'].value_counts()"
   ]
  },
  {
   "cell_type": "code",
   "execution_count": 646,
   "id": "38f5ace2",
   "metadata": {},
   "outputs": [],
   "source": [
    "total_count = gender_counts.sum()"
   ]
  },
  {
   "cell_type": "code",
   "execution_count": 648,
   "id": "9c69d192",
   "metadata": {},
   "outputs": [],
   "source": [
    "male_percentage = (gender_counts[1]  / total_count) * 100\n",
    "female_percentage = (gender_counts[2] / total_count) * 100"
   ]
  },
  {
   "cell_type": "code",
   "execution_count": 720,
   "id": "3831b022",
   "metadata": {},
   "outputs": [
    {
     "data": {
      "text/plain": [
       "(35.45454545454545, 64.54545454545455)"
      ]
     },
     "execution_count": 720,
     "metadata": {},
     "output_type": "execute_result"
    }
   ],
   "source": [
    "male_percentage, female_percentage"
   ]
  },
  {
   "cell_type": "markdown",
   "id": "8a7ee03c",
   "metadata": {},
   "source": [
    "#### Percentage based on age group of the patrons for the Flim on the Rocks "
   ]
  },
  {
   "cell_type": "code",
   "execution_count": 691,
   "id": "e46af8d9",
   "metadata": {},
   "outputs": [],
   "source": [
    "Age_counts = films['Age'].value_counts()"
   ]
  },
  {
   "cell_type": "code",
   "execution_count": 694,
   "id": "ef0ef430",
   "metadata": {},
   "outputs": [
    {
     "data": {
      "text/plain": [
       "2.0    177\n",
       "3.0    117\n",
       "1.0     26\n",
       "4.0     10\n",
       "Name: Age, dtype: int64"
      ]
     },
     "execution_count": 694,
     "metadata": {},
     "output_type": "execute_result"
    }
   ],
   "source": [
    "films['Age'].value_counts()"
   ]
  },
  {
   "cell_type": "code",
   "execution_count": 692,
   "id": "103802c9",
   "metadata": {},
   "outputs": [],
   "source": [
    "Age_total_counts = Age_counts.sum()"
   ]
  },
  {
   "cell_type": "code",
   "execution_count": 693,
   "id": "34f2c852",
   "metadata": {},
   "outputs": [
    {
     "data": {
      "text/plain": [
       "330"
      ]
     },
     "execution_count": 693,
     "metadata": {},
     "output_type": "execute_result"
    }
   ],
   "source": [
    "Age_total_counts"
   ]
  },
  {
   "cell_type": "code",
   "execution_count": 695,
   "id": "739de037",
   "metadata": {},
   "outputs": [],
   "source": [
    "Lessthan_equalto_12 = (Age_counts[1] / Age_total_counts) * 100\n",
    "Between_13_30  = (Age_counts[2] / Age_total_counts) * 100\n",
    "Between_31_60  = (Age_counts[3] / Age_total_counts) * 100\n",
    "Above_60 = (Age_counts[4] / Age_total_counts) * 100"
   ]
  },
  {
   "cell_type": "code",
   "execution_count": 719,
   "id": "765cd43b",
   "metadata": {},
   "outputs": [
    {
     "data": {
      "text/plain": [
       "(7.878787878787878, 53.63636363636364, 35.45454545454545, 3.0303030303030303)"
      ]
     },
     "execution_count": 719,
     "metadata": {},
     "output_type": "execute_result"
    }
   ],
   "source": [
    "Lessthan_equalto_12, Between_13_30, Between_31_60, Above_60"
   ]
  },
  {
   "cell_type": "markdown",
   "id": "c50deebd",
   "metadata": {},
   "source": [
    "#### Percentage based on marital status of the patrons for the Flim on the Rocks "
   ]
  },
  {
   "cell_type": "code",
   "execution_count": 703,
   "id": "05ec03e5",
   "metadata": {},
   "outputs": [],
   "source": [
    "Status_counts = films['Marital_Status'].value_counts()"
   ]
  },
  {
   "cell_type": "code",
   "execution_count": 705,
   "id": "4f35d700",
   "metadata": {},
   "outputs": [
    {
     "data": {
      "text/plain": [
       "2.0    230\n",
       "1.0    100\n",
       "Name: Marital_Status, dtype: int64"
      ]
     },
     "execution_count": 705,
     "metadata": {},
     "output_type": "execute_result"
    }
   ],
   "source": [
    "films['Marital_Status'].value_counts()"
   ]
  },
  {
   "cell_type": "code",
   "execution_count": 704,
   "id": "71976569",
   "metadata": {},
   "outputs": [],
   "source": [
    "Marital_status_totalcount = Status_counts.sum()"
   ]
  },
  {
   "cell_type": "code",
   "execution_count": 706,
   "id": "c7c2e125",
   "metadata": {},
   "outputs": [],
   "source": [
    "Married = (Status_counts[1] /Marital_status_totalcount) * 100\n",
    "Single = (Status_counts[2] /Marital_status_totalcount) * 100"
   ]
  },
  {
   "cell_type": "code",
   "execution_count": 718,
   "id": "b7a01e1c",
   "metadata": {},
   "outputs": [
    {
     "data": {
      "text/plain": [
       "(30.303030303030305, 69.6969696969697)"
      ]
     },
     "execution_count": 718,
     "metadata": {},
     "output_type": "execute_result"
    }
   ],
   "source": [
    "Married, Single"
   ]
  },
  {
   "cell_type": "markdown",
   "id": "9d9545ec",
   "metadata": {},
   "source": [
    "#### Percentage based on Income range of the patrons for the Flim on the Rocks "
   ]
  },
  {
   "cell_type": "code",
   "execution_count": 712,
   "id": "c00f15a9",
   "metadata": {},
   "outputs": [],
   "source": [
    "Income_counts = films['Income'].value_counts()"
   ]
  },
  {
   "cell_type": "code",
   "execution_count": 713,
   "id": "57426f48",
   "metadata": {},
   "outputs": [],
   "source": [
    "Income_totalcounts = Income_counts.sum()"
   ]
  },
  {
   "cell_type": "code",
   "execution_count": 716,
   "id": "18e2ae2f",
   "metadata": {},
   "outputs": [],
   "source": [
    "lessthan_50000_dollars = (Income_counts[1] / Income_totalcounts ) * 100\n",
    "Between_50000_and_100000 =(Income_counts[2] / Income_totalcounts ) * 100\n",
    "morethan_100000_dollars  =(Income_counts[3] / Income_totalcounts ) * 100"
   ]
  },
  {
   "cell_type": "code",
   "execution_count": 717,
   "id": "7c07e0a7",
   "metadata": {},
   "outputs": [
    {
     "data": {
      "text/plain": [
       "(47.878787878787875, 24.848484848484848, 27.27272727272727)"
      ]
     },
     "execution_count": 717,
     "metadata": {},
     "output_type": "execute_result"
    }
   ],
   "source": [
    "lessthan_50000_dollars, Between_50000_and_100000, morethan_100000_dollars"
   ]
  },
  {
   "cell_type": "markdown",
   "id": "7cead7c9",
   "metadata": {},
   "source": [
    "####  In what media outlet(s) should the film series be advertised?"
   ]
  },
  {
   "cell_type": "code",
   "execution_count": 663,
   "id": "fcf9778b",
   "metadata": {},
   "outputs": [],
   "source": [
    "Hear_about_counts = films['Hear_About'].value_counts()"
   ]
  },
  {
   "cell_type": "code",
   "execution_count": 664,
   "id": "d5678a46",
   "metadata": {},
   "outputs": [
    {
     "data": {
      "text/plain": [
       "5      233\n",
       "4       41\n",
       "1       22\n",
       "3       14\n",
       "2       12\n",
       "2,5      2\n",
       "3,4      2\n",
       "4,5      1\n",
       "1,5      1\n",
       "5,4      1\n",
       "3,5      1\n",
       "Name: Hear_About, dtype: int64"
      ]
     },
     "execution_count": 664,
     "metadata": {},
     "output_type": "execute_result"
    }
   ],
   "source": [
    "films['Hear_About'].value_counts()"
   ]
  },
  {
   "cell_type": "markdown",
   "id": "95236a31",
   "metadata": {},
   "source": [
    "From the value count observation, We can say many patron have visited because of \"Word of Mouth\".\n",
    "\n",
    "Secondly, coming to the advertisement part, Website and Newspaper medium have high count od pulling patron to Film on the Rocks. So it is best to advertise in the Website and Newspaper medium."
   ]
  }
 ],
 "metadata": {
  "kernelspec": {
   "display_name": "Python 3 (ipykernel)",
   "language": "python",
   "name": "python3"
  },
  "language_info": {
   "codemirror_mode": {
    "name": "ipython",
    "version": 3
   },
   "file_extension": ".py",
   "mimetype": "text/x-python",
   "name": "python",
   "nbconvert_exporter": "python",
   "pygments_lexer": "ipython3",
   "version": "3.9.13"
  }
 },
 "nbformat": 4,
 "nbformat_minor": 5
}
